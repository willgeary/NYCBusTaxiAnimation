{
 "cells": [
  {
   "cell_type": "markdown",
   "metadata": {},
   "source": [
    "# Visualizing NYC Bus Timetables"
   ]
  },
  {
   "cell_type": "markdown",
   "metadata": {},
   "source": [
    "Data source:\n",
    "\n",
    "http://web.mta.info/developers/data/nyct/bus/google_transit_bronx.zip\n",
    "\n",
    "http://web.mta.info/developers/data/nyct/bus/google_transit_brooklyn.zip\n",
    "\n",
    "http://web.mta.info/developers/data/nyct/bus/google_transit_manhattan.zip\n",
    "\n",
    "http://web.mta.info/developers/data/nyct/bus/google_transit_queens.zip\n",
    "\n",
    "http://web.mta.info/developers/data/nyct/bus/google_transit_staten_island.zip"
   ]
  },
  {
   "cell_type": "markdown",
   "metadata": {},
   "source": [
    "Import libraries."
   ]
  },
  {
   "cell_type": "code",
   "execution_count": 1,
   "metadata": {
    "collapsed": true
   },
   "outputs": [],
   "source": [
    "import pandas as pd\n",
    "import numpy as np\n",
    "import datetime as dt"
   ]
  },
  {
   "cell_type": "markdown",
   "metadata": {},
   "source": [
    "# Brooklyn"
   ]
  },
  {
   "cell_type": "markdown",
   "metadata": {},
   "source": [
    "### Load GTFS data"
   ]
  },
  {
   "cell_type": "code",
   "execution_count": 2,
   "metadata": {
    "collapsed": true
   },
   "outputs": [],
   "source": [
    "agency = pd.read_csv('gtfs/brooklyn/agency.txt')\n",
    "calendar_dates = pd.read_csv('gtfs/brooklyn/calendar_dates.txt')\n",
    "calendar = pd.read_csv('gtfs/brooklyn/calendar.txt')\n",
    "routes = pd.read_csv('gtfs/brooklyn/routes.txt')\n",
    "shapes = pd.read_csv('gtfs/brooklyn/shapes.txt')\n",
    "stop_times = pd.read_csv('gtfs/brooklyn/stop_times.txt')\n",
    "stops = pd.read_csv('gtfs/brooklyn/stops.txt')\n",
    "trips = pd.read_csv('gtfs/brooklyn/trips.txt')"
   ]
  },
  {
   "cell_type": "markdown",
   "metadata": {},
   "source": [
    "### Preview the data"
   ]
  },
  {
   "cell_type": "code",
   "execution_count": 3,
   "metadata": {
    "collapsed": false
   },
   "outputs": [
    {
     "data": {
      "text/html": [
       "<div>\n",
       "<table border=\"1\" class=\"dataframe\">\n",
       "  <thead>\n",
       "    <tr style=\"text-align: right;\">\n",
       "      <th></th>\n",
       "      <th>agency_id</th>\n",
       "      <th>agency_name</th>\n",
       "      <th>agency_url</th>\n",
       "      <th>agency_timezone</th>\n",
       "      <th>agency_lang</th>\n",
       "      <th>agency_phone</th>\n",
       "    </tr>\n",
       "  </thead>\n",
       "  <tbody>\n",
       "    <tr>\n",
       "      <th>0</th>\n",
       "      <td>MTA NYCT</td>\n",
       "      <td>MTA New York City Transit</td>\n",
       "      <td>http://www.mta.info</td>\n",
       "      <td>America/New_York</td>\n",
       "      <td>en</td>\n",
       "      <td>718-330-1234</td>\n",
       "    </tr>\n",
       "  </tbody>\n",
       "</table>\n",
       "</div>"
      ],
      "text/plain": [
       "  agency_id                agency_name            agency_url  \\\n",
       "0  MTA NYCT  MTA New York City Transit   http://www.mta.info   \n",
       "\n",
       "    agency_timezone agency_lang  agency_phone  \n",
       "0  America/New_York          en  718-330-1234  "
      ]
     },
     "execution_count": 3,
     "metadata": {},
     "output_type": "execute_result"
    }
   ],
   "source": [
    "agency.head()"
   ]
  },
  {
   "cell_type": "code",
   "execution_count": 4,
   "metadata": {
    "collapsed": false
   },
   "outputs": [
    {
     "data": {
      "text/html": [
       "<div>\n",
       "<table border=\"1\" class=\"dataframe\">\n",
       "  <thead>\n",
       "    <tr style=\"text-align: right;\">\n",
       "      <th></th>\n",
       "      <th>service_id</th>\n",
       "      <th>date</th>\n",
       "      <th>exception_type</th>\n",
       "    </tr>\n",
       "  </thead>\n",
       "  <tbody>\n",
       "    <tr>\n",
       "      <th>0</th>\n",
       "      <td>EN_A7-Weekday-SDon</td>\n",
       "      <td>20170116</td>\n",
       "      <td>2</td>\n",
       "    </tr>\n",
       "    <tr>\n",
       "      <th>1</th>\n",
       "      <td>EN_A7-Weekday-SDon</td>\n",
       "      <td>20170220</td>\n",
       "      <td>2</td>\n",
       "    </tr>\n",
       "    <tr>\n",
       "      <th>2</th>\n",
       "      <td>EN_A7-Weekday-SDon</td>\n",
       "      <td>20170221</td>\n",
       "      <td>2</td>\n",
       "    </tr>\n",
       "    <tr>\n",
       "      <th>3</th>\n",
       "      <td>EN_A7-Weekday-SDon</td>\n",
       "      <td>20170222</td>\n",
       "      <td>2</td>\n",
       "    </tr>\n",
       "    <tr>\n",
       "      <th>4</th>\n",
       "      <td>EN_A7-Weekday-SDon</td>\n",
       "      <td>20170223</td>\n",
       "      <td>2</td>\n",
       "    </tr>\n",
       "  </tbody>\n",
       "</table>\n",
       "</div>"
      ],
      "text/plain": [
       "           service_id      date  exception_type\n",
       "0  EN_A7-Weekday-SDon  20170116               2\n",
       "1  EN_A7-Weekday-SDon  20170220               2\n",
       "2  EN_A7-Weekday-SDon  20170221               2\n",
       "3  EN_A7-Weekday-SDon  20170222               2\n",
       "4  EN_A7-Weekday-SDon  20170223               2"
      ]
     },
     "execution_count": 4,
     "metadata": {},
     "output_type": "execute_result"
    }
   ],
   "source": [
    "calendar_dates.head()"
   ]
  },
  {
   "cell_type": "code",
   "execution_count": 5,
   "metadata": {
    "collapsed": false
   },
   "outputs": [
    {
     "data": {
      "text/html": [
       "<div>\n",
       "<table border=\"1\" class=\"dataframe\">\n",
       "  <thead>\n",
       "    <tr style=\"text-align: right;\">\n",
       "      <th></th>\n",
       "      <th>service_id</th>\n",
       "      <th>monday</th>\n",
       "      <th>tuesday</th>\n",
       "      <th>wednesday</th>\n",
       "      <th>thursday</th>\n",
       "      <th>friday</th>\n",
       "      <th>saturday</th>\n",
       "      <th>sunday</th>\n",
       "      <th>start_date</th>\n",
       "      <th>end_date</th>\n",
       "    </tr>\n",
       "  </thead>\n",
       "  <tbody>\n",
       "    <tr>\n",
       "      <th>0</th>\n",
       "      <td>EN_A7-Sunday</td>\n",
       "      <td>0</td>\n",
       "      <td>0</td>\n",
       "      <td>0</td>\n",
       "      <td>0</td>\n",
       "      <td>0</td>\n",
       "      <td>0</td>\n",
       "      <td>1</td>\n",
       "      <td>20170108</td>\n",
       "      <td>20170326</td>\n",
       "    </tr>\n",
       "    <tr>\n",
       "      <th>1</th>\n",
       "      <td>EN_A7-Weekday-SDon</td>\n",
       "      <td>1</td>\n",
       "      <td>1</td>\n",
       "      <td>1</td>\n",
       "      <td>1</td>\n",
       "      <td>1</td>\n",
       "      <td>0</td>\n",
       "      <td>0</td>\n",
       "      <td>20170109</td>\n",
       "      <td>20170331</td>\n",
       "    </tr>\n",
       "    <tr>\n",
       "      <th>2</th>\n",
       "      <td>EN_A7-Saturday</td>\n",
       "      <td>0</td>\n",
       "      <td>0</td>\n",
       "      <td>0</td>\n",
       "      <td>0</td>\n",
       "      <td>0</td>\n",
       "      <td>1</td>\n",
       "      <td>0</td>\n",
       "      <td>20170114</td>\n",
       "      <td>20170401</td>\n",
       "    </tr>\n",
       "    <tr>\n",
       "      <th>3</th>\n",
       "      <td>EN_H7-Weekday</td>\n",
       "      <td>1</td>\n",
       "      <td>1</td>\n",
       "      <td>1</td>\n",
       "      <td>1</td>\n",
       "      <td>1</td>\n",
       "      <td>0</td>\n",
       "      <td>0</td>\n",
       "      <td>20170116</td>\n",
       "      <td>20170116</td>\n",
       "    </tr>\n",
       "    <tr>\n",
       "      <th>4</th>\n",
       "      <td>EN_A7-Weekday</td>\n",
       "      <td>1</td>\n",
       "      <td>1</td>\n",
       "      <td>1</td>\n",
       "      <td>1</td>\n",
       "      <td>1</td>\n",
       "      <td>0</td>\n",
       "      <td>0</td>\n",
       "      <td>20170221</td>\n",
       "      <td>20170224</td>\n",
       "    </tr>\n",
       "  </tbody>\n",
       "</table>\n",
       "</div>"
      ],
      "text/plain": [
       "           service_id  monday  tuesday  wednesday  thursday  friday  saturday  \\\n",
       "0        EN_A7-Sunday       0        0          0         0       0         0   \n",
       "1  EN_A7-Weekday-SDon       1        1          1         1       1         0   \n",
       "2      EN_A7-Saturday       0        0          0         0       0         1   \n",
       "3       EN_H7-Weekday       1        1          1         1       1         0   \n",
       "4       EN_A7-Weekday       1        1          1         1       1         0   \n",
       "\n",
       "   sunday  start_date  end_date  \n",
       "0       1    20170108  20170326  \n",
       "1       0    20170109  20170331  \n",
       "2       0    20170114  20170401  \n",
       "3       0    20170116  20170116  \n",
       "4       0    20170221  20170224  "
      ]
     },
     "execution_count": 5,
     "metadata": {},
     "output_type": "execute_result"
    }
   ],
   "source": [
    "calendar.head()"
   ]
  },
  {
   "cell_type": "code",
   "execution_count": 6,
   "metadata": {
    "collapsed": false
   },
   "outputs": [
    {
     "data": {
      "text/html": [
       "<div>\n",
       "<table border=\"1\" class=\"dataframe\">\n",
       "  <thead>\n",
       "    <tr style=\"text-align: right;\">\n",
       "      <th></th>\n",
       "      <th>route_id</th>\n",
       "      <th>agency_id</th>\n",
       "      <th>route_short_name</th>\n",
       "      <th>route_long_name</th>\n",
       "      <th>route_desc</th>\n",
       "      <th>route_type</th>\n",
       "      <th>route_url</th>\n",
       "      <th>route_color</th>\n",
       "      <th>route_text_color</th>\n",
       "    </tr>\n",
       "  </thead>\n",
       "  <tbody>\n",
       "    <tr>\n",
       "      <th>0</th>\n",
       "      <td>B1</td>\n",
       "      <td>MTA NYCT</td>\n",
       "      <td>B1</td>\n",
       "      <td>Bay Ridge - Manhattan Beach</td>\n",
       "      <td>via 86th St / Ocean Pkwy</td>\n",
       "      <td>3</td>\n",
       "      <td>http://web.mta.info/nyct/bus/schedule/bkln/b00...</td>\n",
       "      <td>00AEEF</td>\n",
       "      <td>FFFFFF</td>\n",
       "    </tr>\n",
       "    <tr>\n",
       "      <th>1</th>\n",
       "      <td>B11</td>\n",
       "      <td>MTA NYCT</td>\n",
       "      <td>B11</td>\n",
       "      <td>Sunset Park - Midwood</td>\n",
       "      <td>via 49th &amp; 50th St / Avenue J</td>\n",
       "      <td>3</td>\n",
       "      <td>http://web.mta.info/nyct/bus/schedule/bkln/b01...</td>\n",
       "      <td>006CB7</td>\n",
       "      <td>FFFFFF</td>\n",
       "    </tr>\n",
       "  </tbody>\n",
       "</table>\n",
       "</div>"
      ],
      "text/plain": [
       "  route_id agency_id route_short_name              route_long_name  \\\n",
       "0       B1  MTA NYCT               B1  Bay Ridge - Manhattan Beach   \n",
       "1      B11  MTA NYCT              B11        Sunset Park - Midwood   \n",
       "\n",
       "                      route_desc  route_type  \\\n",
       "0       via 86th St / Ocean Pkwy           3   \n",
       "1  via 49th & 50th St / Avenue J           3   \n",
       "\n",
       "                                           route_url route_color  \\\n",
       "0  http://web.mta.info/nyct/bus/schedule/bkln/b00...      00AEEF   \n",
       "1  http://web.mta.info/nyct/bus/schedule/bkln/b01...      006CB7   \n",
       "\n",
       "  route_text_color  \n",
       "0           FFFFFF  \n",
       "1           FFFFFF  "
      ]
     },
     "execution_count": 6,
     "metadata": {},
     "output_type": "execute_result"
    }
   ],
   "source": [
    "routes.head(2)"
   ]
  },
  {
   "cell_type": "code",
   "execution_count": 7,
   "metadata": {
    "collapsed": false
   },
   "outputs": [
    {
     "data": {
      "text/html": [
       "<div>\n",
       "<table border=\"1\" class=\"dataframe\">\n",
       "  <thead>\n",
       "    <tr style=\"text-align: right;\">\n",
       "      <th></th>\n",
       "      <th>shape_id</th>\n",
       "      <th>shape_pt_lat</th>\n",
       "      <th>shape_pt_lon</th>\n",
       "      <th>shape_pt_sequence</th>\n",
       "    </tr>\n",
       "  </thead>\n",
       "  <tbody>\n",
       "    <tr>\n",
       "      <th>0</th>\n",
       "      <td>B10163</td>\n",
       "      <td>40.621900</td>\n",
       "      <td>-74.028521</td>\n",
       "      <td>10001</td>\n",
       "    </tr>\n",
       "    <tr>\n",
       "      <th>1</th>\n",
       "      <td>B10163</td>\n",
       "      <td>40.621997</td>\n",
       "      <td>-74.028681</td>\n",
       "      <td>10002</td>\n",
       "    </tr>\n",
       "  </tbody>\n",
       "</table>\n",
       "</div>"
      ],
      "text/plain": [
       "  shape_id  shape_pt_lat  shape_pt_lon  shape_pt_sequence\n",
       "0   B10163     40.621900    -74.028521              10001\n",
       "1   B10163     40.621997    -74.028681              10002"
      ]
     },
     "execution_count": 7,
     "metadata": {},
     "output_type": "execute_result"
    }
   ],
   "source": [
    "shapes.head(2)"
   ]
  },
  {
   "cell_type": "code",
   "execution_count": 8,
   "metadata": {
    "collapsed": false
   },
   "outputs": [
    {
     "data": {
      "text/html": [
       "<div>\n",
       "<table border=\"1\" class=\"dataframe\">\n",
       "  <thead>\n",
       "    <tr style=\"text-align: right;\">\n",
       "      <th></th>\n",
       "      <th>trip_id</th>\n",
       "      <th>arrival_time</th>\n",
       "      <th>departure_time</th>\n",
       "      <th>stop_id</th>\n",
       "      <th>stop_sequence</th>\n",
       "      <th>pickup_type</th>\n",
       "      <th>drop_off_type</th>\n",
       "    </tr>\n",
       "  </thead>\n",
       "  <tbody>\n",
       "    <tr>\n",
       "      <th>0</th>\n",
       "      <td>EN_H7-Weekday-008100_B12_1</td>\n",
       "      <td>01:21:00</td>\n",
       "      <td>01:21:00</td>\n",
       "      <td>801177</td>\n",
       "      <td>1</td>\n",
       "      <td>0</td>\n",
       "      <td>0</td>\n",
       "    </tr>\n",
       "    <tr>\n",
       "      <th>1</th>\n",
       "      <td>EN_H7-Weekday-008100_B12_1</td>\n",
       "      <td>01:22:36</td>\n",
       "      <td>01:22:36</td>\n",
       "      <td>301386</td>\n",
       "      <td>2</td>\n",
       "      <td>0</td>\n",
       "      <td>0</td>\n",
       "    </tr>\n",
       "    <tr>\n",
       "      <th>2</th>\n",
       "      <td>EN_H7-Weekday-008100_B12_1</td>\n",
       "      <td>01:23:07</td>\n",
       "      <td>01:23:07</td>\n",
       "      <td>301387</td>\n",
       "      <td>3</td>\n",
       "      <td>0</td>\n",
       "      <td>0</td>\n",
       "    </tr>\n",
       "    <tr>\n",
       "      <th>3</th>\n",
       "      <td>EN_H7-Weekday-008100_B12_1</td>\n",
       "      <td>01:24:01</td>\n",
       "      <td>01:24:01</td>\n",
       "      <td>301388</td>\n",
       "      <td>4</td>\n",
       "      <td>0</td>\n",
       "      <td>0</td>\n",
       "    </tr>\n",
       "    <tr>\n",
       "      <th>4</th>\n",
       "      <td>EN_H7-Weekday-008100_B12_1</td>\n",
       "      <td>01:24:18</td>\n",
       "      <td>01:24:18</td>\n",
       "      <td>301389</td>\n",
       "      <td>5</td>\n",
       "      <td>0</td>\n",
       "      <td>0</td>\n",
       "    </tr>\n",
       "  </tbody>\n",
       "</table>\n",
       "</div>"
      ],
      "text/plain": [
       "                      trip_id arrival_time departure_time  stop_id  \\\n",
       "0  EN_H7-Weekday-008100_B12_1     01:21:00       01:21:00   801177   \n",
       "1  EN_H7-Weekday-008100_B12_1     01:22:36       01:22:36   301386   \n",
       "2  EN_H7-Weekday-008100_B12_1     01:23:07       01:23:07   301387   \n",
       "3  EN_H7-Weekday-008100_B12_1     01:24:01       01:24:01   301388   \n",
       "4  EN_H7-Weekday-008100_B12_1     01:24:18       01:24:18   301389   \n",
       "\n",
       "   stop_sequence  pickup_type  drop_off_type  \n",
       "0              1            0              0  \n",
       "1              2            0              0  \n",
       "2              3            0              0  \n",
       "3              4            0              0  \n",
       "4              5            0              0  "
      ]
     },
     "execution_count": 8,
     "metadata": {},
     "output_type": "execute_result"
    }
   ],
   "source": [
    "stop_times.head()"
   ]
  },
  {
   "cell_type": "code",
   "execution_count": 9,
   "metadata": {
    "collapsed": false
   },
   "outputs": [
    {
     "data": {
      "text/html": [
       "<div>\n",
       "<table border=\"1\" class=\"dataframe\">\n",
       "  <thead>\n",
       "    <tr style=\"text-align: right;\">\n",
       "      <th></th>\n",
       "      <th>stop_id</th>\n",
       "      <th>stop_name</th>\n",
       "      <th>stop_desc</th>\n",
       "      <th>stop_lat</th>\n",
       "      <th>stop_lon</th>\n",
       "      <th>zone_id</th>\n",
       "      <th>stop_url</th>\n",
       "      <th>location_type</th>\n",
       "      <th>parent_station</th>\n",
       "    </tr>\n",
       "  </thead>\n",
       "  <tbody>\n",
       "    <tr>\n",
       "      <th>0</th>\n",
       "      <td>300000</td>\n",
       "      <td>ORIENTAL BL/MACKENZIE ST</td>\n",
       "      <td>NaN</td>\n",
       "      <td>40.578251</td>\n",
       "      <td>-73.939743</td>\n",
       "      <td>NaN</td>\n",
       "      <td>NaN</td>\n",
       "      <td>0</td>\n",
       "      <td>NaN</td>\n",
       "    </tr>\n",
       "    <tr>\n",
       "      <th>1</th>\n",
       "      <td>300002</td>\n",
       "      <td>ORIENTAL BL/JAFFRAY ST</td>\n",
       "      <td>NaN</td>\n",
       "      <td>40.578068</td>\n",
       "      <td>-73.943031</td>\n",
       "      <td>NaN</td>\n",
       "      <td>NaN</td>\n",
       "      <td>0</td>\n",
       "      <td>NaN</td>\n",
       "    </tr>\n",
       "    <tr>\n",
       "      <th>2</th>\n",
       "      <td>300003</td>\n",
       "      <td>ORIENTAL BL/HASTINGS ST</td>\n",
       "      <td>NaN</td>\n",
       "      <td>40.577961</td>\n",
       "      <td>-73.944664</td>\n",
       "      <td>NaN</td>\n",
       "      <td>NaN</td>\n",
       "      <td>0</td>\n",
       "      <td>NaN</td>\n",
       "    </tr>\n",
       "    <tr>\n",
       "      <th>3</th>\n",
       "      <td>300004</td>\n",
       "      <td>ORIENTAL BL/FALMOUTH ST</td>\n",
       "      <td>NaN</td>\n",
       "      <td>40.577721</td>\n",
       "      <td>-73.946205</td>\n",
       "      <td>NaN</td>\n",
       "      <td>NaN</td>\n",
       "      <td>0</td>\n",
       "      <td>NaN</td>\n",
       "    </tr>\n",
       "    <tr>\n",
       "      <th>4</th>\n",
       "      <td>300006</td>\n",
       "      <td>ORIENTAL BL/DOVER ST</td>\n",
       "      <td>NaN</td>\n",
       "      <td>40.577354</td>\n",
       "      <td>-73.949554</td>\n",
       "      <td>NaN</td>\n",
       "      <td>NaN</td>\n",
       "      <td>0</td>\n",
       "      <td>NaN</td>\n",
       "    </tr>\n",
       "  </tbody>\n",
       "</table>\n",
       "</div>"
      ],
      "text/plain": [
       "   stop_id                 stop_name  stop_desc   stop_lat   stop_lon  \\\n",
       "0   300000  ORIENTAL BL/MACKENZIE ST        NaN  40.578251 -73.939743   \n",
       "1   300002    ORIENTAL BL/JAFFRAY ST        NaN  40.578068 -73.943031   \n",
       "2   300003   ORIENTAL BL/HASTINGS ST        NaN  40.577961 -73.944664   \n",
       "3   300004   ORIENTAL BL/FALMOUTH ST        NaN  40.577721 -73.946205   \n",
       "4   300006      ORIENTAL BL/DOVER ST        NaN  40.577354 -73.949554   \n",
       "\n",
       "   zone_id  stop_url  location_type  parent_station  \n",
       "0      NaN       NaN              0             NaN  \n",
       "1      NaN       NaN              0             NaN  \n",
       "2      NaN       NaN              0             NaN  \n",
       "3      NaN       NaN              0             NaN  \n",
       "4      NaN       NaN              0             NaN  "
      ]
     },
     "execution_count": 9,
     "metadata": {},
     "output_type": "execute_result"
    }
   ],
   "source": [
    "stops.head()"
   ]
  },
  {
   "cell_type": "code",
   "execution_count": 10,
   "metadata": {
    "collapsed": false
   },
   "outputs": [
    {
     "data": {
      "text/html": [
       "<div>\n",
       "<table border=\"1\" class=\"dataframe\">\n",
       "  <thead>\n",
       "    <tr style=\"text-align: right;\">\n",
       "      <th></th>\n",
       "      <th>route_id</th>\n",
       "      <th>service_id</th>\n",
       "      <th>trip_id</th>\n",
       "      <th>trip_headsign</th>\n",
       "      <th>direction_id</th>\n",
       "      <th>shape_id</th>\n",
       "    </tr>\n",
       "  </thead>\n",
       "  <tbody>\n",
       "    <tr>\n",
       "      <th>0</th>\n",
       "      <td>B12</td>\n",
       "      <td>EN_H7-Weekday</td>\n",
       "      <td>EN_H7-Weekday-008100_B12_1</td>\n",
       "      <td>LEFFRTS GDNS OCEAN AV</td>\n",
       "      <td>1</td>\n",
       "      <td>B120114</td>\n",
       "    </tr>\n",
       "    <tr>\n",
       "      <th>1</th>\n",
       "      <td>B12</td>\n",
       "      <td>EN_H7-Weekday</td>\n",
       "      <td>EN_H7-Weekday-011000_B12_1</td>\n",
       "      <td>EAST NY ALABAMA AV</td>\n",
       "      <td>0</td>\n",
       "      <td>B120113</td>\n",
       "    </tr>\n",
       "    <tr>\n",
       "      <th>2</th>\n",
       "      <td>B12</td>\n",
       "      <td>EN_H7-Weekday</td>\n",
       "      <td>EN_H7-Weekday-016100_B12_1</td>\n",
       "      <td>LEFFRTS GDNS OCEAN AV</td>\n",
       "      <td>1</td>\n",
       "      <td>B120114</td>\n",
       "    </tr>\n",
       "    <tr>\n",
       "      <th>3</th>\n",
       "      <td>B12</td>\n",
       "      <td>EN_H7-Weekday</td>\n",
       "      <td>EN_H7-Weekday-019000_B12_1</td>\n",
       "      <td>EAST NY ALABAMA AV</td>\n",
       "      <td>0</td>\n",
       "      <td>B120113</td>\n",
       "    </tr>\n",
       "    <tr>\n",
       "      <th>4</th>\n",
       "      <td>B12</td>\n",
       "      <td>EN_H7-Weekday</td>\n",
       "      <td>EN_H7-Weekday-012100_B12_2</td>\n",
       "      <td>LEFFRTS GDNS OCEAN AV</td>\n",
       "      <td>1</td>\n",
       "      <td>B120114</td>\n",
       "    </tr>\n",
       "  </tbody>\n",
       "</table>\n",
       "</div>"
      ],
      "text/plain": [
       "  route_id     service_id                     trip_id          trip_headsign  \\\n",
       "0      B12  EN_H7-Weekday  EN_H7-Weekday-008100_B12_1  LEFFRTS GDNS OCEAN AV   \n",
       "1      B12  EN_H7-Weekday  EN_H7-Weekday-011000_B12_1     EAST NY ALABAMA AV   \n",
       "2      B12  EN_H7-Weekday  EN_H7-Weekday-016100_B12_1  LEFFRTS GDNS OCEAN AV   \n",
       "3      B12  EN_H7-Weekday  EN_H7-Weekday-019000_B12_1     EAST NY ALABAMA AV   \n",
       "4      B12  EN_H7-Weekday  EN_H7-Weekday-012100_B12_2  LEFFRTS GDNS OCEAN AV   \n",
       "\n",
       "   direction_id shape_id  \n",
       "0             1  B120114  \n",
       "1             0  B120113  \n",
       "2             1  B120114  \n",
       "3             0  B120113  \n",
       "4             1  B120114  "
      ]
     },
     "execution_count": 10,
     "metadata": {},
     "output_type": "execute_result"
    }
   ],
   "source": [
    "trips.head()"
   ]
  },
  {
   "cell_type": "markdown",
   "metadata": {},
   "source": [
    "### Merge calendar, service_id and trip_id information"
   ]
  },
  {
   "cell_type": "markdown",
   "metadata": {},
   "source": [
    "Join calendar and trips on service_id = trip_id."
   ]
  },
  {
   "cell_type": "code",
   "execution_count": 11,
   "metadata": {
    "collapsed": false
   },
   "outputs": [
    {
     "data": {
      "text/html": [
       "<div>\n",
       "<table border=\"1\" class=\"dataframe\">\n",
       "  <thead>\n",
       "    <tr style=\"text-align: right;\">\n",
       "      <th></th>\n",
       "      <th>service_id</th>\n",
       "      <th>trip_id</th>\n",
       "    </tr>\n",
       "  </thead>\n",
       "  <tbody>\n",
       "    <tr>\n",
       "      <th>0</th>\n",
       "      <td>EN_A7-Sunday</td>\n",
       "      <td>EN_A7-Sunday-060000_B84_201</td>\n",
       "    </tr>\n",
       "    <tr>\n",
       "      <th>1</th>\n",
       "      <td>EN_A7-Sunday</td>\n",
       "      <td>EN_A7-Sunday-063000_B65_101</td>\n",
       "    </tr>\n",
       "    <tr>\n",
       "      <th>2</th>\n",
       "      <td>EN_A7-Sunday</td>\n",
       "      <td>EN_A7-Sunday-066000_B84_201</td>\n",
       "    </tr>\n",
       "    <tr>\n",
       "      <th>3</th>\n",
       "      <td>EN_A7-Sunday</td>\n",
       "      <td>EN_A7-Sunday-069000_B65_101</td>\n",
       "    </tr>\n",
       "    <tr>\n",
       "      <th>4</th>\n",
       "      <td>EN_A7-Sunday</td>\n",
       "      <td>EN_A7-Sunday-072000_B84_201</td>\n",
       "    </tr>\n",
       "  </tbody>\n",
       "</table>\n",
       "</div>"
      ],
      "text/plain": [
       "     service_id                      trip_id\n",
       "0  EN_A7-Sunday  EN_A7-Sunday-060000_B84_201\n",
       "1  EN_A7-Sunday  EN_A7-Sunday-063000_B65_101\n",
       "2  EN_A7-Sunday  EN_A7-Sunday-066000_B84_201\n",
       "3  EN_A7-Sunday  EN_A7-Sunday-069000_B65_101\n",
       "4  EN_A7-Sunday  EN_A7-Sunday-072000_B84_201"
      ]
     },
     "execution_count": 11,
     "metadata": {},
     "output_type": "execute_result"
    }
   ],
   "source": [
    "service_trip_id = pd.merge(calendar[['service_id']],trips[['service_id', 'trip_id']])\n",
    "service_trip_id.head()"
   ]
  },
  {
   "cell_type": "markdown",
   "metadata": {},
   "source": [
    "Join calendar with trip_id."
   ]
  },
  {
   "cell_type": "code",
   "execution_count": 12,
   "metadata": {
    "collapsed": false
   },
   "outputs": [
    {
     "data": {
      "text/html": [
       "<div>\n",
       "<table border=\"1\" class=\"dataframe\">\n",
       "  <thead>\n",
       "    <tr style=\"text-align: right;\">\n",
       "      <th></th>\n",
       "      <th>service_id</th>\n",
       "      <th>monday</th>\n",
       "      <th>tuesday</th>\n",
       "      <th>wednesday</th>\n",
       "      <th>thursday</th>\n",
       "      <th>friday</th>\n",
       "      <th>saturday</th>\n",
       "      <th>sunday</th>\n",
       "      <th>start_date</th>\n",
       "      <th>end_date</th>\n",
       "      <th>trip_id</th>\n",
       "    </tr>\n",
       "  </thead>\n",
       "  <tbody>\n",
       "    <tr>\n",
       "      <th>0</th>\n",
       "      <td>EN_A7-Sunday</td>\n",
       "      <td>0</td>\n",
       "      <td>0</td>\n",
       "      <td>0</td>\n",
       "      <td>0</td>\n",
       "      <td>0</td>\n",
       "      <td>0</td>\n",
       "      <td>1</td>\n",
       "      <td>20170108</td>\n",
       "      <td>20170326</td>\n",
       "      <td>EN_A7-Sunday-060000_B84_201</td>\n",
       "    </tr>\n",
       "    <tr>\n",
       "      <th>1</th>\n",
       "      <td>EN_A7-Sunday</td>\n",
       "      <td>0</td>\n",
       "      <td>0</td>\n",
       "      <td>0</td>\n",
       "      <td>0</td>\n",
       "      <td>0</td>\n",
       "      <td>0</td>\n",
       "      <td>1</td>\n",
       "      <td>20170108</td>\n",
       "      <td>20170326</td>\n",
       "      <td>EN_A7-Sunday-063000_B65_101</td>\n",
       "    </tr>\n",
       "    <tr>\n",
       "      <th>2</th>\n",
       "      <td>EN_A7-Sunday</td>\n",
       "      <td>0</td>\n",
       "      <td>0</td>\n",
       "      <td>0</td>\n",
       "      <td>0</td>\n",
       "      <td>0</td>\n",
       "      <td>0</td>\n",
       "      <td>1</td>\n",
       "      <td>20170108</td>\n",
       "      <td>20170326</td>\n",
       "      <td>EN_A7-Sunday-066000_B84_201</td>\n",
       "    </tr>\n",
       "    <tr>\n",
       "      <th>3</th>\n",
       "      <td>EN_A7-Sunday</td>\n",
       "      <td>0</td>\n",
       "      <td>0</td>\n",
       "      <td>0</td>\n",
       "      <td>0</td>\n",
       "      <td>0</td>\n",
       "      <td>0</td>\n",
       "      <td>1</td>\n",
       "      <td>20170108</td>\n",
       "      <td>20170326</td>\n",
       "      <td>EN_A7-Sunday-069000_B65_101</td>\n",
       "    </tr>\n",
       "    <tr>\n",
       "      <th>4</th>\n",
       "      <td>EN_A7-Sunday</td>\n",
       "      <td>0</td>\n",
       "      <td>0</td>\n",
       "      <td>0</td>\n",
       "      <td>0</td>\n",
       "      <td>0</td>\n",
       "      <td>0</td>\n",
       "      <td>1</td>\n",
       "      <td>20170108</td>\n",
       "      <td>20170326</td>\n",
       "      <td>EN_A7-Sunday-072000_B84_201</td>\n",
       "    </tr>\n",
       "  </tbody>\n",
       "</table>\n",
       "</div>"
      ],
      "text/plain": [
       "     service_id  monday  tuesday  wednesday  thursday  friday  saturday  \\\n",
       "0  EN_A7-Sunday       0        0          0         0       0         0   \n",
       "1  EN_A7-Sunday       0        0          0         0       0         0   \n",
       "2  EN_A7-Sunday       0        0          0         0       0         0   \n",
       "3  EN_A7-Sunday       0        0          0         0       0         0   \n",
       "4  EN_A7-Sunday       0        0          0         0       0         0   \n",
       "\n",
       "   sunday  start_date  end_date                      trip_id  \n",
       "0       1    20170108  20170326  EN_A7-Sunday-060000_B84_201  \n",
       "1       1    20170108  20170326  EN_A7-Sunday-063000_B65_101  \n",
       "2       1    20170108  20170326  EN_A7-Sunday-066000_B84_201  \n",
       "3       1    20170108  20170326  EN_A7-Sunday-069000_B65_101  \n",
       "4       1    20170108  20170326  EN_A7-Sunday-072000_B84_201  "
      ]
     },
     "execution_count": 12,
     "metadata": {},
     "output_type": "execute_result"
    }
   ],
   "source": [
    "calendar = pd.merge(calendar,service_trip_id)\n",
    "calendar.head()"
   ]
  },
  {
   "cell_type": "markdown",
   "metadata": {},
   "source": [
    "Here's what the stop_times table looks like:"
   ]
  },
  {
   "cell_type": "code",
   "execution_count": 13,
   "metadata": {
    "collapsed": false
   },
   "outputs": [
    {
     "data": {
      "text/html": [
       "<div>\n",
       "<table border=\"1\" class=\"dataframe\">\n",
       "  <thead>\n",
       "    <tr style=\"text-align: right;\">\n",
       "      <th></th>\n",
       "      <th>trip_id</th>\n",
       "      <th>arrival_time</th>\n",
       "      <th>departure_time</th>\n",
       "      <th>stop_id</th>\n",
       "      <th>stop_sequence</th>\n",
       "      <th>pickup_type</th>\n",
       "      <th>drop_off_type</th>\n",
       "    </tr>\n",
       "  </thead>\n",
       "  <tbody>\n",
       "    <tr>\n",
       "      <th>0</th>\n",
       "      <td>EN_H7-Weekday-008100_B12_1</td>\n",
       "      <td>01:21:00</td>\n",
       "      <td>01:21:00</td>\n",
       "      <td>801177</td>\n",
       "      <td>1</td>\n",
       "      <td>0</td>\n",
       "      <td>0</td>\n",
       "    </tr>\n",
       "    <tr>\n",
       "      <th>1</th>\n",
       "      <td>EN_H7-Weekday-008100_B12_1</td>\n",
       "      <td>01:22:36</td>\n",
       "      <td>01:22:36</td>\n",
       "      <td>301386</td>\n",
       "      <td>2</td>\n",
       "      <td>0</td>\n",
       "      <td>0</td>\n",
       "    </tr>\n",
       "    <tr>\n",
       "      <th>2</th>\n",
       "      <td>EN_H7-Weekday-008100_B12_1</td>\n",
       "      <td>01:23:07</td>\n",
       "      <td>01:23:07</td>\n",
       "      <td>301387</td>\n",
       "      <td>3</td>\n",
       "      <td>0</td>\n",
       "      <td>0</td>\n",
       "    </tr>\n",
       "    <tr>\n",
       "      <th>3</th>\n",
       "      <td>EN_H7-Weekday-008100_B12_1</td>\n",
       "      <td>01:24:01</td>\n",
       "      <td>01:24:01</td>\n",
       "      <td>301388</td>\n",
       "      <td>4</td>\n",
       "      <td>0</td>\n",
       "      <td>0</td>\n",
       "    </tr>\n",
       "    <tr>\n",
       "      <th>4</th>\n",
       "      <td>EN_H7-Weekday-008100_B12_1</td>\n",
       "      <td>01:24:18</td>\n",
       "      <td>01:24:18</td>\n",
       "      <td>301389</td>\n",
       "      <td>5</td>\n",
       "      <td>0</td>\n",
       "      <td>0</td>\n",
       "    </tr>\n",
       "  </tbody>\n",
       "</table>\n",
       "</div>"
      ],
      "text/plain": [
       "                      trip_id arrival_time departure_time  stop_id  \\\n",
       "0  EN_H7-Weekday-008100_B12_1     01:21:00       01:21:00   801177   \n",
       "1  EN_H7-Weekday-008100_B12_1     01:22:36       01:22:36   301386   \n",
       "2  EN_H7-Weekday-008100_B12_1     01:23:07       01:23:07   301387   \n",
       "3  EN_H7-Weekday-008100_B12_1     01:24:01       01:24:01   301388   \n",
       "4  EN_H7-Weekday-008100_B12_1     01:24:18       01:24:18   301389   \n",
       "\n",
       "   stop_sequence  pickup_type  drop_off_type  \n",
       "0              1            0              0  \n",
       "1              2            0              0  \n",
       "2              3            0              0  \n",
       "3              4            0              0  \n",
       "4              5            0              0  "
      ]
     },
     "execution_count": 13,
     "metadata": {},
     "output_type": "execute_result"
    }
   ],
   "source": [
    "stop_times.head()"
   ]
  },
  {
   "cell_type": "markdown",
   "metadata": {},
   "source": [
    "### Add abritrary arrival and departure dates to timetables"
   ]
  },
  {
   "cell_type": "markdown",
   "metadata": {},
   "source": [
    "Define a function to add arrival dates to stop_times tables. We will use 1/5/15 as the start date because that is the date we are currently using to visualize taxi trips. This code deals with arrival times > 24 hours and converts them to 1/6/15."
   ]
  },
  {
   "cell_type": "code",
   "execution_count": 14,
   "metadata": {
    "collapsed": true
   },
   "outputs": [],
   "source": [
    "arbitrary_dates = ['1/5/2015', '1/6/2015']"
   ]
  },
  {
   "cell_type": "code",
   "execution_count": 15,
   "metadata": {
    "collapsed": true
   },
   "outputs": [],
   "source": [
    "def add_arrival_date(df, dates = arbitrary_dates):\n",
    "    df = df.copy()\n",
    "    arrival_date = []\n",
    "    arrival_time = []\n",
    "\n",
    "    for i in df['arrival_time']:\n",
    "        hour = i[:i.find(':')]\n",
    "        minute = i[i.find(':')+1:i.find(':',4)]\n",
    "        second = i[i.find(':',5)+1:]\n",
    "        \n",
    "        if int(hour) < 24:\n",
    "            arrival_date.append(dates[0])\n",
    "            arrival_time.append(i)\n",
    "        elif 24 <= int(hour) < 48:\n",
    "            arrival_date.append(dates[1])\n",
    "            hour = int(hour) - 24\n",
    "            arrival_time.append(str(hour)+\":\"+minute+\":\"+second)\n",
    "        else:\n",
    "            arrival_date.append('NA')\n",
    "            \n",
    "    df['arrival_date'] = arrival_date\n",
    "    df['arrival_time'] = arrival_time\n",
    "    return df"
   ]
  },
  {
   "cell_type": "markdown",
   "metadata": {},
   "source": [
    "Define a function to add departure dates to stop_times tables. We will use 1/5/15 as the start date because that is the date we are currently using to visualize taxi trips. This code deals with departure times > 24 hours and converts them to 1/6/15."
   ]
  },
  {
   "cell_type": "code",
   "execution_count": 16,
   "metadata": {
    "collapsed": false
   },
   "outputs": [],
   "source": [
    "def add_departure_date(df, dates = arbitrary_dates):\n",
    "    df = df.copy()\n",
    "    departure_date = []\n",
    "    departure_time = []\n",
    "\n",
    "    for i in df['departure_time']:\n",
    "        hour = i[:i.find(':')]\n",
    "        minute = i[i.find(':')+1:i.find(':',4)]\n",
    "        second = i[i.find(':',5)+1:]\n",
    "        \n",
    "        if int(hour) < 24:\n",
    "            departure_date.append(dates[0])\n",
    "            departure_time.append(i)\n",
    "        elif 24 <= int(hour) < 48:\n",
    "            departure_date.append(dates[1])\n",
    "            hour = int(hour) - 24\n",
    "            departure_time.append(str(hour)+\":\"+minute+\":\"+second)\n",
    "        else:\n",
    "            departure_date.append('NA')\n",
    "            \n",
    "    df['departure_date'] = departure_date\n",
    "    df['departure_time'] = departure_time\n",
    "    return df"
   ]
  },
  {
   "cell_type": "markdown",
   "metadata": {},
   "source": [
    "### Get timetables for each day of the week"
   ]
  },
  {
   "cell_type": "code",
   "execution_count": 17,
   "metadata": {
    "collapsed": true
   },
   "outputs": [],
   "source": [
    "monday = calendar[calendar['monday'] == 1]\n",
    "tuesday = calendar[calendar['tuesday'] == 1]\n",
    "wednesday = calendar[calendar['wednesday'] == 1]\n",
    "thursday = calendar[calendar['thursday'] == 1]\n",
    "friday = calendar[calendar['friday'] == 1]\n",
    "saturday = calendar[calendar['saturday'] == 1]\n",
    "sunday = calendar[calendar['sunday'] == 1]"
   ]
  },
  {
   "cell_type": "markdown",
   "metadata": {},
   "source": [
    "### Monday"
   ]
  },
  {
   "cell_type": "code",
   "execution_count": 19,
   "metadata": {
    "collapsed": false
   },
   "outputs": [
    {
     "data": {
      "text/html": [
       "<div>\n",
       "<table border=\"1\" class=\"dataframe\">\n",
       "  <thead>\n",
       "    <tr style=\"text-align: right;\">\n",
       "      <th></th>\n",
       "      <th>service_id</th>\n",
       "      <th>monday</th>\n",
       "      <th>tuesday</th>\n",
       "      <th>wednesday</th>\n",
       "      <th>thursday</th>\n",
       "      <th>friday</th>\n",
       "      <th>saturday</th>\n",
       "      <th>sunday</th>\n",
       "      <th>start_date</th>\n",
       "      <th>end_date</th>\n",
       "      <th>trip_id</th>\n",
       "    </tr>\n",
       "  </thead>\n",
       "  <tbody>\n",
       "    <tr>\n",
       "      <th>1955</th>\n",
       "      <td>EN_A7-Weekday-SDon</td>\n",
       "      <td>1</td>\n",
       "      <td>1</td>\n",
       "      <td>1</td>\n",
       "      <td>1</td>\n",
       "      <td>1</td>\n",
       "      <td>0</td>\n",
       "      <td>0</td>\n",
       "      <td>20170109</td>\n",
       "      <td>20170331</td>\n",
       "      <td>EN_A7-Weekday-SDon-007000_Q24_401</td>\n",
       "    </tr>\n",
       "    <tr>\n",
       "      <th>1956</th>\n",
       "      <td>EN_A7-Weekday-SDon</td>\n",
       "      <td>1</td>\n",
       "      <td>1</td>\n",
       "      <td>1</td>\n",
       "      <td>1</td>\n",
       "      <td>1</td>\n",
       "      <td>0</td>\n",
       "      <td>0</td>\n",
       "      <td>20170109</td>\n",
       "      <td>20170331</td>\n",
       "      <td>EN_A7-Weekday-SDon-012000_Q24_401</td>\n",
       "    </tr>\n",
       "  </tbody>\n",
       "</table>\n",
       "</div>"
      ],
      "text/plain": [
       "              service_id  monday  tuesday  wednesday  thursday  friday  \\\n",
       "1955  EN_A7-Weekday-SDon       1        1          1         1       1   \n",
       "1956  EN_A7-Weekday-SDon       1        1          1         1       1   \n",
       "\n",
       "      saturday  sunday  start_date  end_date  \\\n",
       "1955         0       0    20170109  20170331   \n",
       "1956         0       0    20170109  20170331   \n",
       "\n",
       "                                trip_id  \n",
       "1955  EN_A7-Weekday-SDon-007000_Q24_401  \n",
       "1956  EN_A7-Weekday-SDon-012000_Q24_401  "
      ]
     },
     "execution_count": 19,
     "metadata": {},
     "output_type": "execute_result"
    }
   ],
   "source": [
    "monday.head(2)"
   ]
  },
  {
   "cell_type": "code",
   "execution_count": 20,
   "metadata": {
    "collapsed": false
   },
   "outputs": [
    {
     "name": "stdout",
     "output_type": "stream",
     "text": [
      "There are  39306 trips on Monday\n"
     ]
    },
    {
     "data": {
      "text/plain": [
       "1955    EN_A7-Weekday-SDon-007000_Q24_401\n",
       "1956    EN_A7-Weekday-SDon-012000_Q24_401\n",
       "1957    EN_A7-Weekday-SDon-016000_Q24_401\n",
       "1958    EN_A7-Weekday-SDon-020000_Q24_401\n",
       "1959    EN_A7-Weekday-SDon-024500_Q24_401\n",
       "Name: trip_id, dtype: object"
      ]
     },
     "execution_count": 20,
     "metadata": {},
     "output_type": "execute_result"
    }
   ],
   "source": [
    "monday_trips = monday['trip_id']\n",
    "print \"There are \", len(monday_trips), \"trips on Monday\"\n",
    "monday_trips.head()"
   ]
  },
  {
   "cell_type": "code",
   "execution_count": 21,
   "metadata": {
    "collapsed": false
   },
   "outputs": [
    {
     "data": {
      "text/plain": [
       "59502    UP_A7-Weekday-124700_B6_279\n",
       "59503    UP_A7-Weekday-125500_B6_299\n",
       "59504    UP_A7-Weekday-126300_B6_288\n",
       "59505    UP_A7-Weekday-127100_B6_297\n",
       "59506    UP_A7-Weekday-127900_B6_296\n",
       "Name: trip_id, dtype: object"
      ]
     },
     "execution_count": 21,
     "metadata": {},
     "output_type": "execute_result"
    }
   ],
   "source": [
    "monday_trips.tail()"
   ]
  },
  {
   "cell_type": "markdown",
   "metadata": {},
   "source": [
    "Make a dataframe for every trip in monday_trips and append it to triplist."
   ]
  },
  {
   "cell_type": "code",
   "execution_count": 95,
   "metadata": {
    "collapsed": false
   },
   "outputs": [
    {
     "name": "stdout",
     "output_type": "stream",
     "text": [
      "2017-04-04 11:26:00.033501 finished trip number 100 / 39306\n",
      "2017-04-04 11:26:45.893188 finished trip number 200 / 39306\n",
      "2017-04-04 11:27:24.720754 finished trip number 300 / 39306\n",
      "2017-04-04 11:28:18.375495 finished trip number 400 / 39306\n",
      "2017-04-04 11:29:08.917047 finished trip number 500 / 39306\n",
      "2017-04-04 11:29:44.609299 finished trip number 600 / 39306\n",
      "2017-04-04 11:30:20.952408 finished trip number 700 / 39306\n",
      "2017-04-04 11:31:01.520350 finished trip number 800 / 39306\n",
      "2017-04-04 11:31:33.552149 finished trip number 900 / 39306\n",
      "2017-04-04 11:32:09.683410 finished trip number 1000 / 39306\n",
      "2017-04-04 11:32:51.215373 finished trip number 1100 / 39306\n",
      "2017-04-04 11:33:33.677577 finished trip number 1200 / 39306\n",
      "2017-04-04 11:34:14.528561 finished trip number 1300 / 39306\n",
      "2017-04-04 11:34:56.174961 finished trip number 1400 / 39306\n",
      "2017-04-04 11:35:34.543971 finished trip number 1500 / 39306\n",
      "2017-04-04 11:36:14.011447 finished trip number 1600 / 39306\n",
      "2017-04-04 11:36:54.220485 finished trip number 1700 / 39306\n",
      "2017-04-04 11:37:33.794463 finished trip number 1800 / 39306\n",
      "2017-04-04 11:38:10.958584 finished trip number 1900 / 39306\n",
      "2017-04-04 11:38:48.820778 finished trip number 2000 / 39306\n",
      "2017-04-04 11:39:26.233552 finished trip number 2100 / 39306\n",
      "2017-04-04 11:40:05.604245 finished trip number 2200 / 39306\n",
      "2017-04-04 11:40:39.378200 finished trip number 2300 / 39306\n",
      "2017-04-04 11:41:14.666555 finished trip number 2400 / 39306\n",
      "2017-04-04 11:41:53.779048 finished trip number 2500 / 39306\n",
      "2017-04-04 11:42:34.943985 finished trip number 2600 / 39306\n",
      "2017-04-04 11:43:10.222441 finished trip number 2700 / 39306\n",
      "2017-04-04 11:43:47.889980 finished trip number 2800 / 39306\n",
      "2017-04-04 11:44:17.838105 finished trip number 2900 / 39306\n",
      "2017-04-04 11:44:44.605766 finished trip number 3000 / 39306\n",
      "2017-04-04 11:45:14.539307 finished trip number 3100 / 39306\n",
      "2017-04-04 11:45:55.918388 finished trip number 3200 / 39306\n",
      "2017-04-04 11:46:24.109259 finished trip number 3300 / 39306\n",
      "2017-04-04 11:46:54.376713 finished trip number 3400 / 39306\n",
      "2017-04-04 11:47:19.434250 finished trip number 3500 / 39306\n",
      "2017-04-04 11:47:49.550690 finished trip number 3600 / 39306\n",
      "2017-04-04 11:48:26.559481 finished trip number 3700 / 39306\n",
      "2017-04-04 11:49:01.990279 finished trip number 3800 / 39306\n",
      "2017-04-04 11:49:33.101718 finished trip number 3900 / 39306\n",
      "2017-04-04 11:50:00.969563 finished trip number 4000 / 39306\n",
      "2017-04-04 11:50:25.697705 finished trip number 4100 / 39306\n",
      "2017-04-04 11:50:51.722671 finished trip number 4200 / 39306\n",
      "2017-04-04 11:51:26.493722 finished trip number 4300 / 39306\n",
      "2017-04-04 11:52:13.086615 finished trip number 4400 / 39306\n",
      "2017-04-04 11:52:46.381553 finished trip number 4500 / 39306\n",
      "2017-04-04 11:53:27.045879 finished trip number 4600 / 39306\n",
      "2017-04-04 11:53:58.640047 finished trip number 4700 / 39306\n",
      "2017-04-04 11:54:30.518821 finished trip number 4800 / 39306\n",
      "2017-04-04 11:54:59.179921 finished trip number 4900 / 39306\n",
      "2017-04-04 11:55:21.860475 finished trip number 5000 / 39306\n",
      "2017-04-04 11:55:42.754192 finished trip number 5100 / 39306\n",
      "2017-04-04 11:56:23.853752 finished trip number 5200 / 39306\n",
      "2017-04-04 11:56:57.419831 finished trip number 5300 / 39306\n",
      "2017-04-04 11:57:31.165074 finished trip number 5400 / 39306\n",
      "2017-04-04 11:57:57.050934 finished trip number 5500 / 39306\n",
      "2017-04-04 11:58:36.611803 finished trip number 5600 / 39306\n",
      "2017-04-04 11:59:10.535188 finished trip number 5700 / 39306\n",
      "2017-04-04 11:59:38.962369 finished trip number 5800 / 39306\n",
      "2017-04-04 12:00:07.126775 finished trip number 5900 / 39306\n",
      "2017-04-04 12:00:43.739317 finished trip number 6000 / 39306\n",
      "2017-04-04 12:01:09.499025 finished trip number 6100 / 39306\n",
      "2017-04-04 12:01:33.465441 finished trip number 6200 / 39306\n",
      "2017-04-04 12:01:56.017803 finished trip number 6300 / 39306\n",
      "2017-04-04 12:02:18.593847 finished trip number 6400 / 39306\n",
      "2017-04-04 12:02:50.945882 finished trip number 6500 / 39306\n",
      "2017-04-04 12:03:39.180589 finished trip number 6600 / 39306\n",
      "2017-04-04 12:04:09.657669 finished trip number 6700 / 39306\n",
      "2017-04-04 12:05:03.239354 finished trip number 6800 / 39306\n",
      "2017-04-04 12:05:36.434667 finished trip number 6900 / 39306\n",
      "2017-04-04 12:06:05.781598 finished trip number 7000 / 39306\n",
      "2017-04-04 12:06:35.123760 finished trip number 7100 / 39306\n",
      "2017-04-04 12:07:04.863712 finished trip number 7200 / 39306\n",
      "2017-04-04 12:07:29.720241 finished trip number 7300 / 39306\n",
      "2017-04-04 12:07:56.845773 finished trip number 7400 / 39306\n",
      "2017-04-04 12:08:23.361900 finished trip number 7500 / 39306\n",
      "2017-04-04 12:08:51.712071 finished trip number 7600 / 39306\n",
      "2017-04-04 12:09:26.556588 finished trip number 7700 / 39306\n",
      "2017-04-04 12:09:56.793795 finished trip number 7800 / 39306\n",
      "2017-04-04 12:10:32.424260 finished trip number 7900 / 39306\n",
      "2017-04-04 12:11:06.444962 finished trip number 8000 / 39306\n",
      "2017-04-04 12:11:38.982856 finished trip number 8100 / 39306\n",
      "2017-04-04 12:12:03.333585 finished trip number 8200 / 39306\n",
      "2017-04-04 12:12:27.523890 finished trip number 8300 / 39306\n",
      "2017-04-04 12:12:52.489841 finished trip number 8400 / 39306\n",
      "2017-04-04 12:13:21.912986 finished trip number 8500 / 39306\n",
      "2017-04-04 12:13:48.853367 finished trip number 8600 / 39306\n",
      "2017-04-04 12:14:16.368170 finished trip number 8700 / 39306\n",
      "2017-04-04 12:14:41.696800 finished trip number 8800 / 39306\n",
      "2017-04-04 12:15:09.219412 finished trip number 8900 / 39306\n",
      "2017-04-04 12:15:38.271277 finished trip number 9000 / 39306\n",
      "2017-04-04 12:16:01.366488 finished trip number 9100 / 39306\n",
      "2017-04-04 12:16:25.436158 finished trip number 9200 / 39306\n",
      "2017-04-04 12:16:52.306854 finished trip number 9300 / 39306\n",
      "2017-04-04 12:17:21.193152 finished trip number 9400 / 39306\n",
      "2017-04-04 12:17:52.355276 finished trip number 9500 / 39306\n",
      "2017-04-04 12:18:19.534101 finished trip number 9600 / 39306\n",
      "2017-04-04 12:18:50.124153 finished trip number 9700 / 39306\n",
      "2017-04-04 12:19:24.453852 finished trip number 9800 / 39306\n",
      "2017-04-04 12:19:55.721632 finished trip number 9900 / 39306\n",
      "2017-04-04 12:20:27.889185 finished trip number 10000 / 39306\n",
      "2017-04-04 12:20:58.274458 finished trip number 10100 / 39306\n",
      "2017-04-04 12:21:27.093570 finished trip number 10200 / 39306\n",
      "2017-04-04 12:22:08.126378 finished trip number 10300 / 39306\n",
      "2017-04-04 12:22:41.014304 finished trip number 10400 / 39306\n",
      "2017-04-04 12:23:06.802356 finished trip number 10500 / 39306\n",
      "2017-04-04 12:23:30.020334 finished trip number 10600 / 39306\n",
      "2017-04-04 12:23:56.022720 finished trip number 10700 / 39306\n",
      "2017-04-04 12:24:18.722459 finished trip number 10800 / 39306\n",
      "2017-04-04 12:24:42.561348 finished trip number 10900 / 39306\n",
      "2017-04-04 12:25:07.837341 finished trip number 11000 / 39306\n",
      "2017-04-04 12:25:33.016710 finished trip number 11100 / 39306\n",
      "2017-04-04 12:25:58.228954 finished trip number 11200 / 39306\n",
      "2017-04-04 12:26:22.326936 finished trip number 11300 / 39306\n",
      "2017-04-04 12:26:57.415224 finished trip number 11400 / 39306\n",
      "2017-04-04 12:27:26.261778 finished trip number 11500 / 39306\n",
      "2017-04-04 12:28:00.081800 finished trip number 11600 / 39306\n",
      "2017-04-04 12:28:27.707685 finished trip number 11700 / 39306\n",
      "2017-04-04 12:29:01.680530 finished trip number 11800 / 39306\n",
      "2017-04-04 12:29:33.708730 finished trip number 11900 / 39306\n",
      "2017-04-04 12:30:02.890746 finished trip number 12000 / 39306\n",
      "2017-04-04 12:30:32.499580 finished trip number 12100 / 39306\n",
      "2017-04-04 12:31:06.518410 finished trip number 12200 / 39306\n",
      "2017-04-04 12:31:38.120290 finished trip number 12300 / 39306\n",
      "2017-04-04 12:32:05.399575 finished trip number 12400 / 39306\n",
      "2017-04-04 12:32:29.693728 finished trip number 12500 / 39306\n",
      "2017-04-04 12:32:54.147010 finished trip number 12600 / 39306\n",
      "2017-04-04 12:33:35.586360 finished trip number 12700 / 39306\n",
      "2017-04-04 12:34:01.695363 finished trip number 12800 / 39306\n",
      "2017-04-04 12:34:25.112006 finished trip number 12900 / 39306\n",
      "2017-04-04 12:34:51.091706 finished trip number 13000 / 39306\n",
      "2017-04-04 12:35:17.338145 finished trip number 13100 / 39306\n",
      "2017-04-04 12:35:40.092432 finished trip number 13200 / 39306\n",
      "2017-04-04 12:36:03.143324 finished trip number 13300 / 39306\n",
      "2017-04-04 12:36:46.864663 finished trip number 13400 / 39306\n",
      "2017-04-04 12:37:24.007759 finished trip number 13500 / 39306\n",
      "2017-04-04 12:37:53.266432 finished trip number 13600 / 39306\n",
      "2017-04-04 12:38:21.898498 finished trip number 13700 / 39306\n",
      "2017-04-04 12:38:48.094044 finished trip number 13800 / 39306\n",
      "2017-04-04 12:39:12.944951 finished trip number 13900 / 39306\n",
      "2017-04-04 12:39:38.559927 finished trip number 14000 / 39306\n",
      "2017-04-04 12:40:03.953482 finished trip number 14100 / 39306\n",
      "2017-04-04 12:40:29.784919 finished trip number 14200 / 39306\n",
      "2017-04-04 12:40:57.076096 finished trip number 14300 / 39306\n",
      "2017-04-04 12:41:30.739803 finished trip number 14400 / 39306\n",
      "2017-04-04 12:42:03.240000 finished trip number 14500 / 39306\n",
      "2017-04-04 12:42:34.076894 finished trip number 14600 / 39306\n",
      "2017-04-04 12:43:10.169137 finished trip number 14700 / 39306\n",
      "2017-04-04 12:43:32.161240 finished trip number 14800 / 39306\n",
      "2017-04-04 12:43:55.951829 finished trip number 14900 / 39306\n",
      "2017-04-04 12:44:26.461759 finished trip number 15000 / 39306\n",
      "2017-04-04 12:44:51.336929 finished trip number 15100 / 39306\n",
      "2017-04-04 12:45:16.087235 finished trip number 15200 / 39306\n",
      "2017-04-04 12:45:39.472564 finished trip number 15300 / 39306\n",
      "2017-04-04 12:46:07.175089 finished trip number 15400 / 39306\n",
      "2017-04-04 12:46:35.310088 finished trip number 15500 / 39306\n",
      "2017-04-04 12:47:06.564772 finished trip number 15600 / 39306\n",
      "2017-04-04 12:47:42.033702 finished trip number 15700 / 39306\n",
      "2017-04-04 12:48:08.874654 finished trip number 15800 / 39306\n",
      "2017-04-04 12:48:33.357603 finished trip number 15900 / 39306\n",
      "2017-04-04 12:48:56.528258 finished trip number 16000 / 39306\n",
      "2017-04-04 12:49:24.290196 finished trip number 16100 / 39306\n",
      "2017-04-04 12:49:54.112897 finished trip number 16200 / 39306\n",
      "2017-04-04 12:50:25.273741 finished trip number 16300 / 39306\n",
      "2017-04-04 12:50:52.277794 finished trip number 16400 / 39306\n",
      "2017-04-04 12:51:24.091974 finished trip number 16500 / 39306\n",
      "2017-04-04 12:51:50.316663 finished trip number 16600 / 39306\n",
      "2017-04-04 12:52:15.215000 finished trip number 16700 / 39306\n",
      "2017-04-04 12:52:44.946355 finished trip number 16800 / 39306\n",
      "2017-04-04 12:53:11.286833 finished trip number 16900 / 39306\n",
      "2017-04-04 12:53:42.234810 finished trip number 17000 / 39306\n",
      "2017-04-04 12:54:16.737559 finished trip number 17100 / 39306\n",
      "2017-04-04 12:54:51.123697 finished trip number 17200 / 39306\n",
      "2017-04-04 12:55:28.442006 finished trip number 17300 / 39306\n",
      "2017-04-04 12:56:06.429458 finished trip number 17400 / 39306\n",
      "2017-04-04 12:56:34.809093 finished trip number 17500 / 39306\n",
      "2017-04-04 12:57:01.299133 finished trip number 17600 / 39306\n",
      "2017-04-04 12:57:29.228381 finished trip number 17700 / 39306\n",
      "2017-04-04 12:57:54.956330 finished trip number 17800 / 39306\n",
      "2017-04-04 12:58:23.662796 finished trip number 17900 / 39306\n",
      "2017-04-04 12:58:53.168594 finished trip number 18000 / 39306\n",
      "2017-04-04 12:59:18.835880 finished trip number 18100 / 39306\n",
      "2017-04-04 12:59:43.748390 finished trip number 18200 / 39306\n",
      "2017-04-04 13:00:09.515245 finished trip number 18300 / 39306\n",
      "2017-04-04 13:00:34.591126 finished trip number 18400 / 39306\n",
      "2017-04-04 13:00:58.476310 finished trip number 18500 / 39306\n",
      "2017-04-04 13:01:21.080822 finished trip number 18600 / 39306\n",
      "2017-04-04 13:01:45.490025 finished trip number 18700 / 39306\n",
      "2017-04-04 13:02:07.658749 finished trip number 18800 / 39306\n",
      "2017-04-04 13:02:29.765368 finished trip number 18900 / 39306\n",
      "2017-04-04 13:02:56.872080 finished trip number 19000 / 39306\n",
      "2017-04-04 13:03:21.366269 finished trip number 19100 / 39306\n",
      "2017-04-04 13:03:44.831669 finished trip number 19200 / 39306\n",
      "2017-04-04 13:04:09.764020 finished trip number 19300 / 39306\n",
      "2017-04-04 13:04:32.643458 finished trip number 19400 / 39306\n",
      "2017-04-04 13:04:56.363154 finished trip number 19500 / 39306\n",
      "2017-04-04 13:05:16.055703 finished trip number 19600 / 39306\n",
      "2017-04-04 13:05:34.465909 finished trip number 19700 / 39306\n",
      "2017-04-04 13:05:53.060551 finished trip number 19800 / 39306\n",
      "2017-04-04 13:06:11.790728 finished trip number 19900 / 39306\n",
      "2017-04-04 13:06:30.962676 finished trip number 20000 / 39306\n",
      "2017-04-04 13:06:52.182687 finished trip number 20100 / 39306\n",
      "2017-04-04 13:07:12.815609 finished trip number 20200 / 39306\n",
      "2017-04-04 13:07:31.805923 finished trip number 20300 / 39306\n",
      "2017-04-04 13:07:50.660358 finished trip number 20400 / 39306\n",
      "2017-04-04 13:08:10.393806 finished trip number 20500 / 39306\n",
      "2017-04-04 13:08:30.401097 finished trip number 20600 / 39306\n",
      "2017-04-04 13:08:51.303332 finished trip number 20700 / 39306\n",
      "2017-04-04 13:09:13.621746 finished trip number 20800 / 39306\n",
      "2017-04-04 13:09:33.445855 finished trip number 20900 / 39306\n",
      "2017-04-04 13:09:52.711806 finished trip number 21000 / 39306\n",
      "2017-04-04 13:10:16.082748 finished trip number 21100 / 39306\n",
      "2017-04-04 13:10:40.036872 finished trip number 21200 / 39306\n",
      "2017-04-04 13:10:59.607795 finished trip number 21300 / 39306\n",
      "2017-04-04 13:11:17.928024 finished trip number 21400 / 39306\n",
      "2017-04-04 13:11:38.408889 finished trip number 21500 / 39306\n",
      "2017-04-04 13:11:58.847981 finished trip number 21600 / 39306\n",
      "2017-04-04 13:12:18.883050 finished trip number 21700 / 39306\n",
      "2017-04-04 13:12:38.834248 finished trip number 21800 / 39306\n",
      "2017-04-04 13:12:59.283655 finished trip number 21900 / 39306\n",
      "2017-04-04 13:13:20.517055 finished trip number 22000 / 39306\n",
      "2017-04-04 13:13:43.882631 finished trip number 22100 / 39306\n",
      "2017-04-04 13:14:04.438214 finished trip number 22200 / 39306\n",
      "2017-04-04 13:14:25.224560 finished trip number 22300 / 39306\n",
      "2017-04-04 13:14:48.359451 finished trip number 22400 / 39306\n",
      "2017-04-04 13:15:11.125327 finished trip number 22500 / 39306\n",
      "2017-04-04 13:15:33.693847 finished trip number 22600 / 39306\n",
      "2017-04-04 13:16:01.163522 finished trip number 22700 / 39306\n",
      "2017-04-04 13:16:20.415665 finished trip number 22800 / 39306\n",
      "2017-04-04 13:16:44.874894 finished trip number 22900 / 39306\n",
      "2017-04-04 13:17:06.599427 finished trip number 23000 / 39306\n",
      "2017-04-04 13:17:29.811586 finished trip number 23100 / 39306\n",
      "2017-04-04 13:17:52.828652 finished trip number 23200 / 39306\n",
      "2017-04-04 13:18:12.035570 finished trip number 23300 / 39306\n",
      "2017-04-04 13:18:34.292780 finished trip number 23400 / 39306\n",
      "2017-04-04 13:18:57.405332 finished trip number 23500 / 39306\n",
      "2017-04-04 13:19:21.704266 finished trip number 23600 / 39306\n",
      "2017-04-04 13:19:46.264288 finished trip number 23700 / 39306\n",
      "2017-04-04 13:20:10.192120 finished trip number 23800 / 39306\n",
      "2017-04-04 13:20:33.281255 finished trip number 23900 / 39306\n",
      "2017-04-04 13:20:56.127250 finished trip number 24000 / 39306\n",
      "2017-04-04 13:21:18.795453 finished trip number 24100 / 39306\n",
      "2017-04-04 13:21:41.456621 finished trip number 24200 / 39306\n",
      "2017-04-04 13:22:04.951731 finished trip number 24300 / 39306\n",
      "2017-04-04 13:22:28.544289 finished trip number 24400 / 39306\n",
      "2017-04-04 13:22:51.100928 finished trip number 24500 / 39306\n",
      "2017-04-04 13:23:13.141916 finished trip number 24600 / 39306\n",
      "2017-04-04 13:23:35.088648 finished trip number 24700 / 39306\n",
      "2017-04-04 13:23:57.426267 finished trip number 24800 / 39306\n",
      "2017-04-04 13:24:26.264910 finished trip number 24900 / 39306\n",
      "2017-04-04 13:24:57.191836 finished trip number 25000 / 39306\n",
      "2017-04-04 13:25:31.018429 finished trip number 25100 / 39306\n",
      "2017-04-04 13:25:58.253366 finished trip number 25200 / 39306\n",
      "2017-04-04 13:26:21.094892 finished trip number 25300 / 39306\n",
      "2017-04-04 13:27:08.268450 finished trip number 25400 / 39306\n",
      "2017-04-04 13:27:55.304131 finished trip number 25500 / 39306\n",
      "2017-04-04 13:28:39.884113 finished trip number 25600 / 39306\n",
      "2017-04-04 13:29:43.369997 finished trip number 25700 / 39306\n",
      "2017-04-04 13:30:35.358936 finished trip number 25800 / 39306\n",
      "2017-04-04 13:31:28.005996 finished trip number 25900 / 39306\n",
      "2017-04-04 13:32:15.383610 finished trip number 26000 / 39306\n",
      "2017-04-04 13:33:05.623737 finished trip number 26100 / 39306\n",
      "2017-04-04 13:33:32.914221 finished trip number 26200 / 39306\n",
      "2017-04-04 13:33:54.374546 finished trip number 26300 / 39306\n",
      "2017-04-04 13:34:19.152736 finished trip number 26400 / 39306\n",
      "2017-04-04 13:34:40.857113 finished trip number 26500 / 39306\n",
      "2017-04-04 13:35:02.341940 finished trip number 26600 / 39306\n",
      "2017-04-04 13:35:24.942108 finished trip number 26700 / 39306\n",
      "2017-04-04 13:35:49.639029 finished trip number 26800 / 39306\n",
      "2017-04-04 13:36:10.688855 finished trip number 26900 / 39306\n",
      "2017-04-04 13:36:30.827694 finished trip number 27000 / 39306\n",
      "2017-04-04 13:36:54.455502 finished trip number 27100 / 39306\n",
      "2017-04-04 13:37:15.642100 finished trip number 27200 / 39306\n",
      "2017-04-04 13:37:37.428051 finished trip number 27300 / 39306\n",
      "2017-04-04 13:38:00.389467 finished trip number 27400 / 39306\n",
      "2017-04-04 13:38:19.711613 finished trip number 27500 / 39306\n",
      "2017-04-04 13:38:48.495178 finished trip number 27600 / 39306\n",
      "2017-04-04 13:39:05.822620 finished trip number 27700 / 39306\n",
      "2017-04-04 13:39:24.228055 finished trip number 27800 / 39306\n",
      "2017-04-04 13:39:41.785069 finished trip number 27900 / 39306\n",
      "2017-04-04 13:39:59.991802 finished trip number 28000 / 39306\n",
      "2017-04-04 13:40:38.081793 finished trip number 28100 / 39306\n",
      "2017-04-04 13:41:25.606983 finished trip number 28200 / 39306\n",
      "2017-04-04 13:42:13.045369 finished trip number 28300 / 39306\n",
      "2017-04-04 13:42:58.341503 finished trip number 28400 / 39306\n",
      "2017-04-04 13:43:42.252106 finished trip number 28500 / 39306\n",
      "2017-04-04 13:44:25.843794 finished trip number 28600 / 39306\n",
      "2017-04-04 13:45:19.344277 finished trip number 28700 / 39306\n",
      "2017-04-04 13:46:07.878507 finished trip number 28800 / 39306\n",
      "2017-04-04 13:46:55.463172 finished trip number 28900 / 39306\n",
      "2017-04-04 13:47:37.623457 finished trip number 29000 / 39306\n",
      "2017-04-04 13:48:18.315166 finished trip number 29100 / 39306\n",
      "2017-04-04 13:48:58.892701 finished trip number 29200 / 39306\n",
      "2017-04-04 13:49:47.420287 finished trip number 29300 / 39306\n",
      "2017-04-04 13:50:44.464030 finished trip number 29400 / 39306\n",
      "2017-04-04 13:51:16.035943 finished trip number 29500 / 39306\n",
      "2017-04-04 13:51:42.577982 finished trip number 29600 / 39306\n",
      "2017-04-04 13:52:06.885840 finished trip number 29700 / 39306\n",
      "2017-04-04 13:52:39.164894 finished trip number 29800 / 39306\n",
      "2017-04-04 13:53:04.108629 finished trip number 29900 / 39306\n",
      "2017-04-04 13:53:28.428784 finished trip number 30000 / 39306\n",
      "2017-04-04 13:53:49.740331 finished trip number 30100 / 39306\n",
      "2017-04-04 13:54:09.652805 finished trip number 30200 / 39306\n",
      "2017-04-04 13:54:38.482617 finished trip number 30300 / 39306\n",
      "2017-04-04 13:54:59.987960 finished trip number 30400 / 39306\n",
      "2017-04-04 13:55:19.306940 finished trip number 30500 / 39306\n",
      "2017-04-04 13:55:40.737109 finished trip number 30600 / 39306\n",
      "2017-04-04 13:56:02.914001 finished trip number 30700 / 39306\n",
      "2017-04-04 13:56:22.284510 finished trip number 30800 / 39306\n",
      "2017-04-04 13:56:40.385692 finished trip number 30900 / 39306\n",
      "2017-04-04 13:56:57.938518 finished trip number 31000 / 39306\n",
      "2017-04-04 13:57:15.548951 finished trip number 31100 / 39306\n",
      "2017-04-04 13:57:34.333619 finished trip number 31200 / 39306\n",
      "2017-04-04 13:57:52.081514 finished trip number 31300 / 39306\n",
      "2017-04-04 13:58:09.958265 finished trip number 31400 / 39306\n",
      "2017-04-04 13:58:27.963080 finished trip number 31500 / 39306\n",
      "2017-04-04 13:58:45.446757 finished trip number 31600 / 39306\n",
      "2017-04-04 13:59:02.868144 finished trip number 31700 / 39306\n",
      "2017-04-04 13:59:22.642333 finished trip number 31800 / 39306\n",
      "2017-04-04 13:59:41.923045 finished trip number 31900 / 39306\n",
      "2017-04-04 14:00:01.448955 finished trip number 32000 / 39306\n",
      "2017-04-04 14:00:20.274073 finished trip number 32100 / 39306\n",
      "2017-04-04 14:00:37.970634 finished trip number 32200 / 39306\n",
      "2017-04-04 14:00:56.843728 finished trip number 32300 / 39306\n",
      "2017-04-04 14:01:15.894999 finished trip number 32400 / 39306\n",
      "2017-04-04 14:01:36.101532 finished trip number 32500 / 39306\n",
      "2017-04-04 14:01:53.843516 finished trip number 32600 / 39306\n",
      "2017-04-04 14:02:11.090874 finished trip number 32700 / 39306\n",
      "2017-04-04 14:02:28.308587 finished trip number 32800 / 39306\n",
      "2017-04-04 14:02:45.099031 finished trip number 32900 / 39306\n",
      "2017-04-04 14:03:02.143990 finished trip number 33000 / 39306\n",
      "2017-04-04 14:03:19.389552 finished trip number 33100 / 39306\n",
      "2017-04-04 14:03:37.254920 finished trip number 33200 / 39306\n",
      "2017-04-04 14:03:56.088314 finished trip number 33300 / 39306\n",
      "2017-04-04 14:04:14.330005 finished trip number 33400 / 39306\n",
      "2017-04-04 14:04:32.383887 finished trip number 33500 / 39306\n",
      "2017-04-04 14:04:49.856378 finished trip number 33600 / 39306\n",
      "2017-04-04 14:05:07.547147 finished trip number 33700 / 39306\n",
      "2017-04-04 14:05:25.969122 finished trip number 33800 / 39306\n",
      "2017-04-04 14:05:43.799235 finished trip number 33900 / 39306\n",
      "2017-04-04 14:06:01.919826 finished trip number 34000 / 39306\n",
      "2017-04-04 14:06:20.936923 finished trip number 34100 / 39306\n",
      "2017-04-04 14:06:40.889518 finished trip number 34200 / 39306\n",
      "2017-04-04 14:06:59.689587 finished trip number 34300 / 39306\n",
      "2017-04-04 14:07:18.098636 finished trip number 34400 / 39306\n",
      "2017-04-04 14:07:36.734157 finished trip number 34500 / 39306\n",
      "2017-04-04 14:07:54.368652 finished trip number 34600 / 39306\n",
      "2017-04-04 14:08:11.979436 finished trip number 34700 / 39306\n",
      "2017-04-04 14:08:29.227073 finished trip number 34800 / 39306\n",
      "2017-04-04 14:08:46.014254 finished trip number 34900 / 39306\n",
      "2017-04-04 14:09:03.406649 finished trip number 35000 / 39306\n",
      "2017-04-04 14:09:20.888631 finished trip number 35100 / 39306\n",
      "2017-04-04 14:09:38.144058 finished trip number 35200 / 39306\n",
      "2017-04-04 14:09:54.989444 finished trip number 35300 / 39306\n",
      "2017-04-04 14:10:12.548493 finished trip number 35400 / 39306\n",
      "2017-04-04 14:10:30.247165 finished trip number 35500 / 39306\n",
      "2017-04-04 14:10:47.739927 finished trip number 35600 / 39306\n",
      "2017-04-04 14:11:07.505708 finished trip number 35700 / 39306\n",
      "2017-04-04 14:11:28.586002 finished trip number 35800 / 39306\n",
      "2017-04-04 14:11:46.073623 finished trip number 35900 / 39306\n",
      "2017-04-04 14:12:06.779178 finished trip number 36000 / 39306\n",
      "2017-04-04 14:12:26.767202 finished trip number 36100 / 39306\n",
      "2017-04-04 14:12:48.298097 finished trip number 36200 / 39306\n",
      "2017-04-04 14:13:06.674872 finished trip number 36300 / 39306\n",
      "2017-04-04 14:13:31.252756 finished trip number 36400 / 39306\n",
      "2017-04-04 14:13:50.812824 finished trip number 36500 / 39306\n",
      "2017-04-04 14:14:11.765775 finished trip number 36600 / 39306\n",
      "2017-04-04 14:14:32.105178 finished trip number 36700 / 39306\n",
      "2017-04-04 14:14:52.665539 finished trip number 36800 / 39306\n",
      "2017-04-04 14:15:09.922691 finished trip number 36900 / 39306\n",
      "2017-04-04 14:15:29.637136 finished trip number 37000 / 39306\n",
      "2017-04-04 14:15:49.174452 finished trip number 37100 / 39306\n",
      "2017-04-04 14:16:09.015128 finished trip number 37200 / 39306\n",
      "2017-04-04 14:16:28.871321 finished trip number 37300 / 39306\n",
      "2017-04-04 14:16:48.970789 finished trip number 37400 / 39306\n",
      "2017-04-04 14:17:09.153474 finished trip number 37500 / 39306\n",
      "2017-04-04 14:17:29.049385 finished trip number 37600 / 39306\n",
      "2017-04-04 14:17:48.233438 finished trip number 37700 / 39306\n",
      "2017-04-04 14:18:09.849774 finished trip number 37800 / 39306\n",
      "2017-04-04 14:18:32.918190 finished trip number 37900 / 39306\n",
      "2017-04-04 14:18:55.294599 finished trip number 38000 / 39306\n",
      "2017-04-04 14:19:17.526121 finished trip number 38100 / 39306\n",
      "2017-04-04 14:19:40.376190 finished trip number 38200 / 39306\n",
      "2017-04-04 14:20:01.207290 finished trip number 38300 / 39306\n",
      "2017-04-04 14:20:22.756798 finished trip number 38400 / 39306\n",
      "2017-04-04 14:20:42.306998 finished trip number 38500 / 39306\n",
      "2017-04-04 14:20:59.813714 finished trip number 38600 / 39306\n",
      "2017-04-04 14:21:17.728440 finished trip number 38700 / 39306\n",
      "2017-04-04 14:21:37.479506 finished trip number 38800 / 39306\n",
      "2017-04-04 14:21:58.442359 finished trip number 38900 / 39306\n",
      "2017-04-04 14:22:20.512542 finished trip number 39000 / 39306\n",
      "2017-04-04 14:22:42.989677 finished trip number 39100 / 39306\n",
      "2017-04-04 14:23:06.370524 finished trip number 39200 / 39306\n",
      "2017-04-04 14:23:29.933388 finished trip number 39300 / 39306\n"
     ]
    }
   ],
   "source": [
    "triplist = []\n",
    "count = 0\n",
    "\n",
    "for i in monday_trips:\n",
    "    count += 1\n",
    "    df = stop_times[stop_times['trip_id'] == i]\n",
    "    \n",
    "    # add arrival and departure dates\n",
    "    df = add_arrival_date(df, dates = arbitrary_dates)\n",
    "    df = add_departure_date(df, dates = arbitrary_dates)\n",
    "    df['arrival_datetime'] = pd.to_datetime(df['arrival_date'] + ' ' + df['arrival_time'])\n",
    "    df['departure_datetime'] = pd.to_datetime(df['departure_date'] + ' ' + df['departure_time'])\n",
    "\n",
    "    # join df with stops\n",
    "    df = pd.merge(df, stops[['stop_id', 'stop_name', 'stop_lat', 'stop_lon']],left_on='stop_id', right_on='stop_id')\n",
    "\n",
    "    # join df with trips to get direction id\n",
    "    df = pd.merge(df, trips[['trip_id', 'direction_id', 'route_id']], left_on='trip_id', right_on='trip_id', how='left')\n",
    "\n",
    "    # join df with routes to get route id\n",
    "    df = pd.merge(df, routes[['route_id', 'route_long_name']], left_on='route_id', right_on='route_id', how='left')\n",
    "    \n",
    "    # create new dataframe to store results\n",
    "    legs = pd.DataFrame()\n",
    "    legs['type_id'] = 3 # brooklyn\n",
    "    legs['starttime'] = df['departure_datetime']\n",
    "    legs['stoptime'] = df['arrival_datetime'].shift(-1).fillna(method='ffill')\n",
    "    legs['tripduration'] = ((legs['stoptime'] - legs['starttime'])/np.timedelta64(1, 's')).astype(int)\n",
    "    legs['start_lat'] = df['stop_lat']\n",
    "    legs['start_lon'] = df['stop_lon']\n",
    "    legs['end_lat'] = legs['start_lat'].shift(-1).fillna(method='ffill')\n",
    "    legs['end_lon'] = legs['start_lon'].shift(-1).fillna(method='ffill')\n",
    "    \n",
    "    # append results to triplist\n",
    "    triplist.append(legs)\n",
    "    \n",
    "    if count % 100 == 0:\n",
    "        print str(dt.datetime.now()), \"finished trip number\", count, \"/\", len(monday_trips)"
   ]
  },
  {
   "cell_type": "code",
   "execution_count": 96,
   "metadata": {
    "collapsed": false
   },
   "outputs": [
    {
     "data": {
      "text/html": [
       "<div>\n",
       "<table border=\"1\" class=\"dataframe\">\n",
       "  <thead>\n",
       "    <tr style=\"text-align: right;\">\n",
       "      <th></th>\n",
       "      <th>type_id</th>\n",
       "      <th>starttime</th>\n",
       "      <th>stoptime</th>\n",
       "      <th>tripduration</th>\n",
       "      <th>start_lat</th>\n",
       "      <th>start_lon</th>\n",
       "      <th>end_lat</th>\n",
       "      <th>end_lon</th>\n",
       "    </tr>\n",
       "  </thead>\n",
       "  <tbody>\n",
       "    <tr>\n",
       "      <th>0</th>\n",
       "      <td>NaN</td>\n",
       "      <td>2015-01-05 01:10:00</td>\n",
       "      <td>2015-01-05 01:10:19</td>\n",
       "      <td>19</td>\n",
       "      <td>40.692478</td>\n",
       "      <td>-73.927902</td>\n",
       "      <td>40.692379</td>\n",
       "      <td>-73.927277</td>\n",
       "    </tr>\n",
       "    <tr>\n",
       "      <th>1</th>\n",
       "      <td>NaN</td>\n",
       "      <td>2015-01-05 01:10:19</td>\n",
       "      <td>2015-01-05 01:11:10</td>\n",
       "      <td>51</td>\n",
       "      <td>40.692379</td>\n",
       "      <td>-73.927277</td>\n",
       "      <td>40.691151</td>\n",
       "      <td>-73.925125</td>\n",
       "    </tr>\n",
       "    <tr>\n",
       "      <th>2</th>\n",
       "      <td>NaN</td>\n",
       "      <td>2015-01-05 01:11:10</td>\n",
       "      <td>2015-01-05 01:12:04</td>\n",
       "      <td>54</td>\n",
       "      <td>40.691151</td>\n",
       "      <td>-73.925125</td>\n",
       "      <td>40.689896</td>\n",
       "      <td>-73.922913</td>\n",
       "    </tr>\n",
       "    <tr>\n",
       "      <th>3</th>\n",
       "      <td>NaN</td>\n",
       "      <td>2015-01-05 01:12:04</td>\n",
       "      <td>2015-01-05 01:13:24</td>\n",
       "      <td>80</td>\n",
       "      <td>40.689896</td>\n",
       "      <td>-73.922913</td>\n",
       "      <td>40.687988</td>\n",
       "      <td>-73.919579</td>\n",
       "    </tr>\n",
       "    <tr>\n",
       "      <th>4</th>\n",
       "      <td>NaN</td>\n",
       "      <td>2015-01-05 01:13:24</td>\n",
       "      <td>2015-01-05 01:14:14</td>\n",
       "      <td>50</td>\n",
       "      <td>40.687988</td>\n",
       "      <td>-73.919579</td>\n",
       "      <td>40.686817</td>\n",
       "      <td>-73.917503</td>\n",
       "    </tr>\n",
       "  </tbody>\n",
       "</table>\n",
       "</div>"
      ],
      "text/plain": [
       "   type_id           starttime            stoptime  tripduration  start_lat  \\\n",
       "0      NaN 2015-01-05 01:10:00 2015-01-05 01:10:19            19  40.692478   \n",
       "1      NaN 2015-01-05 01:10:19 2015-01-05 01:11:10            51  40.692379   \n",
       "2      NaN 2015-01-05 01:11:10 2015-01-05 01:12:04            54  40.691151   \n",
       "3      NaN 2015-01-05 01:12:04 2015-01-05 01:13:24            80  40.689896   \n",
       "4      NaN 2015-01-05 01:13:24 2015-01-05 01:14:14            50  40.687988   \n",
       "\n",
       "   start_lon    end_lat    end_lon  \n",
       "0 -73.927902  40.692379 -73.927277  \n",
       "1 -73.927277  40.691151 -73.925125  \n",
       "2 -73.925125  40.689896 -73.922913  \n",
       "3 -73.922913  40.687988 -73.919579  \n",
       "4 -73.919579  40.686817 -73.917503  "
      ]
     },
     "execution_count": 96,
     "metadata": {},
     "output_type": "execute_result"
    }
   ],
   "source": [
    "triplist[0].head()"
   ]
  },
  {
   "cell_type": "code",
   "execution_count": 97,
   "metadata": {
    "collapsed": false
   },
   "outputs": [
    {
     "data": {
      "text/plain": [
       "39306"
      ]
     },
     "execution_count": 97,
     "metadata": {},
     "output_type": "execute_result"
    }
   ],
   "source": [
    "len(triplist)"
   ]
  },
  {
   "cell_type": "markdown",
   "metadata": {},
   "source": [
    "I'm not sure why type_id is NaN. Let's fix that and set it to 3 (the color code for brookyn buses):"
   ]
  },
  {
   "cell_type": "code",
   "execution_count": 108,
   "metadata": {
    "collapsed": true
   },
   "outputs": [],
   "source": [
    "for df in triplist:\n",
    "    df.type_id = 3"
   ]
  },
  {
   "cell_type": "code",
   "execution_count": 112,
   "metadata": {
    "collapsed": false
   },
   "outputs": [
    {
     "data": {
      "text/html": [
       "<div>\n",
       "<table border=\"1\" class=\"dataframe\">\n",
       "  <thead>\n",
       "    <tr style=\"text-align: right;\">\n",
       "      <th></th>\n",
       "      <th>type_id</th>\n",
       "      <th>starttime</th>\n",
       "      <th>stoptime</th>\n",
       "      <th>tripduration</th>\n",
       "      <th>start_lat</th>\n",
       "      <th>start_lon</th>\n",
       "      <th>end_lat</th>\n",
       "      <th>end_lon</th>\n",
       "    </tr>\n",
       "  </thead>\n",
       "  <tbody>\n",
       "    <tr>\n",
       "      <th>0</th>\n",
       "      <td>3</td>\n",
       "      <td>2015-01-05 15:04:00</td>\n",
       "      <td>2015-01-05 15:07:00</td>\n",
       "      <td>180</td>\n",
       "      <td>40.678391</td>\n",
       "      <td>-73.903549</td>\n",
       "      <td>40.677212</td>\n",
       "      <td>-73.899139</td>\n",
       "    </tr>\n",
       "    <tr>\n",
       "      <th>1</th>\n",
       "      <td>3</td>\n",
       "      <td>2015-01-05 15:07:00</td>\n",
       "      <td>2015-01-05 15:07:58</td>\n",
       "      <td>58</td>\n",
       "      <td>40.677212</td>\n",
       "      <td>-73.899139</td>\n",
       "      <td>40.678295</td>\n",
       "      <td>-73.896996</td>\n",
       "    </tr>\n",
       "    <tr>\n",
       "      <th>2</th>\n",
       "      <td>3</td>\n",
       "      <td>2015-01-05 15:07:58</td>\n",
       "      <td>2015-01-05 15:08:52</td>\n",
       "      <td>54</td>\n",
       "      <td>40.678295</td>\n",
       "      <td>-73.896996</td>\n",
       "      <td>40.679253</td>\n",
       "      <td>-73.894920</td>\n",
       "    </tr>\n",
       "    <tr>\n",
       "      <th>3</th>\n",
       "      <td>3</td>\n",
       "      <td>2015-01-05 15:08:52</td>\n",
       "      <td>2015-01-05 15:09:13</td>\n",
       "      <td>21</td>\n",
       "      <td>40.679253</td>\n",
       "      <td>-73.894920</td>\n",
       "      <td>40.679634</td>\n",
       "      <td>-73.894119</td>\n",
       "    </tr>\n",
       "    <tr>\n",
       "      <th>4</th>\n",
       "      <td>3</td>\n",
       "      <td>2015-01-05 15:09:13</td>\n",
       "      <td>2015-01-05 15:10:08</td>\n",
       "      <td>55</td>\n",
       "      <td>40.679634</td>\n",
       "      <td>-73.894119</td>\n",
       "      <td>40.680656</td>\n",
       "      <td>-73.891998</td>\n",
       "    </tr>\n",
       "    <tr>\n",
       "      <th>5</th>\n",
       "      <td>3</td>\n",
       "      <td>2015-01-05 15:10:08</td>\n",
       "      <td>2015-01-05 15:10:54</td>\n",
       "      <td>46</td>\n",
       "      <td>40.680656</td>\n",
       "      <td>-73.891998</td>\n",
       "      <td>40.681480</td>\n",
       "      <td>-73.890282</td>\n",
       "    </tr>\n",
       "    <tr>\n",
       "      <th>6</th>\n",
       "      <td>3</td>\n",
       "      <td>2015-01-05 15:10:54</td>\n",
       "      <td>2015-01-05 15:11:24</td>\n",
       "      <td>30</td>\n",
       "      <td>40.681480</td>\n",
       "      <td>-73.890282</td>\n",
       "      <td>40.682034</td>\n",
       "      <td>-73.889137</td>\n",
       "    </tr>\n",
       "    <tr>\n",
       "      <th>7</th>\n",
       "      <td>3</td>\n",
       "      <td>2015-01-05 15:11:24</td>\n",
       "      <td>2015-01-05 15:11:46</td>\n",
       "      <td>22</td>\n",
       "      <td>40.682034</td>\n",
       "      <td>-73.889137</td>\n",
       "      <td>40.682438</td>\n",
       "      <td>-73.888290</td>\n",
       "    </tr>\n",
       "    <tr>\n",
       "      <th>8</th>\n",
       "      <td>3</td>\n",
       "      <td>2015-01-05 15:11:46</td>\n",
       "      <td>2015-01-05 15:13:05</td>\n",
       "      <td>79</td>\n",
       "      <td>40.682438</td>\n",
       "      <td>-73.888290</td>\n",
       "      <td>40.683861</td>\n",
       "      <td>-73.885269</td>\n",
       "    </tr>\n",
       "    <tr>\n",
       "      <th>9</th>\n",
       "      <td>3</td>\n",
       "      <td>2015-01-05 15:13:05</td>\n",
       "      <td>2015-01-05 15:14:14</td>\n",
       "      <td>69</td>\n",
       "      <td>40.683861</td>\n",
       "      <td>-73.885269</td>\n",
       "      <td>40.685093</td>\n",
       "      <td>-73.882629</td>\n",
       "    </tr>\n",
       "    <tr>\n",
       "      <th>10</th>\n",
       "      <td>3</td>\n",
       "      <td>2015-01-05 15:14:14</td>\n",
       "      <td>2015-01-05 15:15:00</td>\n",
       "      <td>46</td>\n",
       "      <td>40.685093</td>\n",
       "      <td>-73.882629</td>\n",
       "      <td>40.685921</td>\n",
       "      <td>-73.880875</td>\n",
       "    </tr>\n",
       "    <tr>\n",
       "      <th>11</th>\n",
       "      <td>3</td>\n",
       "      <td>2015-01-05 15:15:00</td>\n",
       "      <td>2015-01-05 15:15:56</td>\n",
       "      <td>56</td>\n",
       "      <td>40.685921</td>\n",
       "      <td>-73.880875</td>\n",
       "      <td>40.686974</td>\n",
       "      <td>-73.878746</td>\n",
       "    </tr>\n",
       "    <tr>\n",
       "      <th>12</th>\n",
       "      <td>3</td>\n",
       "      <td>2015-01-05 15:15:56</td>\n",
       "      <td>2015-01-05 15:17:12</td>\n",
       "      <td>76</td>\n",
       "      <td>40.686974</td>\n",
       "      <td>-73.878746</td>\n",
       "      <td>40.688408</td>\n",
       "      <td>-73.875908</td>\n",
       "    </tr>\n",
       "    <tr>\n",
       "      <th>13</th>\n",
       "      <td>3</td>\n",
       "      <td>2015-01-05 15:17:12</td>\n",
       "      <td>2015-01-05 15:18:00</td>\n",
       "      <td>48</td>\n",
       "      <td>40.688408</td>\n",
       "      <td>-73.875908</td>\n",
       "      <td>40.689262</td>\n",
       "      <td>-73.874069</td>\n",
       "    </tr>\n",
       "    <tr>\n",
       "      <th>14</th>\n",
       "      <td>3</td>\n",
       "      <td>2015-01-05 15:18:00</td>\n",
       "      <td>2015-01-05 15:18:49</td>\n",
       "      <td>49</td>\n",
       "      <td>40.689262</td>\n",
       "      <td>-73.874069</td>\n",
       "      <td>40.689796</td>\n",
       "      <td>-73.872711</td>\n",
       "    </tr>\n",
       "    <tr>\n",
       "      <th>15</th>\n",
       "      <td>3</td>\n",
       "      <td>2015-01-05 15:18:49</td>\n",
       "      <td>2015-01-05 15:19:38</td>\n",
       "      <td>49</td>\n",
       "      <td>40.689796</td>\n",
       "      <td>-73.872711</td>\n",
       "      <td>40.690327</td>\n",
       "      <td>-73.871361</td>\n",
       "    </tr>\n",
       "    <tr>\n",
       "      <th>16</th>\n",
       "      <td>3</td>\n",
       "      <td>2015-01-05 15:19:38</td>\n",
       "      <td>2015-01-05 15:20:35</td>\n",
       "      <td>57</td>\n",
       "      <td>40.690327</td>\n",
       "      <td>-73.871361</td>\n",
       "      <td>40.690750</td>\n",
       "      <td>-73.869675</td>\n",
       "    </tr>\n",
       "    <tr>\n",
       "      <th>17</th>\n",
       "      <td>3</td>\n",
       "      <td>2015-01-05 15:20:35</td>\n",
       "      <td>2015-01-05 15:21:27</td>\n",
       "      <td>52</td>\n",
       "      <td>40.690750</td>\n",
       "      <td>-73.869675</td>\n",
       "      <td>40.691105</td>\n",
       "      <td>-73.868149</td>\n",
       "    </tr>\n",
       "    <tr>\n",
       "      <th>18</th>\n",
       "      <td>3</td>\n",
       "      <td>2015-01-05 15:21:27</td>\n",
       "      <td>2015-01-05 15:22:34</td>\n",
       "      <td>67</td>\n",
       "      <td>40.691105</td>\n",
       "      <td>-73.868149</td>\n",
       "      <td>40.691422</td>\n",
       "      <td>-73.866089</td>\n",
       "    </tr>\n",
       "    <tr>\n",
       "      <th>19</th>\n",
       "      <td>3</td>\n",
       "      <td>2015-01-05 15:22:34</td>\n",
       "      <td>2015-01-05 15:23:34</td>\n",
       "      <td>60</td>\n",
       "      <td>40.691422</td>\n",
       "      <td>-73.866089</td>\n",
       "      <td>40.691730</td>\n",
       "      <td>-73.864258</td>\n",
       "    </tr>\n",
       "    <tr>\n",
       "      <th>20</th>\n",
       "      <td>3</td>\n",
       "      <td>2015-01-05 15:23:34</td>\n",
       "      <td>2015-01-05 15:25:02</td>\n",
       "      <td>88</td>\n",
       "      <td>40.691730</td>\n",
       "      <td>-73.864258</td>\n",
       "      <td>40.692158</td>\n",
       "      <td>-73.861588</td>\n",
       "    </tr>\n",
       "    <tr>\n",
       "      <th>21</th>\n",
       "      <td>3</td>\n",
       "      <td>2015-01-05 15:25:02</td>\n",
       "      <td>2015-01-05 15:26:39</td>\n",
       "      <td>97</td>\n",
       "      <td>40.692158</td>\n",
       "      <td>-73.861588</td>\n",
       "      <td>40.692490</td>\n",
       "      <td>-73.858582</td>\n",
       "    </tr>\n",
       "    <tr>\n",
       "      <th>22</th>\n",
       "      <td>3</td>\n",
       "      <td>2015-01-05 15:26:39</td>\n",
       "      <td>2015-01-05 15:27:37</td>\n",
       "      <td>58</td>\n",
       "      <td>40.692490</td>\n",
       "      <td>-73.858582</td>\n",
       "      <td>40.692593</td>\n",
       "      <td>-73.856781</td>\n",
       "    </tr>\n",
       "    <tr>\n",
       "      <th>23</th>\n",
       "      <td>3</td>\n",
       "      <td>2015-01-05 15:27:37</td>\n",
       "      <td>2015-01-05 15:28:31</td>\n",
       "      <td>54</td>\n",
       "      <td>40.692593</td>\n",
       "      <td>-73.856781</td>\n",
       "      <td>40.692696</td>\n",
       "      <td>-73.855110</td>\n",
       "    </tr>\n",
       "    <tr>\n",
       "      <th>24</th>\n",
       "      <td>3</td>\n",
       "      <td>2015-01-05 15:28:31</td>\n",
       "      <td>2015-01-05 15:28:59</td>\n",
       "      <td>28</td>\n",
       "      <td>40.692696</td>\n",
       "      <td>-73.855110</td>\n",
       "      <td>40.692863</td>\n",
       "      <td>-73.854240</td>\n",
       "    </tr>\n",
       "    <tr>\n",
       "      <th>25</th>\n",
       "      <td>3</td>\n",
       "      <td>2015-01-05 15:28:59</td>\n",
       "      <td>2015-01-05 15:30:00</td>\n",
       "      <td>61</td>\n",
       "      <td>40.692863</td>\n",
       "      <td>-73.854240</td>\n",
       "      <td>40.693481</td>\n",
       "      <td>-73.852509</td>\n",
       "    </tr>\n",
       "    <tr>\n",
       "      <th>26</th>\n",
       "      <td>3</td>\n",
       "      <td>2015-01-05 15:30:00</td>\n",
       "      <td>2015-01-05 15:30:47</td>\n",
       "      <td>47</td>\n",
       "      <td>40.693481</td>\n",
       "      <td>-73.852509</td>\n",
       "      <td>40.694004</td>\n",
       "      <td>-73.850983</td>\n",
       "    </tr>\n",
       "    <tr>\n",
       "      <th>27</th>\n",
       "      <td>3</td>\n",
       "      <td>2015-01-05 15:30:47</td>\n",
       "      <td>2015-01-05 15:31:42</td>\n",
       "      <td>55</td>\n",
       "      <td>40.694004</td>\n",
       "      <td>-73.850983</td>\n",
       "      <td>40.694450</td>\n",
       "      <td>-73.849091</td>\n",
       "    </tr>\n",
       "    <tr>\n",
       "      <th>28</th>\n",
       "      <td>3</td>\n",
       "      <td>2015-01-05 15:31:42</td>\n",
       "      <td>2015-01-05 15:32:33</td>\n",
       "      <td>51</td>\n",
       "      <td>40.694450</td>\n",
       "      <td>-73.849091</td>\n",
       "      <td>40.694794</td>\n",
       "      <td>-73.847321</td>\n",
       "    </tr>\n",
       "    <tr>\n",
       "      <th>29</th>\n",
       "      <td>3</td>\n",
       "      <td>2015-01-05 15:32:33</td>\n",
       "      <td>2015-01-05 15:33:44</td>\n",
       "      <td>71</td>\n",
       "      <td>40.694794</td>\n",
       "      <td>-73.847321</td>\n",
       "      <td>40.695114</td>\n",
       "      <td>-73.844826</td>\n",
       "    </tr>\n",
       "    <tr>\n",
       "      <th>30</th>\n",
       "      <td>3</td>\n",
       "      <td>2015-01-05 15:33:44</td>\n",
       "      <td>2015-01-05 15:34:36</td>\n",
       "      <td>52</td>\n",
       "      <td>40.695114</td>\n",
       "      <td>-73.844826</td>\n",
       "      <td>40.695133</td>\n",
       "      <td>-73.842964</td>\n",
       "    </tr>\n",
       "    <tr>\n",
       "      <th>31</th>\n",
       "      <td>3</td>\n",
       "      <td>2015-01-05 15:34:36</td>\n",
       "      <td>2015-01-05 15:36:00</td>\n",
       "      <td>84</td>\n",
       "      <td>40.695133</td>\n",
       "      <td>-73.842964</td>\n",
       "      <td>40.695396</td>\n",
       "      <td>-73.839935</td>\n",
       "    </tr>\n",
       "    <tr>\n",
       "      <th>32</th>\n",
       "      <td>3</td>\n",
       "      <td>2015-01-05 15:36:00</td>\n",
       "      <td>2015-01-05 15:37:01</td>\n",
       "      <td>61</td>\n",
       "      <td>40.695396</td>\n",
       "      <td>-73.839935</td>\n",
       "      <td>40.695969</td>\n",
       "      <td>-73.838394</td>\n",
       "    </tr>\n",
       "    <tr>\n",
       "      <th>33</th>\n",
       "      <td>3</td>\n",
       "      <td>2015-01-05 15:37:01</td>\n",
       "      <td>2015-01-05 15:38:17</td>\n",
       "      <td>76</td>\n",
       "      <td>40.695969</td>\n",
       "      <td>-73.838394</td>\n",
       "      <td>40.697041</td>\n",
       "      <td>-73.836815</td>\n",
       "    </tr>\n",
       "    <tr>\n",
       "      <th>34</th>\n",
       "      <td>3</td>\n",
       "      <td>2015-01-05 15:38:17</td>\n",
       "      <td>2015-01-05 15:39:27</td>\n",
       "      <td>70</td>\n",
       "      <td>40.697041</td>\n",
       "      <td>-73.836815</td>\n",
       "      <td>40.697937</td>\n",
       "      <td>-73.835289</td>\n",
       "    </tr>\n",
       "    <tr>\n",
       "      <th>35</th>\n",
       "      <td>3</td>\n",
       "      <td>2015-01-05 15:39:27</td>\n",
       "      <td>2015-01-05 15:40:35</td>\n",
       "      <td>68</td>\n",
       "      <td>40.697937</td>\n",
       "      <td>-73.835289</td>\n",
       "      <td>40.698780</td>\n",
       "      <td>-73.833763</td>\n",
       "    </tr>\n",
       "    <tr>\n",
       "      <th>36</th>\n",
       "      <td>3</td>\n",
       "      <td>2015-01-05 15:40:35</td>\n",
       "      <td>2015-01-05 15:41:44</td>\n",
       "      <td>69</td>\n",
       "      <td>40.698780</td>\n",
       "      <td>-73.833763</td>\n",
       "      <td>40.699577</td>\n",
       "      <td>-73.832199</td>\n",
       "    </tr>\n",
       "    <tr>\n",
       "      <th>37</th>\n",
       "      <td>3</td>\n",
       "      <td>2015-01-05 15:41:44</td>\n",
       "      <td>2015-01-05 15:43:00</td>\n",
       "      <td>76</td>\n",
       "      <td>40.699577</td>\n",
       "      <td>-73.832199</td>\n",
       "      <td>40.700092</td>\n",
       "      <td>-73.830215</td>\n",
       "    </tr>\n",
       "    <tr>\n",
       "      <th>38</th>\n",
       "      <td>3</td>\n",
       "      <td>2015-01-05 15:43:00</td>\n",
       "      <td>2015-01-05 15:43:48</td>\n",
       "      <td>48</td>\n",
       "      <td>40.700092</td>\n",
       "      <td>-73.830215</td>\n",
       "      <td>40.700333</td>\n",
       "      <td>-73.828873</td>\n",
       "    </tr>\n",
       "    <tr>\n",
       "      <th>39</th>\n",
       "      <td>3</td>\n",
       "      <td>2015-01-05 15:43:48</td>\n",
       "      <td>2015-01-05 15:45:28</td>\n",
       "      <td>100</td>\n",
       "      <td>40.700333</td>\n",
       "      <td>-73.828873</td>\n",
       "      <td>40.700802</td>\n",
       "      <td>-73.826073</td>\n",
       "    </tr>\n",
       "    <tr>\n",
       "      <th>40</th>\n",
       "      <td>3</td>\n",
       "      <td>2015-01-05 15:45:28</td>\n",
       "      <td>2015-01-05 15:46:32</td>\n",
       "      <td>64</td>\n",
       "      <td>40.700802</td>\n",
       "      <td>-73.826073</td>\n",
       "      <td>40.701225</td>\n",
       "      <td>-73.824310</td>\n",
       "    </tr>\n",
       "    <tr>\n",
       "      <th>41</th>\n",
       "      <td>3</td>\n",
       "      <td>2015-01-05 15:46:32</td>\n",
       "      <td>2015-01-05 15:47:54</td>\n",
       "      <td>82</td>\n",
       "      <td>40.701225</td>\n",
       "      <td>-73.824310</td>\n",
       "      <td>40.701782</td>\n",
       "      <td>-73.822060</td>\n",
       "    </tr>\n",
       "    <tr>\n",
       "      <th>42</th>\n",
       "      <td>3</td>\n",
       "      <td>2015-01-05 15:47:54</td>\n",
       "      <td>2015-01-05 15:48:42</td>\n",
       "      <td>48</td>\n",
       "      <td>40.701782</td>\n",
       "      <td>-73.822060</td>\n",
       "      <td>40.702007</td>\n",
       "      <td>-73.820709</td>\n",
       "    </tr>\n",
       "    <tr>\n",
       "      <th>43</th>\n",
       "      <td>3</td>\n",
       "      <td>2015-01-05 15:48:42</td>\n",
       "      <td>2015-01-05 15:50:09</td>\n",
       "      <td>87</td>\n",
       "      <td>40.702007</td>\n",
       "      <td>-73.820709</td>\n",
       "      <td>40.702332</td>\n",
       "      <td>-73.818275</td>\n",
       "    </tr>\n",
       "    <tr>\n",
       "      <th>44</th>\n",
       "      <td>3</td>\n",
       "      <td>2015-01-05 15:50:09</td>\n",
       "      <td>2015-01-05 15:50:54</td>\n",
       "      <td>45</td>\n",
       "      <td>40.702332</td>\n",
       "      <td>-73.818275</td>\n",
       "      <td>40.702385</td>\n",
       "      <td>-73.816956</td>\n",
       "    </tr>\n",
       "    <tr>\n",
       "      <th>45</th>\n",
       "      <td>3</td>\n",
       "      <td>2015-01-05 15:50:54</td>\n",
       "      <td>2015-01-05 15:52:00</td>\n",
       "      <td>66</td>\n",
       "      <td>40.702385</td>\n",
       "      <td>-73.816956</td>\n",
       "      <td>40.702431</td>\n",
       "      <td>-73.815071</td>\n",
       "    </tr>\n",
       "    <tr>\n",
       "      <th>46</th>\n",
       "      <td>3</td>\n",
       "      <td>2015-01-05 15:52:00</td>\n",
       "      <td>2015-01-05 15:53:34</td>\n",
       "      <td>94</td>\n",
       "      <td>40.702431</td>\n",
       "      <td>-73.815071</td>\n",
       "      <td>40.702374</td>\n",
       "      <td>-73.812538</td>\n",
       "    </tr>\n",
       "    <tr>\n",
       "      <th>47</th>\n",
       "      <td>3</td>\n",
       "      <td>2015-01-05 15:53:34</td>\n",
       "      <td>2015-01-05 15:54:34</td>\n",
       "      <td>60</td>\n",
       "      <td>40.702374</td>\n",
       "      <td>-73.812538</td>\n",
       "      <td>40.702106</td>\n",
       "      <td>-73.810951</td>\n",
       "    </tr>\n",
       "    <tr>\n",
       "      <th>48</th>\n",
       "      <td>3</td>\n",
       "      <td>2015-01-05 15:54:34</td>\n",
       "      <td>2015-01-05 15:57:00</td>\n",
       "      <td>146</td>\n",
       "      <td>40.702106</td>\n",
       "      <td>-73.810951</td>\n",
       "      <td>40.701778</td>\n",
       "      <td>-73.807022</td>\n",
       "    </tr>\n",
       "    <tr>\n",
       "      <th>49</th>\n",
       "      <td>3</td>\n",
       "      <td>2015-01-05 15:57:00</td>\n",
       "      <td>2015-01-05 15:58:23</td>\n",
       "      <td>83</td>\n",
       "      <td>40.701778</td>\n",
       "      <td>-73.807022</td>\n",
       "      <td>40.702011</td>\n",
       "      <td>-73.804611</td>\n",
       "    </tr>\n",
       "    <tr>\n",
       "      <th>50</th>\n",
       "      <td>3</td>\n",
       "      <td>2015-01-05 15:58:23</td>\n",
       "      <td>2015-01-05 16:00:56</td>\n",
       "      <td>153</td>\n",
       "      <td>40.702011</td>\n",
       "      <td>-73.804611</td>\n",
       "      <td>40.703178</td>\n",
       "      <td>-73.800400</td>\n",
       "    </tr>\n",
       "    <tr>\n",
       "      <th>51</th>\n",
       "      <td>3</td>\n",
       "      <td>2015-01-05 16:00:56</td>\n",
       "      <td>2015-01-05 16:01:41</td>\n",
       "      <td>45</td>\n",
       "      <td>40.703178</td>\n",
       "      <td>-73.800400</td>\n",
       "      <td>40.703629</td>\n",
       "      <td>-73.799232</td>\n",
       "    </tr>\n",
       "    <tr>\n",
       "      <th>52</th>\n",
       "      <td>3</td>\n",
       "      <td>2015-01-05 16:01:41</td>\n",
       "      <td>2015-01-05 16:03:02</td>\n",
       "      <td>81</td>\n",
       "      <td>40.703629</td>\n",
       "      <td>-73.799232</td>\n",
       "      <td>40.704479</td>\n",
       "      <td>-73.797119</td>\n",
       "    </tr>\n",
       "    <tr>\n",
       "      <th>53</th>\n",
       "      <td>3</td>\n",
       "      <td>2015-01-05 16:03:02</td>\n",
       "      <td>2015-01-05 16:04:45</td>\n",
       "      <td>103</td>\n",
       "      <td>40.704479</td>\n",
       "      <td>-73.797119</td>\n",
       "      <td>40.705559</td>\n",
       "      <td>-73.794464</td>\n",
       "    </tr>\n",
       "    <tr>\n",
       "      <th>54</th>\n",
       "      <td>3</td>\n",
       "      <td>2015-01-05 16:04:45</td>\n",
       "      <td>2015-01-05 16:06:09</td>\n",
       "      <td>84</td>\n",
       "      <td>40.705559</td>\n",
       "      <td>-73.794464</td>\n",
       "      <td>40.706318</td>\n",
       "      <td>-73.792244</td>\n",
       "    </tr>\n",
       "    <tr>\n",
       "      <th>55</th>\n",
       "      <td>3</td>\n",
       "      <td>2015-01-05 16:06:09</td>\n",
       "      <td>2015-01-05 16:08:00</td>\n",
       "      <td>111</td>\n",
       "      <td>40.706318</td>\n",
       "      <td>-73.792244</td>\n",
       "      <td>40.707561</td>\n",
       "      <td>-73.789856</td>\n",
       "    </tr>\n",
       "    <tr>\n",
       "      <th>56</th>\n",
       "      <td>3</td>\n",
       "      <td>2015-01-05 16:08:00</td>\n",
       "      <td>2015-01-05 16:08:00</td>\n",
       "      <td>0</td>\n",
       "      <td>40.707561</td>\n",
       "      <td>-73.789856</td>\n",
       "      <td>40.707561</td>\n",
       "      <td>-73.789856</td>\n",
       "    </tr>\n",
       "  </tbody>\n",
       "</table>\n",
       "</div>"
      ],
      "text/plain": [
       "    type_id           starttime            stoptime  tripduration  start_lat  \\\n",
       "0         3 2015-01-05 15:04:00 2015-01-05 15:07:00           180  40.678391   \n",
       "1         3 2015-01-05 15:07:00 2015-01-05 15:07:58            58  40.677212   \n",
       "2         3 2015-01-05 15:07:58 2015-01-05 15:08:52            54  40.678295   \n",
       "3         3 2015-01-05 15:08:52 2015-01-05 15:09:13            21  40.679253   \n",
       "4         3 2015-01-05 15:09:13 2015-01-05 15:10:08            55  40.679634   \n",
       "5         3 2015-01-05 15:10:08 2015-01-05 15:10:54            46  40.680656   \n",
       "6         3 2015-01-05 15:10:54 2015-01-05 15:11:24            30  40.681480   \n",
       "7         3 2015-01-05 15:11:24 2015-01-05 15:11:46            22  40.682034   \n",
       "8         3 2015-01-05 15:11:46 2015-01-05 15:13:05            79  40.682438   \n",
       "9         3 2015-01-05 15:13:05 2015-01-05 15:14:14            69  40.683861   \n",
       "10        3 2015-01-05 15:14:14 2015-01-05 15:15:00            46  40.685093   \n",
       "11        3 2015-01-05 15:15:00 2015-01-05 15:15:56            56  40.685921   \n",
       "12        3 2015-01-05 15:15:56 2015-01-05 15:17:12            76  40.686974   \n",
       "13        3 2015-01-05 15:17:12 2015-01-05 15:18:00            48  40.688408   \n",
       "14        3 2015-01-05 15:18:00 2015-01-05 15:18:49            49  40.689262   \n",
       "15        3 2015-01-05 15:18:49 2015-01-05 15:19:38            49  40.689796   \n",
       "16        3 2015-01-05 15:19:38 2015-01-05 15:20:35            57  40.690327   \n",
       "17        3 2015-01-05 15:20:35 2015-01-05 15:21:27            52  40.690750   \n",
       "18        3 2015-01-05 15:21:27 2015-01-05 15:22:34            67  40.691105   \n",
       "19        3 2015-01-05 15:22:34 2015-01-05 15:23:34            60  40.691422   \n",
       "20        3 2015-01-05 15:23:34 2015-01-05 15:25:02            88  40.691730   \n",
       "21        3 2015-01-05 15:25:02 2015-01-05 15:26:39            97  40.692158   \n",
       "22        3 2015-01-05 15:26:39 2015-01-05 15:27:37            58  40.692490   \n",
       "23        3 2015-01-05 15:27:37 2015-01-05 15:28:31            54  40.692593   \n",
       "24        3 2015-01-05 15:28:31 2015-01-05 15:28:59            28  40.692696   \n",
       "25        3 2015-01-05 15:28:59 2015-01-05 15:30:00            61  40.692863   \n",
       "26        3 2015-01-05 15:30:00 2015-01-05 15:30:47            47  40.693481   \n",
       "27        3 2015-01-05 15:30:47 2015-01-05 15:31:42            55  40.694004   \n",
       "28        3 2015-01-05 15:31:42 2015-01-05 15:32:33            51  40.694450   \n",
       "29        3 2015-01-05 15:32:33 2015-01-05 15:33:44            71  40.694794   \n",
       "30        3 2015-01-05 15:33:44 2015-01-05 15:34:36            52  40.695114   \n",
       "31        3 2015-01-05 15:34:36 2015-01-05 15:36:00            84  40.695133   \n",
       "32        3 2015-01-05 15:36:00 2015-01-05 15:37:01            61  40.695396   \n",
       "33        3 2015-01-05 15:37:01 2015-01-05 15:38:17            76  40.695969   \n",
       "34        3 2015-01-05 15:38:17 2015-01-05 15:39:27            70  40.697041   \n",
       "35        3 2015-01-05 15:39:27 2015-01-05 15:40:35            68  40.697937   \n",
       "36        3 2015-01-05 15:40:35 2015-01-05 15:41:44            69  40.698780   \n",
       "37        3 2015-01-05 15:41:44 2015-01-05 15:43:00            76  40.699577   \n",
       "38        3 2015-01-05 15:43:00 2015-01-05 15:43:48            48  40.700092   \n",
       "39        3 2015-01-05 15:43:48 2015-01-05 15:45:28           100  40.700333   \n",
       "40        3 2015-01-05 15:45:28 2015-01-05 15:46:32            64  40.700802   \n",
       "41        3 2015-01-05 15:46:32 2015-01-05 15:47:54            82  40.701225   \n",
       "42        3 2015-01-05 15:47:54 2015-01-05 15:48:42            48  40.701782   \n",
       "43        3 2015-01-05 15:48:42 2015-01-05 15:50:09            87  40.702007   \n",
       "44        3 2015-01-05 15:50:09 2015-01-05 15:50:54            45  40.702332   \n",
       "45        3 2015-01-05 15:50:54 2015-01-05 15:52:00            66  40.702385   \n",
       "46        3 2015-01-05 15:52:00 2015-01-05 15:53:34            94  40.702431   \n",
       "47        3 2015-01-05 15:53:34 2015-01-05 15:54:34            60  40.702374   \n",
       "48        3 2015-01-05 15:54:34 2015-01-05 15:57:00           146  40.702106   \n",
       "49        3 2015-01-05 15:57:00 2015-01-05 15:58:23            83  40.701778   \n",
       "50        3 2015-01-05 15:58:23 2015-01-05 16:00:56           153  40.702011   \n",
       "51        3 2015-01-05 16:00:56 2015-01-05 16:01:41            45  40.703178   \n",
       "52        3 2015-01-05 16:01:41 2015-01-05 16:03:02            81  40.703629   \n",
       "53        3 2015-01-05 16:03:02 2015-01-05 16:04:45           103  40.704479   \n",
       "54        3 2015-01-05 16:04:45 2015-01-05 16:06:09            84  40.705559   \n",
       "55        3 2015-01-05 16:06:09 2015-01-05 16:08:00           111  40.706318   \n",
       "56        3 2015-01-05 16:08:00 2015-01-05 16:08:00             0  40.707561   \n",
       "\n",
       "    start_lon    end_lat    end_lon  \n",
       "0  -73.903549  40.677212 -73.899139  \n",
       "1  -73.899139  40.678295 -73.896996  \n",
       "2  -73.896996  40.679253 -73.894920  \n",
       "3  -73.894920  40.679634 -73.894119  \n",
       "4  -73.894119  40.680656 -73.891998  \n",
       "5  -73.891998  40.681480 -73.890282  \n",
       "6  -73.890282  40.682034 -73.889137  \n",
       "7  -73.889137  40.682438 -73.888290  \n",
       "8  -73.888290  40.683861 -73.885269  \n",
       "9  -73.885269  40.685093 -73.882629  \n",
       "10 -73.882629  40.685921 -73.880875  \n",
       "11 -73.880875  40.686974 -73.878746  \n",
       "12 -73.878746  40.688408 -73.875908  \n",
       "13 -73.875908  40.689262 -73.874069  \n",
       "14 -73.874069  40.689796 -73.872711  \n",
       "15 -73.872711  40.690327 -73.871361  \n",
       "16 -73.871361  40.690750 -73.869675  \n",
       "17 -73.869675  40.691105 -73.868149  \n",
       "18 -73.868149  40.691422 -73.866089  \n",
       "19 -73.866089  40.691730 -73.864258  \n",
       "20 -73.864258  40.692158 -73.861588  \n",
       "21 -73.861588  40.692490 -73.858582  \n",
       "22 -73.858582  40.692593 -73.856781  \n",
       "23 -73.856781  40.692696 -73.855110  \n",
       "24 -73.855110  40.692863 -73.854240  \n",
       "25 -73.854240  40.693481 -73.852509  \n",
       "26 -73.852509  40.694004 -73.850983  \n",
       "27 -73.850983  40.694450 -73.849091  \n",
       "28 -73.849091  40.694794 -73.847321  \n",
       "29 -73.847321  40.695114 -73.844826  \n",
       "30 -73.844826  40.695133 -73.842964  \n",
       "31 -73.842964  40.695396 -73.839935  \n",
       "32 -73.839935  40.695969 -73.838394  \n",
       "33 -73.838394  40.697041 -73.836815  \n",
       "34 -73.836815  40.697937 -73.835289  \n",
       "35 -73.835289  40.698780 -73.833763  \n",
       "36 -73.833763  40.699577 -73.832199  \n",
       "37 -73.832199  40.700092 -73.830215  \n",
       "38 -73.830215  40.700333 -73.828873  \n",
       "39 -73.828873  40.700802 -73.826073  \n",
       "40 -73.826073  40.701225 -73.824310  \n",
       "41 -73.824310  40.701782 -73.822060  \n",
       "42 -73.822060  40.702007 -73.820709  \n",
       "43 -73.820709  40.702332 -73.818275  \n",
       "44 -73.818275  40.702385 -73.816956  \n",
       "45 -73.816956  40.702431 -73.815071  \n",
       "46 -73.815071  40.702374 -73.812538  \n",
       "47 -73.812538  40.702106 -73.810951  \n",
       "48 -73.810951  40.701778 -73.807022  \n",
       "49 -73.807022  40.702011 -73.804611  \n",
       "50 -73.804611  40.703178 -73.800400  \n",
       "51 -73.800400  40.703629 -73.799232  \n",
       "52 -73.799232  40.704479 -73.797119  \n",
       "53 -73.797119  40.705559 -73.794464  \n",
       "54 -73.794464  40.706318 -73.792244  \n",
       "55 -73.792244  40.707561 -73.789856  \n",
       "56 -73.789856  40.707561 -73.789856  "
      ]
     },
     "execution_count": 112,
     "metadata": {},
     "output_type": "execute_result"
    }
   ],
   "source": [
    "triplist[8000]"
   ]
  },
  {
   "cell_type": "code",
   "execution_count": 113,
   "metadata": {
    "collapsed": false
   },
   "outputs": [
    {
     "data": {
      "text/html": [
       "<div>\n",
       "<table border=\"1\" class=\"dataframe\">\n",
       "  <thead>\n",
       "    <tr style=\"text-align: right;\">\n",
       "      <th></th>\n",
       "      <th>type_id</th>\n",
       "      <th>starttime</th>\n",
       "      <th>stoptime</th>\n",
       "      <th>tripduration</th>\n",
       "      <th>start_lat</th>\n",
       "      <th>start_lon</th>\n",
       "      <th>end_lat</th>\n",
       "      <th>end_lon</th>\n",
       "    </tr>\n",
       "  </thead>\n",
       "  <tbody>\n",
       "    <tr>\n",
       "      <th>59</th>\n",
       "      <td>3</td>\n",
       "      <td>2015-01-05 01:43:58</td>\n",
       "      <td>2015-01-05 01:44:53</td>\n",
       "      <td>55</td>\n",
       "      <td>40.701218</td>\n",
       "      <td>-73.804832</td>\n",
       "      <td>40.701847</td>\n",
       "      <td>-73.802010</td>\n",
       "    </tr>\n",
       "    <tr>\n",
       "      <th>60</th>\n",
       "      <td>3</td>\n",
       "      <td>2015-01-05 01:44:53</td>\n",
       "      <td>2015-01-05 01:45:56</td>\n",
       "      <td>63</td>\n",
       "      <td>40.701847</td>\n",
       "      <td>-73.802010</td>\n",
       "      <td>40.702568</td>\n",
       "      <td>-73.798798</td>\n",
       "    </tr>\n",
       "    <tr>\n",
       "      <th>61</th>\n",
       "      <td>3</td>\n",
       "      <td>2015-01-05 01:45:56</td>\n",
       "      <td>2015-01-05 01:46:58</td>\n",
       "      <td>62</td>\n",
       "      <td>40.702568</td>\n",
       "      <td>-73.798798</td>\n",
       "      <td>40.703320</td>\n",
       "      <td>-73.795593</td>\n",
       "    </tr>\n",
       "    <tr>\n",
       "      <th>62</th>\n",
       "      <td>3</td>\n",
       "      <td>2015-01-05 01:46:58</td>\n",
       "      <td>2015-01-05 01:48:00</td>\n",
       "      <td>62</td>\n",
       "      <td>40.703320</td>\n",
       "      <td>-73.795593</td>\n",
       "      <td>40.704441</td>\n",
       "      <td>-73.792610</td>\n",
       "    </tr>\n",
       "    <tr>\n",
       "      <th>63</th>\n",
       "      <td>3</td>\n",
       "      <td>2015-01-05 01:48:00</td>\n",
       "      <td>2015-01-05 01:48:00</td>\n",
       "      <td>0</td>\n",
       "      <td>40.704441</td>\n",
       "      <td>-73.792610</td>\n",
       "      <td>40.704441</td>\n",
       "      <td>-73.792610</td>\n",
       "    </tr>\n",
       "  </tbody>\n",
       "</table>\n",
       "</div>"
      ],
      "text/plain": [
       "    type_id           starttime            stoptime  tripduration  start_lat  \\\n",
       "59        3 2015-01-05 01:43:58 2015-01-05 01:44:53            55  40.701218   \n",
       "60        3 2015-01-05 01:44:53 2015-01-05 01:45:56            63  40.701847   \n",
       "61        3 2015-01-05 01:45:56 2015-01-05 01:46:58            62  40.702568   \n",
       "62        3 2015-01-05 01:46:58 2015-01-05 01:48:00            62  40.703320   \n",
       "63        3 2015-01-05 01:48:00 2015-01-05 01:48:00             0  40.704441   \n",
       "\n",
       "    start_lon    end_lat    end_lon  \n",
       "59 -73.804832  40.701847 -73.802010  \n",
       "60 -73.802010  40.702568 -73.798798  \n",
       "61 -73.798798  40.703320 -73.795593  \n",
       "62 -73.795593  40.704441 -73.792610  \n",
       "63 -73.792610  40.704441 -73.792610  "
      ]
     },
     "execution_count": 113,
     "metadata": {},
     "output_type": "execute_result"
    }
   ],
   "source": [
    "triplist[0].tail()"
   ]
  },
  {
   "cell_type": "markdown",
   "metadata": {},
   "source": [
    "Concatenate the list of dataframes:"
   ]
  },
  {
   "cell_type": "code",
   "execution_count": 114,
   "metadata": {
    "collapsed": true
   },
   "outputs": [],
   "source": [
    "data = pd.concat(triplist)"
   ]
  },
  {
   "cell_type": "code",
   "execution_count": 115,
   "metadata": {
    "collapsed": false
   },
   "outputs": [
    {
     "data": {
      "text/html": [
       "<div>\n",
       "<table border=\"1\" class=\"dataframe\">\n",
       "  <thead>\n",
       "    <tr style=\"text-align: right;\">\n",
       "      <th></th>\n",
       "      <th>type_id</th>\n",
       "      <th>starttime</th>\n",
       "      <th>stoptime</th>\n",
       "      <th>tripduration</th>\n",
       "      <th>start_lat</th>\n",
       "      <th>start_lon</th>\n",
       "      <th>end_lat</th>\n",
       "      <th>end_lon</th>\n",
       "    </tr>\n",
       "  </thead>\n",
       "  <tbody>\n",
       "    <tr>\n",
       "      <th>0</th>\n",
       "      <td>3</td>\n",
       "      <td>2015-01-05 01:10:00</td>\n",
       "      <td>2015-01-05 01:10:19</td>\n",
       "      <td>19</td>\n",
       "      <td>40.692478</td>\n",
       "      <td>-73.927902</td>\n",
       "      <td>40.692379</td>\n",
       "      <td>-73.927277</td>\n",
       "    </tr>\n",
       "    <tr>\n",
       "      <th>1</th>\n",
       "      <td>3</td>\n",
       "      <td>2015-01-05 01:10:19</td>\n",
       "      <td>2015-01-05 01:11:10</td>\n",
       "      <td>51</td>\n",
       "      <td>40.692379</td>\n",
       "      <td>-73.927277</td>\n",
       "      <td>40.691151</td>\n",
       "      <td>-73.925125</td>\n",
       "    </tr>\n",
       "    <tr>\n",
       "      <th>2</th>\n",
       "      <td>3</td>\n",
       "      <td>2015-01-05 01:11:10</td>\n",
       "      <td>2015-01-05 01:12:04</td>\n",
       "      <td>54</td>\n",
       "      <td>40.691151</td>\n",
       "      <td>-73.925125</td>\n",
       "      <td>40.689896</td>\n",
       "      <td>-73.922913</td>\n",
       "    </tr>\n",
       "    <tr>\n",
       "      <th>3</th>\n",
       "      <td>3</td>\n",
       "      <td>2015-01-05 01:12:04</td>\n",
       "      <td>2015-01-05 01:13:24</td>\n",
       "      <td>80</td>\n",
       "      <td>40.689896</td>\n",
       "      <td>-73.922913</td>\n",
       "      <td>40.687988</td>\n",
       "      <td>-73.919579</td>\n",
       "    </tr>\n",
       "    <tr>\n",
       "      <th>4</th>\n",
       "      <td>3</td>\n",
       "      <td>2015-01-05 01:13:24</td>\n",
       "      <td>2015-01-05 01:14:14</td>\n",
       "      <td>50</td>\n",
       "      <td>40.687988</td>\n",
       "      <td>-73.919579</td>\n",
       "      <td>40.686817</td>\n",
       "      <td>-73.917503</td>\n",
       "    </tr>\n",
       "  </tbody>\n",
       "</table>\n",
       "</div>"
      ],
      "text/plain": [
       "   type_id           starttime            stoptime  tripduration  start_lat  \\\n",
       "0        3 2015-01-05 01:10:00 2015-01-05 01:10:19            19  40.692478   \n",
       "1        3 2015-01-05 01:10:19 2015-01-05 01:11:10            51  40.692379   \n",
       "2        3 2015-01-05 01:11:10 2015-01-05 01:12:04            54  40.691151   \n",
       "3        3 2015-01-05 01:12:04 2015-01-05 01:13:24            80  40.689896   \n",
       "4        3 2015-01-05 01:13:24 2015-01-05 01:14:14            50  40.687988   \n",
       "\n",
       "   start_lon    end_lat    end_lon  \n",
       "0 -73.927902  40.692379 -73.927277  \n",
       "1 -73.927277  40.691151 -73.925125  \n",
       "2 -73.925125  40.689896 -73.922913  \n",
       "3 -73.922913  40.687988 -73.919579  \n",
       "4 -73.919579  40.686817 -73.917503  "
      ]
     },
     "execution_count": 115,
     "metadata": {},
     "output_type": "execute_result"
    }
   ],
   "source": [
    "data.head()"
   ]
  },
  {
   "cell_type": "code",
   "execution_count": 117,
   "metadata": {
    "collapsed": false
   },
   "outputs": [
    {
     "data": {
      "text/html": [
       "<div>\n",
       "<table border=\"1\" class=\"dataframe\">\n",
       "  <thead>\n",
       "    <tr style=\"text-align: right;\">\n",
       "      <th></th>\n",
       "      <th>type_id</th>\n",
       "      <th>starttime</th>\n",
       "      <th>stoptime</th>\n",
       "      <th>tripduration</th>\n",
       "      <th>start_lat</th>\n",
       "      <th>start_lon</th>\n",
       "      <th>end_lat</th>\n",
       "      <th>end_lon</th>\n",
       "    </tr>\n",
       "  </thead>\n",
       "  <tbody>\n",
       "    <tr>\n",
       "      <th>57</th>\n",
       "      <td>3</td>\n",
       "      <td>2015-01-05 22:27:32</td>\n",
       "      <td>2015-01-05 22:27:58</td>\n",
       "      <td>26</td>\n",
       "      <td>40.590073</td>\n",
       "      <td>-73.993713</td>\n",
       "      <td>40.590008</td>\n",
       "      <td>-73.992180</td>\n",
       "    </tr>\n",
       "    <tr>\n",
       "      <th>58</th>\n",
       "      <td>3</td>\n",
       "      <td>2015-01-05 22:27:58</td>\n",
       "      <td>2015-01-05 22:28:16</td>\n",
       "      <td>18</td>\n",
       "      <td>40.590008</td>\n",
       "      <td>-73.992180</td>\n",
       "      <td>40.590744</td>\n",
       "      <td>-73.991638</td>\n",
       "    </tr>\n",
       "    <tr>\n",
       "      <th>59</th>\n",
       "      <td>3</td>\n",
       "      <td>2015-01-05 22:28:16</td>\n",
       "      <td>2015-01-05 22:28:47</td>\n",
       "      <td>31</td>\n",
       "      <td>40.590744</td>\n",
       "      <td>-73.991638</td>\n",
       "      <td>40.592278</td>\n",
       "      <td>-73.992874</td>\n",
       "    </tr>\n",
       "    <tr>\n",
       "      <th>60</th>\n",
       "      <td>3</td>\n",
       "      <td>2015-01-05 22:28:47</td>\n",
       "      <td>2015-01-05 22:29:00</td>\n",
       "      <td>13</td>\n",
       "      <td>40.592278</td>\n",
       "      <td>-73.992874</td>\n",
       "      <td>40.592949</td>\n",
       "      <td>-73.993385</td>\n",
       "    </tr>\n",
       "    <tr>\n",
       "      <th>61</th>\n",
       "      <td>3</td>\n",
       "      <td>2015-01-05 22:29:00</td>\n",
       "      <td>2015-01-05 22:29:00</td>\n",
       "      <td>0</td>\n",
       "      <td>40.592949</td>\n",
       "      <td>-73.993385</td>\n",
       "      <td>40.592949</td>\n",
       "      <td>-73.993385</td>\n",
       "    </tr>\n",
       "  </tbody>\n",
       "</table>\n",
       "</div>"
      ],
      "text/plain": [
       "    type_id           starttime            stoptime  tripduration  start_lat  \\\n",
       "57        3 2015-01-05 22:27:32 2015-01-05 22:27:58            26  40.590073   \n",
       "58        3 2015-01-05 22:27:58 2015-01-05 22:28:16            18  40.590008   \n",
       "59        3 2015-01-05 22:28:16 2015-01-05 22:28:47            31  40.590744   \n",
       "60        3 2015-01-05 22:28:47 2015-01-05 22:29:00            13  40.592278   \n",
       "61        3 2015-01-05 22:29:00 2015-01-05 22:29:00             0  40.592949   \n",
       "\n",
       "    start_lon    end_lat    end_lon  \n",
       "57 -73.993713  40.590008 -73.992180  \n",
       "58 -73.992180  40.590744 -73.991638  \n",
       "59 -73.991638  40.592278 -73.992874  \n",
       "60 -73.992874  40.592949 -73.993385  \n",
       "61 -73.993385  40.592949 -73.993385  "
      ]
     },
     "execution_count": 117,
     "metadata": {},
     "output_type": "execute_result"
    }
   ],
   "source": [
    "data.tail()"
   ]
  },
  {
   "cell_type": "code",
   "execution_count": 116,
   "metadata": {
    "collapsed": false
   },
   "outputs": [
    {
     "data": {
      "text/plain": [
       "1719218"
      ]
     },
     "execution_count": 116,
     "metadata": {},
     "output_type": "execute_result"
    }
   ],
   "source": [
    "len(data)"
   ]
  },
  {
   "cell_type": "markdown",
   "metadata": {},
   "source": [
    "Filter out points with tripduration = 0."
   ]
  },
  {
   "cell_type": "code",
   "execution_count": 118,
   "metadata": {
    "collapsed": false
   },
   "outputs": [],
   "source": [
    "data = data[data.tripduration != 0]"
   ]
  },
  {
   "cell_type": "code",
   "execution_count": 119,
   "metadata": {
    "collapsed": false
   },
   "outputs": [
    {
     "data": {
      "text/plain": [
       "1679603"
      ]
     },
     "execution_count": 119,
     "metadata": {},
     "output_type": "execute_result"
    }
   ],
   "source": [
    "len(data)"
   ]
  },
  {
   "cell_type": "code",
   "execution_count": 123,
   "metadata": {
    "collapsed": false
   },
   "outputs": [
    {
     "data": {
      "text/plain": [
       "{dtype('<M8[ns]'): ['starttime', 'stoptime'],\n",
       " dtype('int64'): ['type_id', 'tripduration'],\n",
       " dtype('float64'): ['start_lat', 'start_lon', 'end_lat', 'end_lon']}"
      ]
     },
     "execution_count": 123,
     "metadata": {},
     "output_type": "execute_result"
    }
   ],
   "source": [
    "data.columns.to_series().groupby(df.dtypes).groups"
   ]
  },
  {
   "cell_type": "markdown",
   "metadata": {},
   "source": [
    "Sort by starttime:"
   ]
  },
  {
   "cell_type": "code",
   "execution_count": 125,
   "metadata": {
    "collapsed": false
   },
   "outputs": [],
   "source": [
    "data = data.sort_values(by='starttime')"
   ]
  },
  {
   "cell_type": "code",
   "execution_count": 127,
   "metadata": {
    "collapsed": false
   },
   "outputs": [],
   "source": [
    "data = data.reset_index(drop=True)"
   ]
  },
  {
   "cell_type": "code",
   "execution_count": 142,
   "metadata": {
    "collapsed": false
   },
   "outputs": [],
   "source": [
    "data.to_csv('brooklyn_monday_raw.csv')"
   ]
  },
  {
   "cell_type": "markdown",
   "metadata": {},
   "source": [
    "See how pandas leaves a blank first column with the index?"
   ]
  },
  {
   "cell_type": "code",
   "execution_count": 143,
   "metadata": {
    "collapsed": false
   },
   "outputs": [
    {
     "name": "stdout",
     "output_type": "stream",
     "text": [
      ",type_id,starttime,stoptime,tripduration,start_lat,start_lon,end_lat,end_lon\n",
      "0,3,2015-01-05 00:00:00,2015-01-05 00:01:09,69,40.642979,-73.878334,40.645187,-73.878555\n",
      "1,3,2015-01-05 00:00:00,2015-01-05 00:01:09,69,40.642979,-73.878334,40.645187,-73.878555\n",
      "2,3,2015-01-05 00:00:00,2015-01-05 00:00:23,23,40.645714,-73.902313,40.644871,-73.902176\n",
      "3,3,2015-01-05 00:00:00,2015-01-05 00:01:09,69,40.642979,-73.878334,40.645187,-73.878555\n",
      "4,3,2015-01-05 00:00:00,2015-01-05 00:00:48,48,40.748638,-73.938446,40.747673,-73.941116\n",
      "5,3,2015-01-05 00:00:00,2015-01-05 00:00:48,48,40.748638,-73.938446,40.747673,-73.941116\n",
      "6,3,2015-01-05 00:00:00,2015-01-05 00:00:48,48,40.748638,-73.938446,40.747673,-73.941116\n",
      "7,3,2015-01-05 00:00:00,2015-01-05 00:00:23,23,40.645714,-73.902313,40.644871,-73.902176\n",
      "8,3,2015-01-05 00:00:00,2015-01-05 00:00:23,23,40.645714,-73.902313,40.644871,-73.902176\n"
     ]
    }
   ],
   "source": [
    "%%bash \n",
    "\n",
    "head brooklyn_monday_raw.csv"
   ]
  },
  {
   "cell_type": "markdown",
   "metadata": {},
   "source": [
    "We need to delete it. Bash command to remove first column from csv output:"
   ]
  },
  {
   "cell_type": "code",
   "execution_count": 144,
   "metadata": {
    "collapsed": true
   },
   "outputs": [],
   "source": [
    "%%bash\n",
    "\n",
    "awk -F\",\" -v OFS=\",\" '{ $1=\"\" ; $0=substr($0,2) } 1' brooklyn_monday_raw.csv > brooklyn_monday.csv"
   ]
  },
  {
   "cell_type": "code",
   "execution_count": 146,
   "metadata": {
    "collapsed": false
   },
   "outputs": [
    {
     "name": "stdout",
     "output_type": "stream",
     "text": [
      "type_id,starttime,stoptime,tripduration,start_lat,start_lon,end_lat,end_lon\n",
      "3,2015-01-05 00:00:00,2015-01-05 00:01:09,69,40.642979,-73.878334,40.645187,-73.878555\n",
      "3,2015-01-05 00:00:00,2015-01-05 00:01:09,69,40.642979,-73.878334,40.645187,-73.878555\n",
      "3,2015-01-05 00:00:00,2015-01-05 00:00:23,23,40.645714,-73.902313,40.644871,-73.902176\n",
      "3,2015-01-05 00:00:00,2015-01-05 00:01:09,69,40.642979,-73.878334,40.645187,-73.878555\n",
      "3,2015-01-05 00:00:00,2015-01-05 00:00:48,48,40.748638,-73.938446,40.747673,-73.941116\n",
      "3,2015-01-05 00:00:00,2015-01-05 00:00:48,48,40.748638,-73.938446,40.747673,-73.941116\n",
      "3,2015-01-05 00:00:00,2015-01-05 00:00:48,48,40.748638,-73.938446,40.747673,-73.941116\n",
      "3,2015-01-05 00:00:00,2015-01-05 00:00:23,23,40.645714,-73.902313,40.644871,-73.902176\n",
      "3,2015-01-05 00:00:00,2015-01-05 00:00:23,23,40.645714,-73.902313,40.644871,-73.902176\n"
     ]
    }
   ],
   "source": [
    "%%bash\n",
    "\n",
    "head brooklyn_monday.csv"
   ]
  },
  {
   "cell_type": "markdown",
   "metadata": {},
   "source": [
    "It works!"
   ]
  },
  {
   "cell_type": "code",
   "execution_count": 147,
   "metadata": {
    "collapsed": false
   },
   "outputs": [
    {
     "data": {
      "image/png": "[encoded data removed]",
      "text/plain": [
       "<IPython.core.display.Image object>"
      ]
     },
     "execution_count": 147,
     "metadata": {},
     "output_type": "execute_result"
    }
   ],
   "source": [
    "from IPython.display import Image\n",
    "Image(\"http://i.imgur.com/Lmtumn6.png\")"
   ]
  },
  {
   "cell_type": "markdown",
   "metadata": {},
   "source": [
    "# Queens"
   ]
  },
  {
   "cell_type": "code",
   "execution_count": 148,
   "metadata": {
    "collapsed": false
   },
   "outputs": [
    {
     "name": "stdout",
     "output_type": "stream",
     "text": [
      "There are  13233 trips in Queens on Monday\n",
      "2017-04-04 15:53:27.595116 finished trip number 1000 / 13233\n",
      "2017-04-04 15:55:50.744061 finished trip number 2000 / 13233\n",
      "2017-04-04 15:58:00.197758 finished trip number 3000 / 13233\n",
      "2017-04-04 16:00:45.759398 finished trip number 4000 / 13233\n",
      "2017-04-04 16:02:56.904756 finished trip number 5000 / 13233\n",
      "2017-04-04 16:05:49.423916 finished trip number 6000 / 13233\n",
      "2017-04-04 16:08:24.630847 finished trip number 7000 / 13233\n",
      "2017-04-04 16:10:50.910236 finished trip number 8000 / 13233\n",
      "2017-04-04 16:13:24.568231 finished trip number 9000 / 13233\n",
      "2017-04-04 16:15:36.901874 finished trip number 10000 / 13233\n",
      "2017-04-04 16:19:00.043297 finished trip number 11000 / 13233\n",
      "2017-04-04 16:21:39.821951 finished trip number 12000 / 13233\n",
      "2017-04-04 16:24:08.682188 finished trip number 13000 / 13233\n"
     ]
    }
   ],
   "source": [
    "agency = pd.read_csv('gtfs/queens/agency.txt')\n",
    "calendar_dates = pd.read_csv('gtfs/queens/calendar_dates.txt')\n",
    "calendar = pd.read_csv('gtfs/queens/calendar.txt')\n",
    "routes = pd.read_csv('gtfs/queens/routes.txt')\n",
    "shapes = pd.read_csv('gtfs/queens/shapes.txt')\n",
    "stop_times = pd.read_csv('gtfs/queens/stop_times.txt')\n",
    "stops = pd.read_csv('gtfs/queens/stops.txt')\n",
    "trips = pd.read_csv('gtfs/queens/trips.txt')\n",
    "\n",
    "service_trip_id = pd.merge(calendar[['service_id']],trips[['service_id', 'trip_id']])\n",
    "calendar = pd.merge(calendar,service_trip_id)\n",
    "arbitrary_dates = ['1/5/2015', '1/6/2015']\n",
    "\n",
    "monday = calendar[calendar['monday'] == 1]\n",
    "tuesday = calendar[calendar['tuesday'] == 1]\n",
    "wednesday = calendar[calendar['wednesday'] == 1]\n",
    "thursday = calendar[calendar['thursday'] == 1]\n",
    "friday = calendar[calendar['friday'] == 1]\n",
    "saturday = calendar[calendar['saturday'] == 1]\n",
    "sunday = calendar[calendar['sunday'] == 1]\n",
    "\n",
    "monday_trips = monday['trip_id']\n",
    "print \"There are \", len(monday_trips), \"trips in Queens on Monday\"\n",
    "\n",
    "triplist = []\n",
    "count = 0\n",
    "\n",
    "for i in monday_trips:\n",
    "    count += 1\n",
    "    df = stop_times[stop_times['trip_id'] == i]\n",
    "    \n",
    "    # add arrival and departure dates\n",
    "    df = add_arrival_date(df, dates = arbitrary_dates)\n",
    "    df = add_departure_date(df, dates = arbitrary_dates)\n",
    "    df['arrival_datetime'] = pd.to_datetime(df['arrival_date'] + ' ' + df['arrival_time'])\n",
    "    df['departure_datetime'] = pd.to_datetime(df['departure_date'] + ' ' + df['departure_time'])\n",
    "\n",
    "    # join df with stops\n",
    "    df = pd.merge(df, stops[['stop_id', 'stop_name', 'stop_lat', 'stop_lon']],left_on='stop_id', right_on='stop_id')\n",
    "\n",
    "    # join df with trips to get direction id\n",
    "    df = pd.merge(df, trips[['trip_id', 'direction_id', 'route_id']], left_on='trip_id', right_on='trip_id', how='left')\n",
    "\n",
    "    # join df with routes to get route id\n",
    "    df = pd.merge(df, routes[['route_id', 'route_long_name']], left_on='route_id', right_on='route_id', how='left')\n",
    "    \n",
    "    # create new dataframe to store results\n",
    "    legs = pd.DataFrame()\n",
    "    legs['type_id'] = 4 # queens\n",
    "    legs['starttime'] = df['departure_datetime']\n",
    "    legs['stoptime'] = df['arrival_datetime'].shift(-1).fillna(method='ffill')\n",
    "    legs['tripduration'] = ((legs['stoptime'] - legs['starttime'])/np.timedelta64(1, 's')).astype(int)\n",
    "    legs['start_lat'] = df['stop_lat']\n",
    "    legs['start_lon'] = df['stop_lon']\n",
    "    legs['end_lat'] = legs['start_lat'].shift(-1).fillna(method='ffill')\n",
    "    legs['end_lon'] = legs['start_lon'].shift(-1).fillna(method='ffill')\n",
    "    \n",
    "    # append results to triplist\n",
    "    triplist.append(legs)\n",
    "    \n",
    "    if count % 1000 == 0:\n",
    "        print str(dt.datetime.now()), \"finished trip number\", count, \"/\", len(monday_trips)"
   ]
  },
  {
   "cell_type": "code",
   "execution_count": 150,
   "metadata": {
    "collapsed": true
   },
   "outputs": [],
   "source": [
    "data = pd.concat(triplist)"
   ]
  },
  {
   "cell_type": "code",
   "execution_count": 151,
   "metadata": {
    "collapsed": true
   },
   "outputs": [],
   "source": [
    "# drop data points with zero tripduration or start/end latitudes\n",
    "data = data[data.tripduration != 0]\n",
    "data = data[data.start_lat != 0]\n",
    "data = data[data.end_lat != 0]"
   ]
  },
  {
   "cell_type": "code",
   "execution_count": 155,
   "metadata": {
    "collapsed": true
   },
   "outputs": [],
   "source": [
    "data.type_id = 4 # queens"
   ]
  },
  {
   "cell_type": "code",
   "execution_count": 160,
   "metadata": {
    "collapsed": true
   },
   "outputs": [],
   "source": [
    "data = data.sort_values(by='starttime')\n",
    "data = data.reset_index(drop=True)"
   ]
  },
  {
   "cell_type": "code",
   "execution_count": 163,
   "metadata": {
    "collapsed": false
   },
   "outputs": [
    {
     "data": {
      "text/html": [
       "<div>\n",
       "<table border=\"1\" class=\"dataframe\">\n",
       "  <thead>\n",
       "    <tr style=\"text-align: right;\">\n",
       "      <th></th>\n",
       "      <th>type_id</th>\n",
       "      <th>starttime</th>\n",
       "      <th>stoptime</th>\n",
       "      <th>tripduration</th>\n",
       "      <th>start_lat</th>\n",
       "      <th>start_lon</th>\n",
       "      <th>end_lat</th>\n",
       "      <th>end_lon</th>\n",
       "    </tr>\n",
       "  </thead>\n",
       "  <tbody>\n",
       "    <tr>\n",
       "      <th>0</th>\n",
       "      <td>4</td>\n",
       "      <td>2015-01-05 00:00:00</td>\n",
       "      <td>2015-01-05 00:00:47</td>\n",
       "      <td>47</td>\n",
       "      <td>40.717762</td>\n",
       "      <td>-73.735481</td>\n",
       "      <td>40.715351</td>\n",
       "      <td>-73.735641</td>\n",
       "    </tr>\n",
       "    <tr>\n",
       "      <th>1</th>\n",
       "      <td>4</td>\n",
       "      <td>2015-01-05 00:00:47</td>\n",
       "      <td>2015-01-05 00:01:35</td>\n",
       "      <td>48</td>\n",
       "      <td>40.715351</td>\n",
       "      <td>-73.735641</td>\n",
       "      <td>40.712963</td>\n",
       "      <td>-73.736069</td>\n",
       "    </tr>\n",
       "    <tr>\n",
       "      <th>2</th>\n",
       "      <td>4</td>\n",
       "      <td>2015-01-05 00:01:35</td>\n",
       "      <td>2015-01-05 00:01:52</td>\n",
       "      <td>17</td>\n",
       "      <td>40.712963</td>\n",
       "      <td>-73.736069</td>\n",
       "      <td>40.712055</td>\n",
       "      <td>-73.736557</td>\n",
       "    </tr>\n",
       "    <tr>\n",
       "      <th>3</th>\n",
       "      <td>4</td>\n",
       "      <td>2015-01-05 00:01:52</td>\n",
       "      <td>2015-01-05 00:02:32</td>\n",
       "      <td>40</td>\n",
       "      <td>40.712055</td>\n",
       "      <td>-73.736557</td>\n",
       "      <td>40.710285</td>\n",
       "      <td>-73.737556</td>\n",
       "    </tr>\n",
       "    <tr>\n",
       "      <th>4</th>\n",
       "      <td>4</td>\n",
       "      <td>2015-01-05 00:02:00</td>\n",
       "      <td>2015-01-05 00:02:47</td>\n",
       "      <td>47</td>\n",
       "      <td>40.717762</td>\n",
       "      <td>-73.735481</td>\n",
       "      <td>40.715351</td>\n",
       "      <td>-73.735641</td>\n",
       "    </tr>\n",
       "  </tbody>\n",
       "</table>\n",
       "</div>"
      ],
      "text/plain": [
       "   type_id           starttime            stoptime  tripduration  start_lat  \\\n",
       "0        4 2015-01-05 00:00:00 2015-01-05 00:00:47            47  40.717762   \n",
       "1        4 2015-01-05 00:00:47 2015-01-05 00:01:35            48  40.715351   \n",
       "2        4 2015-01-05 00:01:35 2015-01-05 00:01:52            17  40.712963   \n",
       "3        4 2015-01-05 00:01:52 2015-01-05 00:02:32            40  40.712055   \n",
       "4        4 2015-01-05 00:02:00 2015-01-05 00:02:47            47  40.717762   \n",
       "\n",
       "   start_lon    end_lat    end_lon  \n",
       "0 -73.735481  40.715351 -73.735641  \n",
       "1 -73.735641  40.712963 -73.736069  \n",
       "2 -73.736069  40.712055 -73.736557  \n",
       "3 -73.736557  40.710285 -73.737556  \n",
       "4 -73.735481  40.715351 -73.735641  "
      ]
     },
     "execution_count": 163,
     "metadata": {},
     "output_type": "execute_result"
    }
   ],
   "source": [
    "data.head()"
   ]
  },
  {
   "cell_type": "code",
   "execution_count": 164,
   "metadata": {
    "collapsed": true
   },
   "outputs": [],
   "source": [
    "data.to_csv('queens_monday_raw.csv')"
   ]
  },
  {
   "cell_type": "code",
   "execution_count": 166,
   "metadata": {
    "collapsed": false
   },
   "outputs": [
    {
     "name": "stdout",
     "output_type": "stream",
     "text": [
      ",type_id,starttime,stoptime,tripduration,start_lat,start_lon,end_lat,end_lon\n",
      "0,4,2015-01-05 00:00:00,2015-01-05 00:00:47,47,40.717762,-73.735481,40.715351,-73.735641\n",
      "1,4,2015-01-05 00:00:47,2015-01-05 00:01:35,48,40.715351,-73.735641,40.712963,-73.736069\n",
      "2,4,2015-01-05 00:01:35,2015-01-05 00:01:52,17,40.712963,-73.736069,40.712055,-73.736557\n",
      "3,4,2015-01-05 00:01:52,2015-01-05 00:02:32,40,40.712055,-73.736557,40.710285,-73.737556\n",
      "4,4,2015-01-05 00:02:00,2015-01-05 00:02:47,47,40.717762,-73.735481,40.715351,-73.735641\n",
      "5,4,2015-01-05 00:02:32,2015-01-05 00:02:57,25,40.710285,-73.737556,40.709099,-73.738205\n",
      "6,4,2015-01-05 00:02:47,2015-01-05 00:03:35,48,40.715351,-73.735641,40.712963,-73.736069\n",
      "7,4,2015-01-05 00:02:57,2015-01-05 00:04:07,70,40.709099,-73.738205,40.705688,-73.739754\n",
      "8,4,2015-01-05 00:03:35,2015-01-05 00:03:52,17,40.712963,-73.736069,40.712055,-73.736557\n"
     ]
    }
   ],
   "source": [
    "%%bash \n",
    "\n",
    "head queens_monday_raw.csv"
   ]
  },
  {
   "cell_type": "code",
   "execution_count": 167,
   "metadata": {
    "collapsed": true
   },
   "outputs": [],
   "source": [
    "%%bash\n",
    "\n",
    "awk -F\",\" -v OFS=\",\" '{ $1=\"\" ; $0=substr($0,2) } 1' queens_monday_raw.csv > queens_monday.csv"
   ]
  },
  {
   "cell_type": "code",
   "execution_count": 168,
   "metadata": {
    "collapsed": false
   },
   "outputs": [
    {
     "name": "stdout",
     "output_type": "stream",
     "text": [
      "type_id,starttime,stoptime,tripduration,start_lat,start_lon,end_lat,end_lon\n",
      "4,2015-01-05 00:00:00,2015-01-05 00:00:47,47,40.717762,-73.735481,40.715351,-73.735641\n",
      "4,2015-01-05 00:00:47,2015-01-05 00:01:35,48,40.715351,-73.735641,40.712963,-73.736069\n",
      "4,2015-01-05 00:01:35,2015-01-05 00:01:52,17,40.712963,-73.736069,40.712055,-73.736557\n",
      "4,2015-01-05 00:01:52,2015-01-05 00:02:32,40,40.712055,-73.736557,40.710285,-73.737556\n",
      "4,2015-01-05 00:02:00,2015-01-05 00:02:47,47,40.717762,-73.735481,40.715351,-73.735641\n",
      "4,2015-01-05 00:02:32,2015-01-05 00:02:57,25,40.710285,-73.737556,40.709099,-73.738205\n",
      "4,2015-01-05 00:02:47,2015-01-05 00:03:35,48,40.715351,-73.735641,40.712963,-73.736069\n",
      "4,2015-01-05 00:02:57,2015-01-05 00:04:07,70,40.709099,-73.738205,40.705688,-73.739754\n",
      "4,2015-01-05 00:03:35,2015-01-05 00:03:52,17,40.712963,-73.736069,40.712055,-73.736557\n"
     ]
    }
   ],
   "source": [
    "%%bash\n",
    "\n",
    "head queens_monday.csv"
   ]
  },
  {
   "cell_type": "markdown",
   "metadata": {},
   "source": [
    "# Manhattan"
   ]
  },
  {
   "cell_type": "code",
   "execution_count": 175,
   "metadata": {
    "collapsed": false
   },
   "outputs": [
    {
     "name": "stdout",
     "output_type": "stream",
     "text": [
      "There are  15727 trips on Monday\n",
      "2017-04-04 16:44:42.466197 finished trip number 1000 / 15727\n",
      "2017-04-04 16:46:30.413537 finished trip number 2000 / 15727\n",
      "2017-04-04 16:48:15.917307 finished trip number 3000 / 15727\n",
      "2017-04-04 16:49:59.808462 finished trip number 4000 / 15727\n",
      "2017-04-04 16:52:27.841155 finished trip number 5000 / 15727\n",
      "2017-04-04 16:54:25.526699 finished trip number 6000 / 15727\n",
      "2017-04-04 16:56:19.144183 finished trip number 7000 / 15727\n",
      "2017-04-04 16:59:25.985729 finished trip number 8000 / 15727\n",
      "2017-04-04 17:01:24.340396 finished trip number 9000 / 15727\n",
      "2017-04-04 17:03:38.330617 finished trip number 10000 / 15727\n",
      "2017-04-04 17:05:21.896272 finished trip number 11000 / 15727\n",
      "2017-04-04 17:07:35.190746 finished trip number 12000 / 15727\n",
      "2017-04-04 17:09:41.426145 finished trip number 13000 / 15727\n",
      "2017-04-04 17:11:35.309689 finished trip number 14000 / 15727\n",
      "2017-04-04 17:13:58.137325 finished trip number 15000 / 15727\n"
     ]
    }
   ],
   "source": [
    "agency = pd.read_csv('gtfs/manhattan/agency.txt')\n",
    "calendar_dates = pd.read_csv('gtfs/manhattan/calendar_dates.txt')\n",
    "calendar = pd.read_csv('gtfs/manhattan/calendar.txt')\n",
    "routes = pd.read_csv('gtfs/manhattan/routes.txt')\n",
    "shapes = pd.read_csv('gtfs/manhattan/shapes.txt')\n",
    "stop_times = pd.read_csv('gtfs/manhattan/stop_times.txt')\n",
    "stops = pd.read_csv('gtfs/manhattan/stops.txt')\n",
    "trips = pd.read_csv('gtfs/manhattan/trips.txt')\n",
    "\n",
    "service_trip_id = pd.merge(calendar[['service_id']],trips[['service_id', 'trip_id']])\n",
    "calendar = pd.merge(calendar,service_trip_id)\n",
    "arbitrary_dates = ['1/5/2015', '1/6/2015']\n",
    "\n",
    "monday = calendar[calendar['monday'] == 1]\n",
    "tuesday = calendar[calendar['tuesday'] == 1]\n",
    "wednesday = calendar[calendar['wednesday'] == 1]\n",
    "thursday = calendar[calendar['thursday'] == 1]\n",
    "friday = calendar[calendar['friday'] == 1]\n",
    "saturday = calendar[calendar['saturday'] == 1]\n",
    "sunday = calendar[calendar['sunday'] == 1]\n",
    "\n",
    "monday_trips = monday['trip_id']\n",
    "print \"There are \", len(monday_trips), \"trips on Monday\"\n",
    "\n",
    "triplist = []\n",
    "count = 0\n",
    "\n",
    "for i in monday_trips:\n",
    "    count += 1\n",
    "    df = stop_times[stop_times['trip_id'] == i]\n",
    "    \n",
    "    # add arrival and departure dates\n",
    "    df = add_arrival_date(df, dates = arbitrary_dates)\n",
    "    df = add_departure_date(df, dates = arbitrary_dates)\n",
    "    df['arrival_datetime'] = pd.to_datetime(df['arrival_date'] + ' ' + df['arrival_time'])\n",
    "    df['departure_datetime'] = pd.to_datetime(df['departure_date'] + ' ' + df['departure_time'])\n",
    "\n",
    "    # join df with stops\n",
    "    df = pd.merge(df, stops[['stop_id', 'stop_name', 'stop_lat', 'stop_lon']],left_on='stop_id', right_on='stop_id')\n",
    "\n",
    "    # join df with trips to get direction id\n",
    "    df = pd.merge(df, trips[['trip_id', 'direction_id', 'route_id']], left_on='trip_id', right_on='trip_id', how='left')\n",
    "\n",
    "    # join df with routes to get route id\n",
    "    df = pd.merge(df, routes[['route_id', 'route_long_name']], left_on='route_id', right_on='route_id', how='left')\n",
    "    \n",
    "    # create new dataframe to store results\n",
    "    legs = pd.DataFrame()\n",
    "    legs['type_id'] = 5 # manhattan\n",
    "    legs['starttime'] = df['departure_datetime']\n",
    "    legs['stoptime'] = df['arrival_datetime'].shift(-1).fillna(method='ffill')\n",
    "    legs['tripduration'] = ((legs['stoptime'] - legs['starttime'])/np.timedelta64(1, 's')).astype(int)\n",
    "    legs['start_lat'] = df['stop_lat']\n",
    "    legs['start_lon'] = df['stop_lon']\n",
    "    legs['end_lat'] = legs['start_lat'].shift(-1).fillna(method='ffill')\n",
    "    legs['end_lon'] = legs['start_lon'].shift(-1).fillna(method='ffill')\n",
    "    \n",
    "    # append results to triplist\n",
    "    triplist.append(legs)\n",
    "    \n",
    "    if count % 1000 == 0:\n",
    "        print str(dt.datetime.now()), \"finished trip number\", count, \"/\", len(monday_trips)\n",
    "        \n",
    "data = pd.concat(triplist)\n",
    "data = data[data.tripduration != 0]"
   ]
  },
  {
   "cell_type": "code",
   "execution_count": 176,
   "metadata": {
    "collapsed": true
   },
   "outputs": [],
   "source": [
    "# drop data points with 0 start/end latitudes\n",
    "data = data[data.start_lat != 0]\n",
    "data = data[data.end_lat != 0]"
   ]
  },
  {
   "cell_type": "code",
   "execution_count": 178,
   "metadata": {
    "collapsed": true
   },
   "outputs": [],
   "source": [
    "data.type_id = 5 # manhattan"
   ]
  },
  {
   "cell_type": "code",
   "execution_count": 179,
   "metadata": {
    "collapsed": true
   },
   "outputs": [],
   "source": [
    "data = data.sort_values(by='starttime')\n",
    "data = data.reset_index(drop=True)"
   ]
  },
  {
   "cell_type": "code",
   "execution_count": 180,
   "metadata": {
    "collapsed": false
   },
   "outputs": [
    {
     "data": {
      "text/html": [
       "<div>\n",
       "<table border=\"1\" class=\"dataframe\">\n",
       "  <thead>\n",
       "    <tr style=\"text-align: right;\">\n",
       "      <th></th>\n",
       "      <th>type_id</th>\n",
       "      <th>starttime</th>\n",
       "      <th>stoptime</th>\n",
       "      <th>tripduration</th>\n",
       "      <th>start_lat</th>\n",
       "      <th>start_lon</th>\n",
       "      <th>end_lat</th>\n",
       "      <th>end_lon</th>\n",
       "    </tr>\n",
       "  </thead>\n",
       "  <tbody>\n",
       "    <tr>\n",
       "      <th>0</th>\n",
       "      <td>5</td>\n",
       "      <td>2015-01-05 00:15:00</td>\n",
       "      <td>2015-01-05 00:15:42</td>\n",
       "      <td>42</td>\n",
       "      <td>40.756550</td>\n",
       "      <td>-73.990120</td>\n",
       "      <td>40.758003</td>\n",
       "      <td>-73.989090</td>\n",
       "    </tr>\n",
       "    <tr>\n",
       "      <th>1</th>\n",
       "      <td>5</td>\n",
       "      <td>2015-01-05 00:15:00</td>\n",
       "      <td>2015-01-05 00:15:42</td>\n",
       "      <td>42</td>\n",
       "      <td>40.756550</td>\n",
       "      <td>-73.990120</td>\n",
       "      <td>40.758003</td>\n",
       "      <td>-73.989090</td>\n",
       "    </tr>\n",
       "    <tr>\n",
       "      <th>2</th>\n",
       "      <td>5</td>\n",
       "      <td>2015-01-05 00:15:42</td>\n",
       "      <td>2015-01-05 00:16:21</td>\n",
       "      <td>39</td>\n",
       "      <td>40.758003</td>\n",
       "      <td>-73.989090</td>\n",
       "      <td>40.759411</td>\n",
       "      <td>-73.988052</td>\n",
       "    </tr>\n",
       "    <tr>\n",
       "      <th>3</th>\n",
       "      <td>5</td>\n",
       "      <td>2015-01-05 00:15:42</td>\n",
       "      <td>2015-01-05 00:16:21</td>\n",
       "      <td>39</td>\n",
       "      <td>40.758003</td>\n",
       "      <td>-73.989090</td>\n",
       "      <td>40.759411</td>\n",
       "      <td>-73.988052</td>\n",
       "    </tr>\n",
       "    <tr>\n",
       "      <th>4</th>\n",
       "      <td>5</td>\n",
       "      <td>2015-01-05 00:16:21</td>\n",
       "      <td>2015-01-05 00:17:28</td>\n",
       "      <td>67</td>\n",
       "      <td>40.759411</td>\n",
       "      <td>-73.988052</td>\n",
       "      <td>40.761902</td>\n",
       "      <td>-73.986237</td>\n",
       "    </tr>\n",
       "  </tbody>\n",
       "</table>\n",
       "</div>"
      ],
      "text/plain": [
       "   type_id           starttime            stoptime  tripduration  start_lat  \\\n",
       "0        5 2015-01-05 00:15:00 2015-01-05 00:15:42            42  40.756550   \n",
       "1        5 2015-01-05 00:15:00 2015-01-05 00:15:42            42  40.756550   \n",
       "2        5 2015-01-05 00:15:42 2015-01-05 00:16:21            39  40.758003   \n",
       "3        5 2015-01-05 00:15:42 2015-01-05 00:16:21            39  40.758003   \n",
       "4        5 2015-01-05 00:16:21 2015-01-05 00:17:28            67  40.759411   \n",
       "\n",
       "   start_lon    end_lat    end_lon  \n",
       "0 -73.990120  40.758003 -73.989090  \n",
       "1 -73.990120  40.758003 -73.989090  \n",
       "2 -73.989090  40.759411 -73.988052  \n",
       "3 -73.989090  40.759411 -73.988052  \n",
       "4 -73.988052  40.761902 -73.986237  "
      ]
     },
     "execution_count": 180,
     "metadata": {},
     "output_type": "execute_result"
    }
   ],
   "source": [
    "data.head()"
   ]
  },
  {
   "cell_type": "code",
   "execution_count": 181,
   "metadata": {
    "collapsed": true
   },
   "outputs": [],
   "source": [
    "data.to_csv('manhattan_monday_raw.csv')"
   ]
  },
  {
   "cell_type": "code",
   "execution_count": 182,
   "metadata": {
    "collapsed": false
   },
   "outputs": [
    {
     "name": "stdout",
     "output_type": "stream",
     "text": [
      ",type_id,starttime,stoptime,tripduration,start_lat,start_lon,end_lat,end_lon\n",
      "0,5,2015-01-05 00:15:00,2015-01-05 00:15:42,42,40.75655,-73.99012,40.758003,-73.98909\n",
      "1,5,2015-01-05 00:15:00,2015-01-05 00:15:42,42,40.75655,-73.99012,40.758003,-73.98909\n",
      "2,5,2015-01-05 00:15:42,2015-01-05 00:16:21,39,40.758003,-73.98909,40.759411,-73.988052\n",
      "3,5,2015-01-05 00:15:42,2015-01-05 00:16:21,39,40.758003,-73.98909,40.759411,-73.988052\n",
      "4,5,2015-01-05 00:16:21,2015-01-05 00:17:28,67,40.759411,-73.988052,40.761902,-73.986237\n",
      "5,5,2015-01-05 00:16:21,2015-01-05 00:17:28,67,40.759411,-73.988052,40.761902,-73.986237\n",
      "6,5,2015-01-05 00:17:28,2015-01-05 00:18:18,50,40.761902,-73.986237,40.763786,-73.984871\n",
      "7,5,2015-01-05 00:17:28,2015-01-05 00:18:18,50,40.761902,-73.986237,40.763786,-73.984871\n",
      "8,5,2015-01-05 00:18:18,2015-01-05 00:19:25,67,40.763786,-73.984871,40.766285,-73.98307\n"
     ]
    }
   ],
   "source": [
    "%%bash \n",
    "\n",
    "head manhattan_monday_raw.csv"
   ]
  },
  {
   "cell_type": "code",
   "execution_count": 183,
   "metadata": {
    "collapsed": true
   },
   "outputs": [],
   "source": [
    "%%bash\n",
    "\n",
    "awk -F\",\" -v OFS=\",\" '{ $1=\"\" ; $0=substr($0,2) } 1' manhattan_monday_raw.csv > manhattan_monday.csv"
   ]
  },
  {
   "cell_type": "code",
   "execution_count": 184,
   "metadata": {
    "collapsed": false
   },
   "outputs": [
    {
     "name": "stdout",
     "output_type": "stream",
     "text": [
      "type_id,starttime,stoptime,tripduration,start_lat,start_lon,end_lat,end_lon\n",
      "5,2015-01-05 00:15:00,2015-01-05 00:15:42,42,40.75655,-73.99012,40.758003,-73.98909\n",
      "5,2015-01-05 00:15:00,2015-01-05 00:15:42,42,40.75655,-73.99012,40.758003,-73.98909\n",
      "5,2015-01-05 00:15:42,2015-01-05 00:16:21,39,40.758003,-73.98909,40.759411,-73.988052\n",
      "5,2015-01-05 00:15:42,2015-01-05 00:16:21,39,40.758003,-73.98909,40.759411,-73.988052\n",
      "5,2015-01-05 00:16:21,2015-01-05 00:17:28,67,40.759411,-73.988052,40.761902,-73.986237\n",
      "5,2015-01-05 00:16:21,2015-01-05 00:17:28,67,40.759411,-73.988052,40.761902,-73.986237\n",
      "5,2015-01-05 00:17:28,2015-01-05 00:18:18,50,40.761902,-73.986237,40.763786,-73.984871\n",
      "5,2015-01-05 00:17:28,2015-01-05 00:18:18,50,40.761902,-73.986237,40.763786,-73.984871\n",
      "5,2015-01-05 00:18:18,2015-01-05 00:19:25,67,40.763786,-73.984871,40.766285,-73.98307\n"
     ]
    }
   ],
   "source": [
    "%%bash\n",
    "\n",
    "head manhattan_monday.csv"
   ]
  },
  {
   "cell_type": "markdown",
   "metadata": {},
   "source": [
    "# Bronx"
   ]
  },
  {
   "cell_type": "code",
   "execution_count": 185,
   "metadata": {
    "collapsed": false
   },
   "outputs": [
    {
     "name": "stdout",
     "output_type": "stream",
     "text": [
      "There are  18138 trips on Monday\n",
      "2017-04-04 17:21:34.157914 finished trip number 1000 / 18138\n",
      "2017-04-04 17:25:38.283017 finished trip number 2000 / 18138\n",
      "2017-04-04 17:28:30.539255 finished trip number 3000 / 18138\n",
      "2017-04-04 17:30:55.715427 finished trip number 4000 / 18138\n",
      "2017-04-04 17:33:07.475554 finished trip number 5000 / 18138\n",
      "2017-04-04 17:35:47.280592 finished trip number 6000 / 18138\n",
      "2017-04-04 17:37:54.669512 finished trip number 7000 / 18138\n",
      "2017-04-04 17:40:01.396584 finished trip number 8000 / 18138\n",
      "2017-04-04 17:42:01.717077 finished trip number 9000 / 18138\n",
      "2017-04-04 17:44:03.960771 finished trip number 10000 / 18138\n",
      "2017-04-04 17:46:29.452096 finished trip number 11000 / 18138\n",
      "2017-04-04 17:49:15.302175 finished trip number 12000 / 18138\n",
      "2017-04-04 17:52:00.397655 finished trip number 13000 / 18138\n",
      "2017-04-04 17:54:26.814843 finished trip number 14000 / 18138\n",
      "2017-04-04 17:57:09.504789 finished trip number 15000 / 18138\n",
      "2017-04-04 17:59:42.918540 finished trip number 16000 / 18138\n",
      "2017-04-04 18:01:52.865238 finished trip number 17000 / 18138\n",
      "2017-04-04 18:04:21.292732 finished trip number 18000 / 18138\n"
     ]
    }
   ],
   "source": [
    "agency = pd.read_csv('gtfs/bronx/agency.txt')\n",
    "calendar_dates = pd.read_csv('gtfs/bronx/calendar_dates.txt')\n",
    "calendar = pd.read_csv('gtfs/bronx/calendar.txt')\n",
    "routes = pd.read_csv('gtfs/bronx/routes.txt')\n",
    "shapes = pd.read_csv('gtfs/bronx/shapes.txt')\n",
    "stop_times = pd.read_csv('gtfs/bronx/stop_times.txt')\n",
    "stops = pd.read_csv('gtfs/bronx/stops.txt')\n",
    "trips = pd.read_csv('gtfs/bronx/trips.txt')\n",
    "\n",
    "service_trip_id = pd.merge(calendar[['service_id']],trips[['service_id', 'trip_id']])\n",
    "calendar = pd.merge(calendar,service_trip_id)\n",
    "arbitrary_dates = ['1/5/2015', '1/6/2015']\n",
    "\n",
    "monday = calendar[calendar['monday'] == 1]\n",
    "tuesday = calendar[calendar['tuesday'] == 1]\n",
    "wednesday = calendar[calendar['wednesday'] == 1]\n",
    "thursday = calendar[calendar['thursday'] == 1]\n",
    "friday = calendar[calendar['friday'] == 1]\n",
    "saturday = calendar[calendar['saturday'] == 1]\n",
    "sunday = calendar[calendar['sunday'] == 1]\n",
    "\n",
    "monday_trips = monday['trip_id']\n",
    "print \"There are \", len(monday_trips), \"trips on Monday\"\n",
    "\n",
    "triplist = []\n",
    "count = 0\n",
    "\n",
    "for i in monday_trips:\n",
    "    count += 1\n",
    "    df = stop_times[stop_times['trip_id'] == i]\n",
    "    \n",
    "    # add arrival and departure dates\n",
    "    df = add_arrival_date(df, dates = arbitrary_dates)\n",
    "    df = add_departure_date(df, dates = arbitrary_dates)\n",
    "    df['arrival_datetime'] = pd.to_datetime(df['arrival_date'] + ' ' + df['arrival_time'])\n",
    "    df['departure_datetime'] = pd.to_datetime(df['departure_date'] + ' ' + df['departure_time'])\n",
    "\n",
    "    # join df with stops\n",
    "    df = pd.merge(df, stops[['stop_id', 'stop_name', 'stop_lat', 'stop_lon']],left_on='stop_id', right_on='stop_id')\n",
    "\n",
    "    # join df with trips to get direction id\n",
    "    df = pd.merge(df, trips[['trip_id', 'direction_id', 'route_id']], left_on='trip_id', right_on='trip_id', how='left')\n",
    "\n",
    "    # join df with routes to get route id\n",
    "    df = pd.merge(df, routes[['route_id', 'route_long_name']], left_on='route_id', right_on='route_id', how='left')\n",
    "    \n",
    "    # create new dataframe to store results\n",
    "    legs = pd.DataFrame()\n",
    "    legs['type_id'] = 6 # bronx\n",
    "    legs['starttime'] = df['departure_datetime']\n",
    "    legs['stoptime'] = df['arrival_datetime'].shift(-1).fillna(method='ffill')\n",
    "    legs['tripduration'] = ((legs['stoptime'] - legs['starttime'])/np.timedelta64(1, 's')).astype(int)\n",
    "    legs['start_lat'] = df['stop_lat']\n",
    "    legs['start_lon'] = df['stop_lon']\n",
    "    legs['end_lat'] = legs['start_lat'].shift(-1).fillna(method='ffill')\n",
    "    legs['end_lon'] = legs['start_lon'].shift(-1).fillna(method='ffill')\n",
    "    \n",
    "    # append results to triplist\n",
    "    triplist.append(legs)\n",
    "    \n",
    "    if count % 1000 == 0:\n",
    "        print str(dt.datetime.now()), \"finished trip number\", count, \"/\", len(monday_trips)"
   ]
  },
  {
   "cell_type": "code",
   "execution_count": 186,
   "metadata": {
    "collapsed": true
   },
   "outputs": [],
   "source": [
    "data = pd.concat(triplist)"
   ]
  },
  {
   "cell_type": "code",
   "execution_count": 187,
   "metadata": {
    "collapsed": true
   },
   "outputs": [],
   "source": [
    "data = data[data.tripduration != 0]\n",
    "data = data[data.start_lat != 0]\n",
    "data = data[data.end_lat != 0]"
   ]
  },
  {
   "cell_type": "code",
   "execution_count": 188,
   "metadata": {
    "collapsed": true
   },
   "outputs": [],
   "source": [
    "data.type_id = 6 # bronx\n",
    "data = data.sort_values(by='starttime')\n",
    "data = data.reset_index(drop=True)"
   ]
  },
  {
   "cell_type": "code",
   "execution_count": 190,
   "metadata": {
    "collapsed": false
   },
   "outputs": [
    {
     "data": {
      "text/plain": [
       "585284"
      ]
     },
     "execution_count": 190,
     "metadata": {},
     "output_type": "execute_result"
    }
   ],
   "source": [
    "len(data)"
   ]
  },
  {
   "cell_type": "code",
   "execution_count": 189,
   "metadata": {
    "collapsed": false
   },
   "outputs": [
    {
     "data": {
      "text/html": [
       "<div>\n",
       "<table border=\"1\" class=\"dataframe\">\n",
       "  <thead>\n",
       "    <tr style=\"text-align: right;\">\n",
       "      <th></th>\n",
       "      <th>type_id</th>\n",
       "      <th>starttime</th>\n",
       "      <th>stoptime</th>\n",
       "      <th>tripduration</th>\n",
       "      <th>start_lat</th>\n",
       "      <th>start_lon</th>\n",
       "      <th>end_lat</th>\n",
       "      <th>end_lon</th>\n",
       "    </tr>\n",
       "  </thead>\n",
       "  <tbody>\n",
       "    <tr>\n",
       "      <th>0</th>\n",
       "      <td>6</td>\n",
       "      <td>2015-01-05 00:00:00</td>\n",
       "      <td>2015-01-05 00:01:00</td>\n",
       "      <td>60</td>\n",
       "      <td>40.829098</td>\n",
       "      <td>-73.874573</td>\n",
       "      <td>40.826763</td>\n",
       "      <td>-73.874023</td>\n",
       "    </tr>\n",
       "    <tr>\n",
       "      <th>1</th>\n",
       "      <td>6</td>\n",
       "      <td>2015-01-05 00:00:00</td>\n",
       "      <td>2015-01-05 00:00:38</td>\n",
       "      <td>38</td>\n",
       "      <td>40.818676</td>\n",
       "      <td>-73.851555</td>\n",
       "      <td>40.818588</td>\n",
       "      <td>-73.854134</td>\n",
       "    </tr>\n",
       "    <tr>\n",
       "      <th>2</th>\n",
       "      <td>6</td>\n",
       "      <td>2015-01-05 00:00:00</td>\n",
       "      <td>2015-01-05 00:01:02</td>\n",
       "      <td>62</td>\n",
       "      <td>40.818676</td>\n",
       "      <td>-73.851555</td>\n",
       "      <td>40.818588</td>\n",
       "      <td>-73.854134</td>\n",
       "    </tr>\n",
       "    <tr>\n",
       "      <th>3</th>\n",
       "      <td>6</td>\n",
       "      <td>2015-01-05 00:00:00</td>\n",
       "      <td>2015-01-05 00:01:07</td>\n",
       "      <td>67</td>\n",
       "      <td>40.829098</td>\n",
       "      <td>-73.874573</td>\n",
       "      <td>40.826763</td>\n",
       "      <td>-73.874023</td>\n",
       "    </tr>\n",
       "    <tr>\n",
       "      <th>4</th>\n",
       "      <td>6</td>\n",
       "      <td>2015-01-05 00:00:38</td>\n",
       "      <td>2015-01-05 00:01:03</td>\n",
       "      <td>25</td>\n",
       "      <td>40.818588</td>\n",
       "      <td>-73.854134</td>\n",
       "      <td>40.820190</td>\n",
       "      <td>-73.854507</td>\n",
       "    </tr>\n",
       "  </tbody>\n",
       "</table>\n",
       "</div>"
      ],
      "text/plain": [
       "   type_id           starttime            stoptime  tripduration  start_lat  \\\n",
       "0        6 2015-01-05 00:00:00 2015-01-05 00:01:00            60  40.829098   \n",
       "1        6 2015-01-05 00:00:00 2015-01-05 00:00:38            38  40.818676   \n",
       "2        6 2015-01-05 00:00:00 2015-01-05 00:01:02            62  40.818676   \n",
       "3        6 2015-01-05 00:00:00 2015-01-05 00:01:07            67  40.829098   \n",
       "4        6 2015-01-05 00:00:38 2015-01-05 00:01:03            25  40.818588   \n",
       "\n",
       "   start_lon    end_lat    end_lon  \n",
       "0 -73.874573  40.826763 -73.874023  \n",
       "1 -73.851555  40.818588 -73.854134  \n",
       "2 -73.851555  40.818588 -73.854134  \n",
       "3 -73.874573  40.826763 -73.874023  \n",
       "4 -73.854134  40.820190 -73.854507  "
      ]
     },
     "execution_count": 189,
     "metadata": {},
     "output_type": "execute_result"
    }
   ],
   "source": [
    "data.head()"
   ]
  },
  {
   "cell_type": "code",
   "execution_count": 191,
   "metadata": {
    "collapsed": true
   },
   "outputs": [],
   "source": [
    "data.to_csv('bronx_monday_raw.csv')"
   ]
  },
  {
   "cell_type": "code",
   "execution_count": 192,
   "metadata": {
    "collapsed": false
   },
   "outputs": [
    {
     "name": "stdout",
     "output_type": "stream",
     "text": [
      ",type_id,starttime,stoptime,tripduration,start_lat,start_lon,end_lat,end_lon\n",
      "0,6,2015-01-05 00:00:00,2015-01-05 00:01:00,60,40.829098,-73.874573,40.826763,-73.874023\n",
      "1,6,2015-01-05 00:00:00,2015-01-05 00:00:38,38,40.818676,-73.851555,40.818588,-73.854134\n",
      "2,6,2015-01-05 00:00:00,2015-01-05 00:01:02,62,40.818676,-73.851555,40.818588,-73.854134\n",
      "3,6,2015-01-05 00:00:00,2015-01-05 00:01:07,67,40.829098,-73.874573,40.826763,-73.874023\n",
      "4,6,2015-01-05 00:00:38,2015-01-05 00:01:03,25,40.818588,-73.854134,40.82019,-73.854507\n",
      "5,6,2015-01-05 00:01:00,2015-01-05 00:01:51,51,40.826763,-73.874023,40.826923,-73.871368\n",
      "6,6,2015-01-05 00:01:02,2015-01-05 00:01:46,44,40.818588,-73.854134,40.82019,-73.854507\n",
      "7,6,2015-01-05 00:01:03,2015-01-05 00:01:42,39,40.82019,-73.854507,40.822483,-73.855347\n",
      "8,6,2015-01-05 00:01:07,2015-01-05 00:02:05,58,40.826763,-73.874023,40.826923,-73.871368\n"
     ]
    }
   ],
   "source": [
    "%%bash \n",
    "\n",
    "head bronx_monday_raw.csv"
   ]
  },
  {
   "cell_type": "code",
   "execution_count": 193,
   "metadata": {
    "collapsed": true
   },
   "outputs": [],
   "source": [
    "%%bash\n",
    "\n",
    "awk -F\",\" -v OFS=\",\" '{ $1=\"\" ; $0=substr($0,2) } 1' bronx_monday_raw.csv > bronx_monday.csv"
   ]
  },
  {
   "cell_type": "code",
   "execution_count": 194,
   "metadata": {
    "collapsed": false
   },
   "outputs": [
    {
     "name": "stdout",
     "output_type": "stream",
     "text": [
      "type_id,starttime,stoptime,tripduration,start_lat,start_lon,end_lat,end_lon\n",
      "6,2015-01-05 00:00:00,2015-01-05 00:01:00,60,40.829098,-73.874573,40.826763,-73.874023\n",
      "6,2015-01-05 00:00:00,2015-01-05 00:00:38,38,40.818676,-73.851555,40.818588,-73.854134\n",
      "6,2015-01-05 00:00:00,2015-01-05 00:01:02,62,40.818676,-73.851555,40.818588,-73.854134\n",
      "6,2015-01-05 00:00:00,2015-01-05 00:01:07,67,40.829098,-73.874573,40.826763,-73.874023\n",
      "6,2015-01-05 00:00:38,2015-01-05 00:01:03,25,40.818588,-73.854134,40.82019,-73.854507\n",
      "6,2015-01-05 00:01:00,2015-01-05 00:01:51,51,40.826763,-73.874023,40.826923,-73.871368\n",
      "6,2015-01-05 00:01:02,2015-01-05 00:01:46,44,40.818588,-73.854134,40.82019,-73.854507\n",
      "6,2015-01-05 00:01:03,2015-01-05 00:01:42,39,40.82019,-73.854507,40.822483,-73.855347\n",
      "6,2015-01-05 00:01:07,2015-01-05 00:02:05,58,40.826763,-73.874023,40.826923,-73.871368\n"
     ]
    }
   ],
   "source": [
    "%%bash \n",
    "\n",
    "head bronx_monday.csv"
   ]
  },
  {
   "cell_type": "markdown",
   "metadata": {},
   "source": [
    "# Staten Island"
   ]
  },
  {
   "cell_type": "code",
   "execution_count": 196,
   "metadata": {
    "collapsed": false
   },
   "outputs": [
    {
     "name": "stdout",
     "output_type": "stream",
     "text": [
      "There are  7445 trips on Monday\n",
      "2017-04-04 18:15:41.860274 finished trip number 1000 / 7445\n",
      "2017-04-04 18:17:35.099166 finished trip number 2000 / 7445\n",
      "2017-04-04 18:19:45.822692 finished trip number 3000 / 7445\n",
      "2017-04-04 18:21:52.995695 finished trip number 4000 / 7445\n",
      "2017-04-04 18:23:57.787851 finished trip number 5000 / 7445\n",
      "2017-04-04 18:26:01.166998 finished trip number 6000 / 7445\n",
      "2017-04-04 18:28:22.725844 finished trip number 7000 / 7445\n"
     ]
    }
   ],
   "source": [
    "agency = pd.read_csv('gtfs/staten_island/agency.txt')\n",
    "calendar_dates = pd.read_csv('gtfs/staten_island/calendar_dates.txt')\n",
    "calendar = pd.read_csv('gtfs/staten_island/calendar.txt')\n",
    "routes = pd.read_csv('gtfs/staten_island/routes.txt')\n",
    "shapes = pd.read_csv('gtfs/staten_island/shapes.txt')\n",
    "stop_times = pd.read_csv('gtfs/staten_island/stop_times.txt')\n",
    "stops = pd.read_csv('gtfs/staten_island/stops.txt')\n",
    "trips = pd.read_csv('gtfs/staten_island/trips.txt')\n",
    "\n",
    "service_trip_id = pd.merge(calendar[['service_id']],trips[['service_id', 'trip_id']])\n",
    "calendar = pd.merge(calendar,service_trip_id)\n",
    "arbitrary_dates = ['1/5/2015', '1/6/2015']\n",
    "\n",
    "monday = calendar[calendar['monday'] == 1]\n",
    "tuesday = calendar[calendar['tuesday'] == 1]\n",
    "wednesday = calendar[calendar['wednesday'] == 1]\n",
    "thursday = calendar[calendar['thursday'] == 1]\n",
    "friday = calendar[calendar['friday'] == 1]\n",
    "saturday = calendar[calendar['saturday'] == 1]\n",
    "sunday = calendar[calendar['sunday'] == 1]\n",
    "\n",
    "monday_trips = monday['trip_id']\n",
    "print \"There are \", len(monday_trips), \"trips on Monday\"\n",
    "\n",
    "triplist = []\n",
    "count = 0\n",
    "\n",
    "for i in monday_trips:\n",
    "    count += 1\n",
    "    df = stop_times[stop_times['trip_id'] == i]\n",
    "    \n",
    "    # add arrival and departure dates\n",
    "    df = add_arrival_date(df, dates = arbitrary_dates)\n",
    "    df = add_departure_date(df, dates = arbitrary_dates)\n",
    "    df['arrival_datetime'] = pd.to_datetime(df['arrival_date'] + ' ' + df['arrival_time'])\n",
    "    df['departure_datetime'] = pd.to_datetime(df['departure_date'] + ' ' + df['departure_time'])\n",
    "\n",
    "    # join df with stops\n",
    "    df = pd.merge(df, stops[['stop_id', 'stop_name', 'stop_lat', 'stop_lon']],left_on='stop_id', right_on='stop_id')\n",
    "\n",
    "    # join df with trips to get direction id\n",
    "    df = pd.merge(df, trips[['trip_id', 'direction_id', 'route_id']], left_on='trip_id', right_on='trip_id', how='left')\n",
    "\n",
    "    # join df with routes to get route id\n",
    "    df = pd.merge(df, routes[['route_id', 'route_long_name']], left_on='route_id', right_on='route_id', how='left')\n",
    "    \n",
    "    # create new dataframe to store results\n",
    "    legs = pd.DataFrame()\n",
    "    legs['type_id'] = 7 # staten_island\n",
    "    legs['starttime'] = df['departure_datetime']\n",
    "    legs['stoptime'] = df['arrival_datetime'].shift(-1).fillna(method='ffill')\n",
    "    legs['tripduration'] = ((legs['stoptime'] - legs['starttime'])/np.timedelta64(1, 's')).astype(int)\n",
    "    legs['start_lat'] = df['stop_lat']\n",
    "    legs['start_lon'] = df['stop_lon']\n",
    "    legs['end_lat'] = legs['start_lat'].shift(-1).fillna(method='ffill')\n",
    "    legs['end_lon'] = legs['start_lon'].shift(-1).fillna(method='ffill')\n",
    "    \n",
    "    # append results to triplist\n",
    "    triplist.append(legs)\n",
    "    \n",
    "    if count % 1000 == 0:\n",
    "        print str(dt.datetime.now()), \"finished trip number\", count, \"/\", len(monday_trips)"
   ]
  },
  {
   "cell_type": "code",
   "execution_count": 197,
   "metadata": {
    "collapsed": true
   },
   "outputs": [],
   "source": [
    "data = pd.concat(triplist)"
   ]
  },
  {
   "cell_type": "code",
   "execution_count": 198,
   "metadata": {
    "collapsed": true
   },
   "outputs": [],
   "source": [
    "data = data[data.tripduration != 0]\n",
    "data = data[data.start_lat != 0]\n",
    "data = data[data.end_lat != 0]"
   ]
  },
  {
   "cell_type": "code",
   "execution_count": 199,
   "metadata": {
    "collapsed": true
   },
   "outputs": [],
   "source": [
    "data.type_id = 7 # staten island\n",
    "data = data.sort_values(by='starttime')\n",
    "data = data.reset_index(drop=True)"
   ]
  },
  {
   "cell_type": "code",
   "execution_count": 200,
   "metadata": {
    "collapsed": false
   },
   "outputs": [
    {
     "data": {
      "text/html": [
       "<div>\n",
       "<table border=\"1\" class=\"dataframe\">\n",
       "  <thead>\n",
       "    <tr style=\"text-align: right;\">\n",
       "      <th></th>\n",
       "      <th>type_id</th>\n",
       "      <th>starttime</th>\n",
       "      <th>stoptime</th>\n",
       "      <th>tripduration</th>\n",
       "      <th>start_lat</th>\n",
       "      <th>start_lon</th>\n",
       "      <th>end_lat</th>\n",
       "      <th>end_lon</th>\n",
       "    </tr>\n",
       "  </thead>\n",
       "  <tbody>\n",
       "    <tr>\n",
       "      <th>0</th>\n",
       "      <td>7</td>\n",
       "      <td>2015-01-05 00:00:00</td>\n",
       "      <td>2015-01-05 00:01:12</td>\n",
       "      <td>72</td>\n",
       "      <td>40.560760</td>\n",
       "      <td>-74.171089</td>\n",
       "      <td>40.556683</td>\n",
       "      <td>-74.169037</td>\n",
       "    </tr>\n",
       "    <tr>\n",
       "      <th>1</th>\n",
       "      <td>7</td>\n",
       "      <td>2015-01-05 00:00:00</td>\n",
       "      <td>2015-01-05 00:01:12</td>\n",
       "      <td>72</td>\n",
       "      <td>40.560760</td>\n",
       "      <td>-74.171089</td>\n",
       "      <td>40.556683</td>\n",
       "      <td>-74.169037</td>\n",
       "    </tr>\n",
       "    <tr>\n",
       "      <th>2</th>\n",
       "      <td>7</td>\n",
       "      <td>2015-01-05 00:00:00</td>\n",
       "      <td>2015-01-05 00:00:45</td>\n",
       "      <td>45</td>\n",
       "      <td>40.643429</td>\n",
       "      <td>-74.073654</td>\n",
       "      <td>40.641872</td>\n",
       "      <td>-74.075699</td>\n",
       "    </tr>\n",
       "    <tr>\n",
       "      <th>3</th>\n",
       "      <td>7</td>\n",
       "      <td>2015-01-05 00:00:45</td>\n",
       "      <td>2015-01-05 00:01:40</td>\n",
       "      <td>55</td>\n",
       "      <td>40.641872</td>\n",
       "      <td>-74.075699</td>\n",
       "      <td>40.638756</td>\n",
       "      <td>-74.075867</td>\n",
       "    </tr>\n",
       "    <tr>\n",
       "      <th>4</th>\n",
       "      <td>7</td>\n",
       "      <td>2015-01-05 00:01:12</td>\n",
       "      <td>2015-01-05 00:02:20</td>\n",
       "      <td>68</td>\n",
       "      <td>40.556683</td>\n",
       "      <td>-74.169037</td>\n",
       "      <td>40.552063</td>\n",
       "      <td>-74.168007</td>\n",
       "    </tr>\n",
       "  </tbody>\n",
       "</table>\n",
       "</div>"
      ],
      "text/plain": [
       "   type_id           starttime            stoptime  tripduration  start_lat  \\\n",
       "0        7 2015-01-05 00:00:00 2015-01-05 00:01:12            72  40.560760   \n",
       "1        7 2015-01-05 00:00:00 2015-01-05 00:01:12            72  40.560760   \n",
       "2        7 2015-01-05 00:00:00 2015-01-05 00:00:45            45  40.643429   \n",
       "3        7 2015-01-05 00:00:45 2015-01-05 00:01:40            55  40.641872   \n",
       "4        7 2015-01-05 00:01:12 2015-01-05 00:02:20            68  40.556683   \n",
       "\n",
       "   start_lon    end_lat    end_lon  \n",
       "0 -74.171089  40.556683 -74.169037  \n",
       "1 -74.171089  40.556683 -74.169037  \n",
       "2 -74.073654  40.641872 -74.075699  \n",
       "3 -74.075699  40.638756 -74.075867  \n",
       "4 -74.169037  40.552063 -74.168007  "
      ]
     },
     "execution_count": 200,
     "metadata": {},
     "output_type": "execute_result"
    }
   ],
   "source": [
    "data.head()"
   ]
  },
  {
   "cell_type": "code",
   "execution_count": 201,
   "metadata": {
    "collapsed": true
   },
   "outputs": [],
   "source": [
    "data.to_csv('staten_island_monday_raw.csv')"
   ]
  },
  {
   "cell_type": "code",
   "execution_count": 202,
   "metadata": {
    "collapsed": false
   },
   "outputs": [
    {
     "name": "stdout",
     "output_type": "stream",
     "text": [
      ",type_id,starttime,stoptime,tripduration,start_lat,start_lon,end_lat,end_lon\n",
      "0,7,2015-01-05 00:00:00,2015-01-05 00:01:12,72,40.56076,-74.171089,40.556683,-74.169037\n",
      "1,7,2015-01-05 00:00:00,2015-01-05 00:01:12,72,40.56076,-74.171089,40.556683,-74.169037\n",
      "2,7,2015-01-05 00:00:00,2015-01-05 00:00:45,45,40.643429,-74.073654,40.641872,-74.075699\n",
      "3,7,2015-01-05 00:00:45,2015-01-05 00:01:40,55,40.641872,-74.075699,40.638756,-74.075867\n",
      "4,7,2015-01-05 00:01:12,2015-01-05 00:02:20,68,40.556683,-74.169037,40.552063,-74.168007\n",
      "5,7,2015-01-05 00:01:12,2015-01-05 00:02:20,68,40.556683,-74.169037,40.552063,-74.168007\n",
      "6,7,2015-01-05 00:01:40,2015-01-05 00:02:00,20,40.638756,-74.075867,40.637814,-74.076157\n",
      "7,7,2015-01-05 00:02:00,2015-01-05 00:02:22,22,40.637814,-74.076157,40.638081,-74.077682\n",
      "8,7,2015-01-05 00:02:20,2015-01-05 00:02:47,27,40.552063,-74.168007,40.550243,-74.167603\n"
     ]
    }
   ],
   "source": [
    "%%bash \n",
    "\n",
    "head staten_island_monday_raw.csv"
   ]
  },
  {
   "cell_type": "code",
   "execution_count": 203,
   "metadata": {
    "collapsed": true
   },
   "outputs": [],
   "source": [
    "%%bash\n",
    "\n",
    "awk -F\",\" -v OFS=\",\" '{ $1=\"\" ; $0=substr($0,2) } 1' staten_island_monday_raw.csv > staten_island_monday.csv"
   ]
  },
  {
   "cell_type": "code",
   "execution_count": 204,
   "metadata": {
    "collapsed": false
   },
   "outputs": [
    {
     "name": "stdout",
     "output_type": "stream",
     "text": [
      "type_id,starttime,stoptime,tripduration,start_lat,start_lon,end_lat,end_lon\n",
      "7,2015-01-05 00:00:00,2015-01-05 00:01:12,72,40.56076,-74.171089,40.556683,-74.169037\n",
      "7,2015-01-05 00:00:00,2015-01-05 00:01:12,72,40.56076,-74.171089,40.556683,-74.169037\n",
      "7,2015-01-05 00:00:00,2015-01-05 00:00:45,45,40.643429,-74.073654,40.641872,-74.075699\n",
      "7,2015-01-05 00:00:45,2015-01-05 00:01:40,55,40.641872,-74.075699,40.638756,-74.075867\n",
      "7,2015-01-05 00:01:12,2015-01-05 00:02:20,68,40.556683,-74.169037,40.552063,-74.168007\n",
      "7,2015-01-05 00:01:12,2015-01-05 00:02:20,68,40.556683,-74.169037,40.552063,-74.168007\n",
      "7,2015-01-05 00:01:40,2015-01-05 00:02:00,20,40.638756,-74.075867,40.637814,-74.076157\n",
      "7,2015-01-05 00:02:00,2015-01-05 00:02:22,22,40.637814,-74.076157,40.638081,-74.077682\n",
      "7,2015-01-05 00:02:20,2015-01-05 00:02:47,27,40.552063,-74.168007,40.550243,-74.167603\n"
     ]
    }
   ],
   "source": [
    "%%bash \n",
    "\n",
    "head staten_island_monday.csv"
   ]
  },
  {
   "cell_type": "markdown",
   "metadata": {},
   "source": [
    "# Append all CSVs together (and other useful bash tools)"
   ]
  },
  {
   "cell_type": "markdown",
   "metadata": {},
   "source": [
    "http://stackoverflow.com/questions/24641948/merging-csv-files-appending-instead-of-merging/24643455"
   ]
  },
  {
   "cell_type": "code",
   "execution_count": 205,
   "metadata": {
    "collapsed": false
   },
   "outputs": [
    {
     "name": "stdout",
     "output_type": "stream",
     "text": [
      "\u001b[34mBusStationSketch\u001b[m\u001b[m/         \u001b[34mdata\u001b[m\u001b[m/                     raw_data_urls.txt\r\n",
      "DataWrangling.ipynb       download_raw_data.sh      \u001b[34mrawdata\u001b[m\u001b[m/\r\n",
      "DataWrangling_v2.ipynb    \u001b[34mgtfs\u001b[m\u001b[m/                     \u001b[34msandbox\u001b[m\u001b[m/\r\n",
      "bronx_monday.csv          manhattan_monday.csv      staten_island_monday.csv\r\n",
      "brooklyn_monday.csv       queens_monday.csv         taxi_monday.csv\r\n"
     ]
    }
   ],
   "source": [
    "ls"
   ]
  },
  {
   "cell_type": "code",
   "execution_count": 206,
   "metadata": {
    "collapsed": false
   },
   "outputs": [
    {
     "name": "stdout",
     "output_type": "stream",
     "text": [
      "./bronx_monday.csv\n",
      "./brooklyn_monday.csv\n",
      "./manhattan_monday.csv\n",
      "./queens_monday.csv\n",
      "./staten_island_monday.csv\n",
      "./taxi_monday.csv\n"
     ]
    }
   ],
   "source": [
    "%%bash\n",
    "for filename in ./*.csv; do\n",
    " echo $filename\n",
    "done"
   ]
  },
  {
   "cell_type": "code",
   "execution_count": 174,
   "metadata": {
    "collapsed": false
   },
   "outputs": [],
   "source": [
    "%%bash\n",
    "\n",
    "OutFileName=\"output.csv\"              # Output name\n",
    "i=0                                       # Set a counter\n",
    "for filename in ./*.csv; do \n",
    " if [ \"$filename\"  != \"$OutFileName\" ] ;      # Avoid recursion \n",
    " then \n",
    "   if [[ $i -eq 0 ]] ; then \n",
    "      head -1  $filename >   $OutFileName # Copy header if it is the first file\n",
    "   fi\n",
    "   tail -n +2  $filename >>  $OutFileName # Append from the 2nd line each file\n",
    "   i=$(( $i + 1 ))                        # Increase the counter\n",
    " fi\n",
    "done"
   ]
  },
  {
   "cell_type": "markdown",
   "metadata": {},
   "source": [
    "Sample every nth line of output file to make it smaller:"
   ]
  },
  {
   "cell_type": "code",
   "execution_count": null,
   "metadata": {
    "collapsed": true
   },
   "outputs": [],
   "source": [
    "# get every other line\n",
    "awk 'NR%2==0' output.csv > output2.csv\n",
    "\n",
    "# add header back in\n",
    "for csv in output2.csv; do (echo \"type_id,starttime,stoptime,tripduration,start_lat,start_lon,end_lat,end_lon\"; cat output2.csv) > tmp; mv tmp output3.csv; done\n",
    "\n",
    "# count lines in csv\n",
    "awk '{n+=1} END {print n}' output3.csv"
   ]
  },
  {
   "cell_type": "markdown",
   "metadata": {
    "collapsed": true
   },
   "source": [
    "Sort output.csv so it can later be split in half."
   ]
  },
  {
   "cell_type": "code",
   "execution_count": 2,
   "metadata": {
    "collapsed": true
   },
   "outputs": [],
   "source": [
    "df = pd.read_csv(\"/Users/Will/Dropbox/Portfolio/bus/sandbox/output.csv\")"
   ]
  },
  {
   "cell_type": "code",
   "execution_count": 3,
   "metadata": {
    "collapsed": false
   },
   "outputs": [
    {
     "data": {
      "text/html": [
       "<div>\n",
       "<table border=\"1\" class=\"dataframe\">\n",
       "  <thead>\n",
       "    <tr style=\"text-align: right;\">\n",
       "      <th></th>\n",
       "      <th>type_id</th>\n",
       "      <th>starttime</th>\n",
       "      <th>stoptime</th>\n",
       "      <th>tripduration</th>\n",
       "      <th>start_lat</th>\n",
       "      <th>start_lon</th>\n",
       "      <th>end_lat</th>\n",
       "      <th>end_lon</th>\n",
       "    </tr>\n",
       "  </thead>\n",
       "  <tbody>\n",
       "    <tr>\n",
       "      <th>0</th>\n",
       "      <td>6</td>\n",
       "      <td>2015-01-05 00:00:00</td>\n",
       "      <td>2015-01-05 00:01:00</td>\n",
       "      <td>60</td>\n",
       "      <td>40.829098</td>\n",
       "      <td>-73.874573</td>\n",
       "      <td>40.826763</td>\n",
       "      <td>-73.874023</td>\n",
       "    </tr>\n",
       "    <tr>\n",
       "      <th>1</th>\n",
       "      <td>6</td>\n",
       "      <td>2015-01-05 00:00:00</td>\n",
       "      <td>2015-01-05 00:00:38</td>\n",
       "      <td>38</td>\n",
       "      <td>40.818676</td>\n",
       "      <td>-73.851555</td>\n",
       "      <td>40.818588</td>\n",
       "      <td>-73.854134</td>\n",
       "    </tr>\n",
       "    <tr>\n",
       "      <th>2</th>\n",
       "      <td>6</td>\n",
       "      <td>2015-01-05 00:00:00</td>\n",
       "      <td>2015-01-05 00:01:02</td>\n",
       "      <td>62</td>\n",
       "      <td>40.818676</td>\n",
       "      <td>-73.851555</td>\n",
       "      <td>40.818588</td>\n",
       "      <td>-73.854134</td>\n",
       "    </tr>\n",
       "    <tr>\n",
       "      <th>3</th>\n",
       "      <td>6</td>\n",
       "      <td>2015-01-05 00:00:00</td>\n",
       "      <td>2015-01-05 00:01:07</td>\n",
       "      <td>67</td>\n",
       "      <td>40.829098</td>\n",
       "      <td>-73.874573</td>\n",
       "      <td>40.826763</td>\n",
       "      <td>-73.874023</td>\n",
       "    </tr>\n",
       "    <tr>\n",
       "      <th>4</th>\n",
       "      <td>6</td>\n",
       "      <td>2015-01-05 00:00:38</td>\n",
       "      <td>2015-01-05 00:01:03</td>\n",
       "      <td>25</td>\n",
       "      <td>40.818588</td>\n",
       "      <td>-73.854134</td>\n",
       "      <td>40.820190</td>\n",
       "      <td>-73.854507</td>\n",
       "    </tr>\n",
       "  </tbody>\n",
       "</table>\n",
       "</div>"
      ],
      "text/plain": [
       "   type_id            starttime             stoptime  tripduration  start_lat  \\\n",
       "0        6  2015-01-05 00:00:00  2015-01-05 00:01:00            60  40.829098   \n",
       "1        6  2015-01-05 00:00:00  2015-01-05 00:00:38            38  40.818676   \n",
       "2        6  2015-01-05 00:00:00  2015-01-05 00:01:02            62  40.818676   \n",
       "3        6  2015-01-05 00:00:00  2015-01-05 00:01:07            67  40.829098   \n",
       "4        6  2015-01-05 00:00:38  2015-01-05 00:01:03            25  40.818588   \n",
       "\n",
       "   start_lon    end_lat    end_lon  \n",
       "0 -73.874573  40.826763 -73.874023  \n",
       "1 -73.851555  40.818588 -73.854134  \n",
       "2 -73.851555  40.818588 -73.854134  \n",
       "3 -73.874573  40.826763 -73.874023  \n",
       "4 -73.854134  40.820190 -73.854507  "
      ]
     },
     "execution_count": 3,
     "metadata": {},
     "output_type": "execute_result"
    }
   ],
   "source": [
    "df.head()"
   ]
  },
  {
   "cell_type": "code",
   "execution_count": 4,
   "metadata": {
    "collapsed": false
   },
   "outputs": [
    {
     "data": {
      "text/html": [
       "<div>\n",
       "<table border=\"1\" class=\"dataframe\">\n",
       "  <thead>\n",
       "    <tr style=\"text-align: right;\">\n",
       "      <th></th>\n",
       "      <th>type_id</th>\n",
       "      <th>starttime</th>\n",
       "      <th>stoptime</th>\n",
       "      <th>tripduration</th>\n",
       "      <th>start_lat</th>\n",
       "      <th>start_lon</th>\n",
       "      <th>end_lat</th>\n",
       "      <th>end_lon</th>\n",
       "    </tr>\n",
       "  </thead>\n",
       "  <tbody>\n",
       "    <tr>\n",
       "      <th>4092702</th>\n",
       "      <td>2</td>\n",
       "      <td>2015-01-05 23:59:46</td>\n",
       "      <td>2015-01-06 00:05:09</td>\n",
       "      <td>323</td>\n",
       "      <td>40.691307</td>\n",
       "      <td>-73.987389</td>\n",
       "      <td>40.689060</td>\n",
       "      <td>-74.000755</td>\n",
       "    </tr>\n",
       "    <tr>\n",
       "      <th>4092703</th>\n",
       "      <td>2</td>\n",
       "      <td>2015-01-05 23:59:47</td>\n",
       "      <td>2015-01-06 00:05:19</td>\n",
       "      <td>332</td>\n",
       "      <td>40.746876</td>\n",
       "      <td>-73.890831</td>\n",
       "      <td>40.764481</td>\n",
       "      <td>-73.889847</td>\n",
       "    </tr>\n",
       "    <tr>\n",
       "      <th>4092704</th>\n",
       "      <td>2</td>\n",
       "      <td>2015-01-05 23:59:49</td>\n",
       "      <td>2015-01-06 00:07:00</td>\n",
       "      <td>431</td>\n",
       "      <td>40.809402</td>\n",
       "      <td>-73.951485</td>\n",
       "      <td>40.798767</td>\n",
       "      <td>-73.929794</td>\n",
       "    </tr>\n",
       "    <tr>\n",
       "      <th>4092705</th>\n",
       "      <td>2</td>\n",
       "      <td>2015-01-05 23:59:57</td>\n",
       "      <td>2015-01-06 00:05:27</td>\n",
       "      <td>330</td>\n",
       "      <td>40.747173</td>\n",
       "      <td>-73.888702</td>\n",
       "      <td>40.757820</td>\n",
       "      <td>-73.884476</td>\n",
       "    </tr>\n",
       "    <tr>\n",
       "      <th>4092706</th>\n",
       "      <td>2</td>\n",
       "      <td>2015-01-06 00:00:00</td>\n",
       "      <td>2015-01-06 00:00:00</td>\n",
       "      <td>0</td>\n",
       "      <td>40.789150</td>\n",
       "      <td>-73.952850</td>\n",
       "      <td>40.846130</td>\n",
       "      <td>-73.884064</td>\n",
       "    </tr>\n",
       "  </tbody>\n",
       "</table>\n",
       "</div>"
      ],
      "text/plain": [
       "         type_id            starttime             stoptime  tripduration  \\\n",
       "4092702        2  2015-01-05 23:59:46  2015-01-06 00:05:09           323   \n",
       "4092703        2  2015-01-05 23:59:47  2015-01-06 00:05:19           332   \n",
       "4092704        2  2015-01-05 23:59:49  2015-01-06 00:07:00           431   \n",
       "4092705        2  2015-01-05 23:59:57  2015-01-06 00:05:27           330   \n",
       "4092706        2  2015-01-06 00:00:00  2015-01-06 00:00:00             0   \n",
       "\n",
       "         start_lat  start_lon    end_lat    end_lon  \n",
       "4092702  40.691307 -73.987389  40.689060 -74.000755  \n",
       "4092703  40.746876 -73.890831  40.764481 -73.889847  \n",
       "4092704  40.809402 -73.951485  40.798767 -73.929794  \n",
       "4092705  40.747173 -73.888702  40.757820 -73.884476  \n",
       "4092706  40.789150 -73.952850  40.846130 -73.884064  "
      ]
     },
     "execution_count": 4,
     "metadata": {},
     "output_type": "execute_result"
    }
   ],
   "source": [
    "df.tail()"
   ]
  },
  {
   "cell_type": "code",
   "execution_count": 7,
   "metadata": {
    "collapsed": false
   },
   "outputs": [],
   "source": [
    "df = df.sort_values(by='starttime')"
   ]
  },
  {
   "cell_type": "code",
   "execution_count": 8,
   "metadata": {
    "collapsed": true
   },
   "outputs": [],
   "source": [
    "df = df.reset_index(drop=True)"
   ]
  },
  {
   "cell_type": "code",
   "execution_count": 9,
   "metadata": {
    "collapsed": false
   },
   "outputs": [
    {
     "data": {
      "text/html": [
       "<div>\n",
       "<table border=\"1\" class=\"dataframe\">\n",
       "  <thead>\n",
       "    <tr style=\"text-align: right;\">\n",
       "      <th></th>\n",
       "      <th>type_id</th>\n",
       "      <th>starttime</th>\n",
       "      <th>stoptime</th>\n",
       "      <th>tripduration</th>\n",
       "      <th>start_lat</th>\n",
       "      <th>start_lon</th>\n",
       "      <th>end_lat</th>\n",
       "      <th>end_lon</th>\n",
       "    </tr>\n",
       "  </thead>\n",
       "  <tbody>\n",
       "    <tr>\n",
       "      <th>0</th>\n",
       "      <td>6</td>\n",
       "      <td>2015-01-05 00:00:00</td>\n",
       "      <td>2015-01-05 00:01:00</td>\n",
       "      <td>60</td>\n",
       "      <td>40.829098</td>\n",
       "      <td>-73.874573</td>\n",
       "      <td>40.826763</td>\n",
       "      <td>-73.874023</td>\n",
       "    </tr>\n",
       "    <tr>\n",
       "      <th>1</th>\n",
       "      <td>7</td>\n",
       "      <td>2015-01-05 00:00:00</td>\n",
       "      <td>2015-01-05 00:00:45</td>\n",
       "      <td>45</td>\n",
       "      <td>40.643429</td>\n",
       "      <td>-74.073654</td>\n",
       "      <td>40.641872</td>\n",
       "      <td>-74.075699</td>\n",
       "    </tr>\n",
       "    <tr>\n",
       "      <th>2</th>\n",
       "      <td>2</td>\n",
       "      <td>2015-01-05 00:00:00</td>\n",
       "      <td>2015-01-05 00:06:44</td>\n",
       "      <td>404</td>\n",
       "      <td>40.723946</td>\n",
       "      <td>-73.951294</td>\n",
       "      <td>40.697411</td>\n",
       "      <td>-73.964851</td>\n",
       "    </tr>\n",
       "    <tr>\n",
       "      <th>3</th>\n",
       "      <td>3</td>\n",
       "      <td>2015-01-05 00:00:00</td>\n",
       "      <td>2015-01-05 00:01:09</td>\n",
       "      <td>69</td>\n",
       "      <td>40.642979</td>\n",
       "      <td>-73.878334</td>\n",
       "      <td>40.645187</td>\n",
       "      <td>-73.878555</td>\n",
       "    </tr>\n",
       "    <tr>\n",
       "      <th>4</th>\n",
       "      <td>3</td>\n",
       "      <td>2015-01-05 00:00:00</td>\n",
       "      <td>2015-01-05 00:01:09</td>\n",
       "      <td>69</td>\n",
       "      <td>40.642979</td>\n",
       "      <td>-73.878334</td>\n",
       "      <td>40.645187</td>\n",
       "      <td>-73.878555</td>\n",
       "    </tr>\n",
       "  </tbody>\n",
       "</table>\n",
       "</div>"
      ],
      "text/plain": [
       "   type_id            starttime             stoptime  tripduration  start_lat  \\\n",
       "0        6  2015-01-05 00:00:00  2015-01-05 00:01:00            60  40.829098   \n",
       "1        7  2015-01-05 00:00:00  2015-01-05 00:00:45            45  40.643429   \n",
       "2        2  2015-01-05 00:00:00  2015-01-05 00:06:44           404  40.723946   \n",
       "3        3  2015-01-05 00:00:00  2015-01-05 00:01:09            69  40.642979   \n",
       "4        3  2015-01-05 00:00:00  2015-01-05 00:01:09            69  40.642979   \n",
       "\n",
       "   start_lon    end_lat    end_lon  \n",
       "0 -73.874573  40.826763 -73.874023  \n",
       "1 -74.073654  40.641872 -74.075699  \n",
       "2 -73.951294  40.697411 -73.964851  \n",
       "3 -73.878334  40.645187 -73.878555  \n",
       "4 -73.878334  40.645187 -73.878555  "
      ]
     },
     "execution_count": 9,
     "metadata": {},
     "output_type": "execute_result"
    }
   ],
   "source": [
    "df.head()"
   ]
  },
  {
   "cell_type": "code",
   "execution_count": 10,
   "metadata": {
    "collapsed": true
   },
   "outputs": [],
   "source": [
    "df.to_csv(\"/Users/Will/Dropbox/Portfolio/bus/sandbox/output_sorted.csv\")"
   ]
  },
  {
   "cell_type": "code",
   "execution_count": 13,
   "metadata": {
    "collapsed": false
   },
   "outputs": [
    {
     "data": {
      "text/plain": [
       "2046354"
      ]
     },
     "execution_count": 13,
     "metadata": {},
     "output_type": "execute_result"
    }
   ],
   "source": [
    "len(df) -(len(df) / 2)"
   ]
  },
  {
   "cell_type": "markdown",
   "metadata": {
    "collapsed": true
   },
   "source": [
    "drop first column"
   ]
  },
  {
   "cell_type": "code",
   "execution_count": null,
   "metadata": {
    "collapsed": true
   },
   "outputs": [],
   "source": [
    "%%bash\n",
    "\n",
    "cut -d'|' -f2- infile"
   ]
  },
  {
   "cell_type": "markdown",
   "metadata": {},
   "source": [
    "rename files using loop:"
   ]
  },
  {
   "cell_type": "code",
   "execution_count": null,
   "metadata": {
    "collapsed": true
   },
   "outputs": [],
   "source": [
    "%%bash\n",
    "\n",
    "a=1\n",
    "for i in *.jpg; do\n",
    "  new=$(printf \"%04d.jpg\" \"$a\") #04 pad to length of 4\n",
    "  mv -- \"$i\" \"$new\"\n",
    "  let a=a+1\n",
    "done"
   ]
  }
 ],
 "metadata": {
  "anaconda-cloud": {},
  "kernelspec": {
   "display_name": "Python [Root]",
   "language": "python",
   "name": "Python [Root]"
  },
  "language_info": {
   "codemirror_mode": {
    "name": "ipython",
    "version": 2
   },
   "file_extension": ".py",
   "mimetype": "text/x-python",
   "name": "python",
   "nbconvert_exporter": "python",
   "pygments_lexer": "ipython2",
   "version": "2.7.12"
  }
 },
 "nbformat": 4,
 "nbformat_minor": 0
}
